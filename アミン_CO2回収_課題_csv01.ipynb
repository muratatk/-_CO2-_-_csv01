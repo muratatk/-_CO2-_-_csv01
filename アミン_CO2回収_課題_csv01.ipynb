used Google Colab

! pip install numpy
!pip install pandas
!pip install plotly
!pip install nlplot 
!pip install matplotlib
!pip install mecab-python3
!pip install unidic-lite
#　https://blog.since2020.jp/data_analysis/nlplot_questionnaire/#:~:text=%E3%81%AA%E3%81%A3%E3%81%A6%E3%81%BE%E3%81%99%E3%80%82-,nlplot%E3%81%A8%E3%81%AF,%E5%8F%AF%E8%A6%96%E5%8C%96%E3%81%8C%E3%81%A7%E3%81%8D%E3%82%8B%E3%81%9D%E3%81%86%E3%81%A7%E3%81%99%E3%80%82

import pandas as pd
import matplotlib as plt
import os

from google.colab import drive

drive.mount('/content/drive')////////これでマウントできる　Drive already mounted at /content/drive; to attempt to forcibly remount, call drive.mount("/content/drive", force_remount=True).

os.chdir('/content/drive/MyDrive/Python_Content/')・・・・・・Python_Contentフォルダに入れた。

!ls
アミン_CO2回収_解決手段_日本語.csv  アミン_CO2回収_課題_日本語.csv　と応答

pd.set_option('display.max_columns', 500) #DF定義：アミン_CO2回収_解決手段_日本語.csvは313行だが、500行にしておく
#https://github.com/takapy0210/geek_blog/blob/master/nlp/twitter_analytics_using_nlplot/introduction_nlplot_twitter.ipynb

#pd.options.display.float_format = '{:.3f}'.format
pd.set_option('display.max_colwidth', 5000)

#データセットの指定方法 https://atmarkit.itmedia.co.jp/ait/articles/2109/07/news025.html

df1 = pd.read_csv('/content/drive/MyDrive/Python_Content/アミン_CO2回収_解決手段_日本語.csv', header=None)　　#ちゃんと読み込んだ

display(df1.head(3), df1.tail(3), df1.shape)　#データフレームが表示された。0-278だが、まあよかろう。（279，1）


# Google ColabへのMecab-Python3のインストール https://katsuhiroblog.com/python-mecab/

# https://blog.since2020.jp/data_analysis/nlplot_questionnaire/#:~:text=%E3%81%AA%E3%81%A3%E3%81%A6%E3%81%BE%E3%81%99%E3%80%82-,nlplot%E3%81%A8%E3%81%AF,%E5%8F%AF%E8%A6%96%E5%8C%96%E3%81%8C%E3%81%A7%E3%81%8D%E3%82%8B%E3%81%9D%E3%81%86%E3%81%A7%E3%81%99%E3%80%82


import nlplot

# https://qiita.com/jun40vn/items/78e33e29dce3d50c2df1
# 形態素分析ライブラリーMeCab と 辞書(mecab-ipadic-NEologd)のインストール 
#!apt-get -q -y install sudo file mecab libmecab-dev mecab-ipadic-utf8 git curl python-mecab > /dev/null
#!git clone --depth 1 https://github.com/neologd/mecab-ipadic-neologd.git > /dev/null 
#!echo yes | mecab-ipadic-neologd/bin/install-mecab-ipadic-neologd -n > /dev/null 2>&1
#!pip install mecab-python3 > /dev/null

# https://zenn.dev/kwashizzz/articles/nlp-mecab-startup

!apt install aptitude swig

!aptitude install mecab libmecab-dev mecab-ipadic-utf8
!pip install mecab-python3

# シンボリックリンクによるエラー回避
#!ln -s /etc/mecabrc /usr/local/etc/mecabrc

!echo `mecab-config --dicdir`"/mecab-ipadic-neologd"
/usr/lib/x86_64-linux-gnu/mecab/dic/mecab-ipadic-neologd

# 辞書のパスの確認
!echo `mecab-config --dicdir`"/mecab-ipadic-neologd"
/usr/lib/x86_64-linux-gnu/mecab/dic/mecab-ipadic-neologd

import MeCab


''''''''''
import MeCab


# https://boxcode.jp/nlplot%E3%81%8C%E5%87%84%E3%81%84%EF%BC%81%E8%87%AA%E7%84%B6%E8%A8%80%E8%AA%9E%E3%82%92%E5%8F%AF%E8%A6%96%E5%8C%96%E3%83%BB%E5%88%86%E6%9E%90%E3%81%A7%E3%81%8D%E3%82%8Bpython%E3%83%A9%E3%82%A4




# https://qiita.com/hima2b4/items/46688daebfc4c98d729f



def mecab_text(text):
    
    #MeCabのインスタンスを作成（辞書はmecab-ipadic-neologdを使用）
    mecab = MeCab.Tagger('-d/usr/lib/x86_64-linux-gnu/mecab/dic/mecab-ipadic-neologd')
    
    #形態素解析
    node = mecab.parseToNode(text)
    
    #形態素解析した結果を格納するリスト
    wordlist = []
    
    while node:
        #名詞のみリストに格納する
        if node.feature.split(',')[0] == '名詞':
            wordlist.append(node.surface)
        #他の品詞を取得したければ、elifで追加する
        #elif node.feature.split(',')[0] == '形容詞':
        #    wordlist.append(node.surface)
        node = node.next
    return wordlist

#形態素結果をリスト化し、データフレームdf1に結果を列追加する
df1['word'] = df1['text'].apply(mecab_analysis)

#表示
df1
'''''''''''''''''''''''''''''








