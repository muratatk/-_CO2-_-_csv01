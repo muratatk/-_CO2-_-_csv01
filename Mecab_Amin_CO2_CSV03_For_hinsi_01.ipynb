{
  "nbformat": 4,
  "nbformat_minor": 0,
  "metadata": {
    "colab": {
      "provenance": [],
      "authorship_tag": "ABX9TyNfX9zO7vfQ7Ne+xzEmMjR6",
      "include_colab_link": true
    },
    "kernelspec": {
      "name": "python3",
      "display_name": "Python 3"
    },
    "language_info": {
      "name": "python"
    }
  },
  "cells": [
    {
      "cell_type": "markdown",
      "metadata": {
        "id": "view-in-github",
        "colab_type": "text"
      },
      "source": [
        "<a href=\"https://colab.research.google.com/github/muratatk/-_CO2-_-_csv01/blob/main/Mecab_Amin_CO2_CSV03_For_hinsi_01.ipynb\" target=\"_parent\"><img src=\"https://colab.research.google.com/assets/colab-badge.svg\" alt=\"Open In Colab\"/></a>"
      ]
    },
    {
      "cell_type": "code",
      "execution_count": 26,
      "metadata": {
        "colab": {
          "base_uri": "https://localhost:8080/"
        },
        "id": "7I8RggivsfF6",
        "outputId": "d7489d16-5184-4e34-dc6c-97f914cb3bb8"
      },
      "outputs": [
        {
          "output_type": "stream",
          "name": "stdout",
          "text": [
            "Looking in indexes: https://pypi.org/simple, https://us-python.pkg.dev/colab-wheels/public/simple/\n",
            "Requirement already satisfied: pandas in /usr/local/lib/python3.9/dist-packages (1.4.4)\n",
            "Requirement already satisfied: python-dateutil>=2.8.1 in /usr/local/lib/python3.9/dist-packages (from pandas) (2.8.2)\n",
            "Requirement already satisfied: pytz>=2020.1 in /usr/local/lib/python3.9/dist-packages (from pandas) (2022.7.1)\n",
            "Requirement already satisfied: numpy>=1.18.5 in /usr/local/lib/python3.9/dist-packages (from pandas) (1.22.4)\n",
            "Requirement already satisfied: six>=1.5 in /usr/local/lib/python3.9/dist-packages (from python-dateutil>=2.8.1->pandas) (1.15.0)\n"
          ]
        }
      ],
      "source": [
        "!pip install pandas"
      ]
    },
    {
      "cell_type": "code",
      "source": [
        "!pip install plotly"
      ],
      "metadata": {
        "colab": {
          "base_uri": "https://localhost:8080/"
        },
        "id": "qVQgZr57ssL8",
        "outputId": "13fb182c-2ca3-4167-829c-426b60540ecb"
      },
      "execution_count": 27,
      "outputs": [
        {
          "output_type": "stream",
          "name": "stdout",
          "text": [
            "Looking in indexes: https://pypi.org/simple, https://us-python.pkg.dev/colab-wheels/public/simple/\n",
            "Requirement already satisfied: plotly in /usr/local/lib/python3.9/dist-packages (5.5.0)\n",
            "Requirement already satisfied: tenacity>=6.2.0 in /usr/local/lib/python3.9/dist-packages (from plotly) (8.2.2)\n",
            "Requirement already satisfied: six in /usr/local/lib/python3.9/dist-packages (from plotly) (1.15.0)\n"
          ]
        }
      ]
    },
    {
      "cell_type": "code",
      "source": [
        "!pip install nlplot "
      ],
      "metadata": {
        "colab": {
          "base_uri": "https://localhost:8080/"
        },
        "id": "4qH0gUOMsv9J",
        "outputId": "80d05f19-cfb9-4f6c-81df-8e66a276422b"
      },
      "execution_count": 28,
      "outputs": [
        {
          "output_type": "stream",
          "name": "stdout",
          "text": [
            "Looking in indexes: https://pypi.org/simple, https://us-python.pkg.dev/colab-wheels/public/simple/\n",
            "Requirement already satisfied: nlplot in /usr/local/lib/python3.9/dist-packages (1.6.0)\n",
            "Requirement already satisfied: tqdm in /usr/local/lib/python3.9/dist-packages (from nlplot) (4.65.0)\n",
            "Requirement already satisfied: pandas in /usr/local/lib/python3.9/dist-packages (from nlplot) (1.4.4)\n",
            "Requirement already satisfied: ipython in /usr/local/lib/python3.9/dist-packages (from nlplot) (7.9.0)\n",
            "Requirement already satisfied: wordcloud in /usr/local/lib/python3.9/dist-packages (from nlplot) (1.8.2.2)\n",
            "Requirement already satisfied: pillow in /usr/local/lib/python3.9/dist-packages (from nlplot) (8.4.0)\n",
            "Requirement already satisfied: networkx in /usr/local/lib/python3.9/dist-packages (from nlplot) (3.0)\n",
            "Requirement already satisfied: plotly>=4.12.0 in /usr/local/lib/python3.9/dist-packages (from nlplot) (5.5.0)\n",
            "Requirement already satisfied: numpy in /usr/local/lib/python3.9/dist-packages (from nlplot) (1.22.4)\n",
            "Requirement already satisfied: matplotlib in /usr/local/lib/python3.9/dist-packages (from nlplot) (3.5.3)\n",
            "Requirement already satisfied: scikit-learn in /usr/local/lib/python3.9/dist-packages (from nlplot) (1.2.2)\n",
            "Requirement already satisfied: seaborn in /usr/local/lib/python3.9/dist-packages (from nlplot) (0.11.2)\n",
            "Requirement already satisfied: tenacity>=6.2.0 in /usr/local/lib/python3.9/dist-packages (from plotly>=4.12.0->nlplot) (8.2.2)\n",
            "Requirement already satisfied: six in /usr/local/lib/python3.9/dist-packages (from plotly>=4.12.0->nlplot) (1.15.0)\n",
            "Requirement already satisfied: pickleshare in /usr/local/lib/python3.9/dist-packages (from ipython->nlplot) (0.7.5)\n",
            "Requirement already satisfied: backcall in /usr/local/lib/python3.9/dist-packages (from ipython->nlplot) (0.2.0)\n",
            "Requirement already satisfied: pygments in /usr/local/lib/python3.9/dist-packages (from ipython->nlplot) (2.6.1)\n",
            "Requirement already satisfied: prompt-toolkit<2.1.0,>=2.0.0 in /usr/local/lib/python3.9/dist-packages (from ipython->nlplot) (2.0.10)\n",
            "Requirement already satisfied: setuptools>=18.5 in /usr/local/lib/python3.9/dist-packages (from ipython->nlplot) (57.4.0)\n",
            "Requirement already satisfied: decorator in /usr/local/lib/python3.9/dist-packages (from ipython->nlplot) (4.4.2)\n",
            "Requirement already satisfied: jedi>=0.10 in /usr/local/lib/python3.9/dist-packages (from ipython->nlplot) (0.18.2)\n",
            "Requirement already satisfied: traitlets>=4.2 in /usr/local/lib/python3.9/dist-packages (from ipython->nlplot) (5.7.1)\n",
            "Requirement already satisfied: pexpect in /usr/local/lib/python3.9/dist-packages (from ipython->nlplot) (4.8.0)\n",
            "Requirement already satisfied: python-dateutil>=2.7 in /usr/local/lib/python3.9/dist-packages (from matplotlib->nlplot) (2.8.2)\n",
            "Requirement already satisfied: cycler>=0.10 in /usr/local/lib/python3.9/dist-packages (from matplotlib->nlplot) (0.11.0)\n",
            "Requirement already satisfied: pyparsing>=2.2.1 in /usr/local/lib/python3.9/dist-packages (from matplotlib->nlplot) (3.0.9)\n",
            "Requirement already satisfied: fonttools>=4.22.0 in /usr/local/lib/python3.9/dist-packages (from matplotlib->nlplot) (4.39.0)\n",
            "Requirement already satisfied: packaging>=20.0 in /usr/local/lib/python3.9/dist-packages (from matplotlib->nlplot) (23.0)\n",
            "Requirement already satisfied: kiwisolver>=1.0.1 in /usr/local/lib/python3.9/dist-packages (from matplotlib->nlplot) (1.4.4)\n",
            "Requirement already satisfied: pytz>=2020.1 in /usr/local/lib/python3.9/dist-packages (from pandas->nlplot) (2022.7.1)\n",
            "Requirement already satisfied: scipy>=1.3.2 in /usr/local/lib/python3.9/dist-packages (from scikit-learn->nlplot) (1.10.1)\n",
            "Requirement already satisfied: threadpoolctl>=2.0.0 in /usr/local/lib/python3.9/dist-packages (from scikit-learn->nlplot) (3.1.0)\n",
            "Requirement already satisfied: joblib>=1.1.1 in /usr/local/lib/python3.9/dist-packages (from scikit-learn->nlplot) (1.1.1)\n",
            "Requirement already satisfied: parso<0.9.0,>=0.8.0 in /usr/local/lib/python3.9/dist-packages (from jedi>=0.10->ipython->nlplot) (0.8.3)\n",
            "Requirement already satisfied: wcwidth in /usr/local/lib/python3.9/dist-packages (from prompt-toolkit<2.1.0,>=2.0.0->ipython->nlplot) (0.2.6)\n",
            "Requirement already satisfied: ptyprocess>=0.5 in /usr/local/lib/python3.9/dist-packages (from pexpect->ipython->nlplot) (0.7.0)\n"
          ]
        }
      ]
    },
    {
      "cell_type": "code",
      "source": [
        "!pip install matplotlib"
      ],
      "metadata": {
        "colab": {
          "base_uri": "https://localhost:8080/"
        },
        "id": "V6oAQ4sSs1E6",
        "outputId": "1e42a329-d02f-49b5-88df-e30b26612673"
      },
      "execution_count": 29,
      "outputs": [
        {
          "output_type": "stream",
          "name": "stdout",
          "text": [
            "Looking in indexes: https://pypi.org/simple, https://us-python.pkg.dev/colab-wheels/public/simple/\n",
            "Requirement already satisfied: matplotlib in /usr/local/lib/python3.9/dist-packages (3.5.3)\n",
            "Requirement already satisfied: numpy>=1.17 in /usr/local/lib/python3.9/dist-packages (from matplotlib) (1.22.4)\n",
            "Requirement already satisfied: packaging>=20.0 in /usr/local/lib/python3.9/dist-packages (from matplotlib) (23.0)\n",
            "Requirement already satisfied: fonttools>=4.22.0 in /usr/local/lib/python3.9/dist-packages (from matplotlib) (4.39.0)\n",
            "Requirement already satisfied: pyparsing>=2.2.1 in /usr/local/lib/python3.9/dist-packages (from matplotlib) (3.0.9)\n",
            "Requirement already satisfied: kiwisolver>=1.0.1 in /usr/local/lib/python3.9/dist-packages (from matplotlib) (1.4.4)\n",
            "Requirement already satisfied: cycler>=0.10 in /usr/local/lib/python3.9/dist-packages (from matplotlib) (0.11.0)\n",
            "Requirement already satisfied: python-dateutil>=2.7 in /usr/local/lib/python3.9/dist-packages (from matplotlib) (2.8.2)\n",
            "Requirement already satisfied: pillow>=6.2.0 in /usr/local/lib/python3.9/dist-packages (from matplotlib) (8.4.0)\n",
            "Requirement already satisfied: six>=1.5 in /usr/local/lib/python3.9/dist-packages (from python-dateutil>=2.7->matplotlib) (1.15.0)\n"
          ]
        }
      ]
    },
    {
      "cell_type": "code",
      "source": [
        "#　csvは標準ライブラリとしてあるので、インストールする必要はない\n",
        "#　CSVファイルの読み込み書き込み\n",
        "# https://note.nkmk.me/python-csv-reader-writer/"
      ],
      "metadata": {
        "id": "ATHzqpFHs5UW"
      },
      "execution_count": null,
      "outputs": []
    },
    {
      "cell_type": "code",
      "source": [
        "import pandas as pd\n",
        "import matplotlib as plt\n",
        "import os\n"
      ],
      "metadata": {
        "id": "7jPDzDkls7_x"
      },
      "execution_count": 30,
      "outputs": []
    },
    {
      "cell_type": "code",
      "source": [
        "from google.colab import drive"
      ],
      "metadata": {
        "id": "kzEtzWNAs_u_"
      },
      "execution_count": 31,
      "outputs": []
    },
    {
      "cell_type": "code",
      "source": [
        "drive.mount('/content/drive')"
      ],
      "metadata": {
        "colab": {
          "base_uri": "https://localhost:8080/"
        },
        "id": "003avK-htEc1",
        "outputId": "ad996e6a-4f1a-4b61-a270-5cdd3c03ed6f"
      },
      "execution_count": 32,
      "outputs": [
        {
          "output_type": "stream",
          "name": "stdout",
          "text": [
            "Drive already mounted at /content/drive; to attempt to forcibly remount, call drive.mount(\"/content/drive\", force_remount=True).\n"
          ]
        }
      ]
    },
    {
      "cell_type": "code",
      "source": [
        "os.chdir('/content/drive/MyDrive/Python_Content/')"
      ],
      "metadata": {
        "id": "Db45Upr3tSZ7"
      },
      "execution_count": 33,
      "outputs": []
    },
    {
      "cell_type": "code",
      "source": [
        "!ls"
      ],
      "metadata": {
        "colab": {
          "base_uri": "https://localhost:8080/"
        },
        "id": "Rpbcr3FptVlj",
        "outputId": "85f408da-3bca-4063-ba45-c1b4d5771423"
      },
      "execution_count": 34,
      "outputs": [
        {
          "output_type": "stream",
          "name": "stdout",
          "text": [
            "2023-03-08_uni-gram.html  アミン_CO2回収_課題_日本語.csv\n",
            "mecab-ipadic-neologd\t  アミン_CO2回収_課題_日本語.txt\n",
            "newplot.png\t\t  アミン＿CO2回収_課題_検索語.csv\n"
          ]
        }
      ]
    },
    {
      "cell_type": "code",
      "source": [
        "!apt install aptitude"
      ],
      "metadata": {
        "colab": {
          "base_uri": "https://localhost:8080/"
        },
        "id": "odUgqB75tYzU",
        "outputId": "b7b83e06-33d6-4a59-931f-57255ec5aec2"
      },
      "execution_count": 35,
      "outputs": [
        {
          "output_type": "stream",
          "name": "stdout",
          "text": [
            "Reading package lists... Done\n",
            "Building dependency tree       \n",
            "Reading state information... Done\n",
            "aptitude is already the newest version (0.8.12-1ubuntu4).\n",
            "0 upgraded, 0 newly installed, 0 to remove and 22 not upgraded.\n"
          ]
        }
      ]
    },
    {
      "cell_type": "code",
      "source": [
        "!aptitude install mecab libmecab-dev mecab-ipadic-utf8 git make curl xz-utils file -y"
      ],
      "metadata": {
        "colab": {
          "base_uri": "https://localhost:8080/"
        },
        "id": "gSz2nqYruBFa",
        "outputId": "78eac49f-0931-4ee3-89bb-000265f105ea"
      },
      "execution_count": 36,
      "outputs": [
        {
          "output_type": "stream",
          "name": "stdout",
          "text": [
            "mecab is already installed at the requested version (0.996-10build1)\n",
            "libmecab-dev is already installed at the requested version (0.996-10build1)\n",
            "mecab-ipadic-utf8 is already installed at the requested version (2.7.0-20070801+main-2.1)\n",
            "git is already installed at the requested version (1:2.25.1-1ubuntu3.10)\n",
            "make is already installed at the requested version (4.2.1-1.2)\n",
            "curl is already installed at the requested version (7.68.0-1ubuntu2.16)\n",
            "xz-utils is already installed at the requested version (5.2.4-1ubuntu1.1)\n",
            "file is already installed at the requested version (1:5.38-4)\n",
            "mecab is already installed at the requested version (0.996-10build1)\n",
            "libmecab-dev is already installed at the requested version (0.996-10build1)\n",
            "mecab-ipadic-utf8 is already installed at the requested version (2.7.0-20070801+main-2.1)\n",
            "git is already installed at the requested version (1:2.25.1-1ubuntu3.10)\n",
            "make is already installed at the requested version (4.2.1-1.2)\n",
            "curl is already installed at the requested version (7.68.0-1ubuntu2.16)\n",
            "xz-utils is already installed at the requested version (5.2.4-1ubuntu1.1)\n",
            "file is already installed at the requested version (1:5.38-4)\n",
            "No packages will be installed, upgraded, or removed.\n",
            "0 packages upgraded, 0 newly installed, 0 to remove and 22 not upgraded.\n",
            "Need to get 0 B of archives. After unpacking 0 B will be used.\n",
            "                            \n"
          ]
        }
      ]
    },
    {
      "cell_type": "code",
      "source": [
        "!pip install mecab-python3"
      ],
      "metadata": {
        "colab": {
          "base_uri": "https://localhost:8080/"
        },
        "id": "IWE3AYUuuNw0",
        "outputId": "dceeb6cd-23a3-42bc-8d50-e12d88e56036"
      },
      "execution_count": 37,
      "outputs": [
        {
          "output_type": "stream",
          "name": "stdout",
          "text": [
            "Looking in indexes: https://pypi.org/simple, https://us-python.pkg.dev/colab-wheels/public/simple/\n",
            "Requirement already satisfied: mecab-python3 in /usr/local/lib/python3.9/dist-packages (1.0.6)\n"
          ]
        }
      ]
    },
    {
      "cell_type": "code",
      "source": [
        "import MeCab"
      ],
      "metadata": {
        "id": "JzSy9T5luZYD"
      },
      "execution_count": 38,
      "outputs": []
    },
    {
      "cell_type": "code",
      "source": [
        "!pip install unidic"
      ],
      "metadata": {
        "colab": {
          "base_uri": "https://localhost:8080/"
        },
        "id": "7Vb38-cLu7Jx",
        "outputId": "75669474-723d-4737-b060-e9ae9ea93452"
      },
      "execution_count": 39,
      "outputs": [
        {
          "output_type": "stream",
          "name": "stdout",
          "text": [
            "Looking in indexes: https://pypi.org/simple, https://us-python.pkg.dev/colab-wheels/public/simple/\n",
            "Requirement already satisfied: unidic in /usr/local/lib/python3.9/dist-packages (1.1.0)\n",
            "Requirement already satisfied: plac<2.0.0,>=1.1.3 in /usr/local/lib/python3.9/dist-packages (from unidic) (1.3.5)\n",
            "Requirement already satisfied: wasabi<1.0.0,>=0.6.0 in /usr/local/lib/python3.9/dist-packages (from unidic) (0.10.1)\n",
            "Requirement already satisfied: tqdm<5.0.0,>=4.41.1 in /usr/local/lib/python3.9/dist-packages (from unidic) (4.65.0)\n",
            "Requirement already satisfied: requests<3.0.0,>=2.22.0 in /usr/local/lib/python3.9/dist-packages (from unidic) (2.25.1)\n",
            "Requirement already satisfied: idna<3,>=2.5 in /usr/local/lib/python3.9/dist-packages (from requests<3.0.0,>=2.22.0->unidic) (2.10)\n",
            "Requirement already satisfied: chardet<5,>=3.0.2 in /usr/local/lib/python3.9/dist-packages (from requests<3.0.0,>=2.22.0->unidic) (4.0.0)\n",
            "Requirement already satisfied: urllib3<1.27,>=1.21.1 in /usr/local/lib/python3.9/dist-packages (from requests<3.0.0,>=2.22.0->unidic) (1.26.14)\n",
            "Requirement already satisfied: certifi>=2017.4.17 in /usr/local/lib/python3.9/dist-packages (from requests<3.0.0,>=2.22.0->unidic) (2022.12.7)\n"
          ]
        }
      ]
    },
    {
      "cell_type": "code",
      "source": [
        "!python -m unidic download"
      ],
      "metadata": {
        "colab": {
          "base_uri": "https://localhost:8080/"
        },
        "id": "QfaVYkeLvkGi",
        "outputId": "6693d71c-fdae-4c80-b03b-603764676d99"
      },
      "execution_count": 40,
      "outputs": [
        {
          "output_type": "stream",
          "name": "stdout",
          "text": [
            "download url: https://cotonoha-dic.s3-ap-northeast-1.amazonaws.com/unidic-3.1.0.zip\n",
            "Dictionary version: 3.1.0+2021-08-31\n",
            "Downloading UniDic v3.1.0+2021-08-31...\n",
            "unidic-3.1.0.zip: 100% 526M/526M [00:31<00:00, 16.8MB/s]\n",
            "Finished download.\n",
            "Downloaded UniDic v3.1.0+2021-08-31 to /usr/local/lib/python3.9/dist-packages/unidic/dicdir\n"
          ]
        }
      ]
    },
    {
      "cell_type": "code",
      "source": [
        "import MeCab\n",
        "import unidic\n",
        "mecab = MeCab.Tagger()\n",
        "print(mecab.parse(\"私は形態素解析を学んでいます。\"))"
      ],
      "metadata": {
        "colab": {
          "base_uri": "https://localhost:8080/"
        },
        "id": "8vvHJidKv7Po",
        "outputId": "f69d791a-faba-4260-eefb-b3f2ca81dbd2"
      },
      "execution_count": 41,
      "outputs": [
        {
          "output_type": "stream",
          "name": "stdout",
          "text": [
            "私\t代名詞,,,,,,ワタクシ,私-代名詞,私,ワタクシ,私,ワタクシ,和,\"\",\"\",\"\",\"\",\"\",\"\",体,ワタクシ,ワタクシ,ワタクシ,ワタクシ,\"0\",\"\",\"\",11345327978324480,41274\n",
            "は\t助詞,係助詞,,,,,ハ,は,は,ワ,は,ワ,和,\"\",\"\",\"\",\"\",\"\",\"\",係助,ハ,ハ,ハ,ハ,\"\",\"動詞%F2@0,名詞%F1,形容詞%F2@-1\",\"\",8059703733133824,29321\n",
            "形態\t名詞,普通名詞,一般,,,,ケイタイ,形態,形態,ケータイ,形態,ケータイ,漢,\"\",\"\",\"\",\"\",\"\",\"\",体,ケイタイ,ケイタイ,ケイタイ,ケイタイ,\"0\",\"C2\",\"\",3024215389381120,11002\n",
            "素\t接尾辞,名詞的,一般,,,,ソ,素,素,ソ,素,ソ,漢,\"\",\"\",\"\",\"\",\"\",\"\",接尾体,ソ,ソ,ソ,ソ,\"\",\"C3\",\"\",5752103704338944,20926\n",
            "解析\t名詞,普通名詞,サ変可能,,,,カイセキ,解析,解析,カイセキ,解析,カイセキ,漢,\"\",\"\",\"\",\"\",\"\",\"\",体,カイセキ,カイセキ,カイセキ,カイセキ,\"0\",\"C2\",\"\",1590177315299840,5785\n",
            "を\t助詞,格助詞,,,,,ヲ,を,を,オ,を,オ,和,\"\",\"\",\"\",\"\",\"\",\"\",格助,ヲ,ヲ,ヲ,ヲ,\"\",\"動詞%F2@0,名詞%F1,形容詞%F2@-1\",\"\",11381878116459008,41407\n",
            "学ん\t動詞,一般,,,五段-バ行,連用形-撥音便,マナブ,学ぶ,学ん,マナン,学ぶ,マナブ,和,\"\",\"\",\"\",\"\",\"\",\"\",用,マナン,マナブ,マナン,マナブ,\"0,2\",\"C2\",\"\",9878570876936837,35938\n",
            "で\t助詞,接続助詞,,,,,テ,て,で,デ,で,デ,和,\"\",\"\",\"\",\"\",\"\",\"\",接助,デ,デ,デ,デ,\"\",\"動詞%F1,形容詞%F2@-1\",\"\",6837330270888448,24874\n",
            "い\t動詞,非自立可能,,,上一段-ア行,連用形-一般,イル,居る,い,イ,いる,イル,和,\"\",\"\",\"\",\"\",\"\",\"\",用,イ,イル,イ,イル,\"0\",\"C4\",\"M4@1\",710568013079169,2585\n",
            "ます\t助動詞,,,,助動詞-マス,終止形-一般,マス,ます,ます,マス,ます,マス,和,\"\",\"\",\"\",\"\",\"\",\"\",助動,マス,マス,マス,マス,\"\",\"動詞%F4@1\",\"\",9812325267808939,35697\n",
            "。\t補助記号,句点,,,,,,。,。,,。,,記号,\"\",\"\",\"\",\"\",\"\",\"\",補助,,,,,\"\",\"\",\"\",6880571302400,25\n",
            "EOS\n",
            "\n"
          ]
        }
      ]
    },
    {
      "cell_type": "code",
      "source": [
        "mecab = MeCab.Tagger('-Owakati')\n",
        "print(mecab.parse(\"私は形態素解析を学んでいます。\"))"
      ],
      "metadata": {
        "colab": {
          "base_uri": "https://localhost:8080/"
        },
        "id": "GREYpb49wODf",
        "outputId": "7367d010-cf44-45db-e770-cb5eb5271f54"
      },
      "execution_count": 42,
      "outputs": [
        {
          "output_type": "stream",
          "name": "stdout",
          "text": [
            "私 は 形態 素 解析 を 学ん で い ます 。 \n",
            "\n"
          ]
        }
      ]
    },
    {
      "cell_type": "code",
      "source": [
        "import csv\n",
        "import sys\n",
        "import pandas as pd \n",
        "import pprint"
      ],
      "metadata": {
        "id": "5_L8R0uGwT36"
      },
      "execution_count": 44,
      "outputs": []
    },
    {
      "cell_type": "code",
      "source": [
        "# https://your-3d.com/pytho-mecab-frequencywords/"
      ],
      "metadata": {
        "id": "IDekWuG0gUhk"
      },
      "execution_count": null,
      "outputs": []
    },
    {
      "cell_type": "code",
      "source": [
        "# https://qiita.com/Kosuke_Matsui/items/eefd41da98bd323bb423"
      ],
      "metadata": {
        "id": "_M78d7RkhiMB"
      },
      "execution_count": null,
      "outputs": []
    },
    {
      "cell_type": "code",
      "source": [
        "df = pd.read_csv('/content/drive/MyDrive/Python_Content/アミン＿CO2回収_課題_検索語.csv')"
      ],
      "metadata": {
        "id": "Mt1wPGl9gZax"
      },
      "execution_count": 70,
      "outputs": []
    },
    {
      "cell_type": "code",
      "source": [
        "df"
      ],
      "metadata": {
        "colab": {
          "base_uri": "https://localhost:8080/",
          "height": 79
        },
        "id": "rddgMAh0hnYg",
        "outputId": "4233179d-7033-4abd-d5c9-62fc2d3db3a0"
      },
      "execution_count": 79,
      "outputs": [
        {
          "output_type": "execute_result",
          "data": {
            "text/plain": [
              "Empty DataFrame\n",
              "Columns: [ あたり,  あっ,  あり,  ある,  い,  いる,  うる,  および,  おり,  か,  かかる,  かける,  かつ,  から,  が,  ここ,  こと,  この,  これ,  これら,  さ,  させ,  さらに,  し,  しかも,  じん,  すぐれる,  すなわち,  する,  ず,  せ,  せる,  そして,  その,  その他,  その後,  それ,  それぞれ,  それら,  た,  ただし,  ため,  だ,  だけ,  つ,  つつ,  て,  で,  でき,  できる,  でも,  と,  という,  とき,  として,  とともに,  と共に,  な,  ない,  ないし,  なかっ,  ながら,  なく,  など,  なら,  ならびに,  なり,  なる,  に,  において,  における,  について,  にて,  によって,  により,  による,  に対し,  に対して,  に対する,  に関し,  に関する,  に際し,  の,  のみ,  は,  ばい,  びこのような,  へ,  ほとんど,  ほぼ,  また,  または,  まで,  も,  もたらす,  もの,  や,  よう,  よく,  より, ...]\n",
              "Index: []\n",
              "\n",
              "[0 rows x 1102 columns]"
            ],
            "text/html": [
              "\n",
              "  <div id=\"df-5befa6cf-ab72-4480-b726-dd16e5b80399\">\n",
              "    <div class=\"colab-df-container\">\n",
              "      <div>\n",
              "<style scoped>\n",
              "    .dataframe tbody tr th:only-of-type {\n",
              "        vertical-align: middle;\n",
              "    }\n",
              "\n",
              "    .dataframe tbody tr th {\n",
              "        vertical-align: top;\n",
              "    }\n",
              "\n",
              "    .dataframe thead th {\n",
              "        text-align: right;\n",
              "    }\n",
              "</style>\n",
              "<table border=\"1\" class=\"dataframe\">\n",
              "  <thead>\n",
              "    <tr style=\"text-align: right;\">\n",
              "      <th></th>\n",
              "      <th>あたり</th>\n",
              "      <th>あっ</th>\n",
              "      <th>あり</th>\n",
              "      <th>ある</th>\n",
              "      <th>い</th>\n",
              "      <th>いる</th>\n",
              "      <th>うる</th>\n",
              "      <th>および</th>\n",
              "      <th>おり</th>\n",
              "      <th>か</th>\n",
              "      <th>...</th>\n",
              "      <th>ｇ</th>\n",
              "      <th>ｉ</th>\n",
              "      <th>ｍ</th>\n",
              "      <th>ｎ</th>\n",
              "      <th>ｎｍ</th>\n",
              "      <th>ｏ</th>\n",
              "      <th>ｐＫａ</th>\n",
              "      <th>ｐｐｍ</th>\n",
              "      <th>ｗ</th>\n",
              "      <th>ｘ</th>\n",
              "    </tr>\n",
              "  </thead>\n",
              "  <tbody>\n",
              "  </tbody>\n",
              "</table>\n",
              "<p>0 rows × 1102 columns</p>\n",
              "</div>\n",
              "      <button class=\"colab-df-convert\" onclick=\"convertToInteractive('df-5befa6cf-ab72-4480-b726-dd16e5b80399')\"\n",
              "              title=\"Convert this dataframe to an interactive table.\"\n",
              "              style=\"display:none;\">\n",
              "        \n",
              "  <svg xmlns=\"http://www.w3.org/2000/svg\" height=\"24px\"viewBox=\"0 0 24 24\"\n",
              "       width=\"24px\">\n",
              "    <path d=\"M0 0h24v24H0V0z\" fill=\"none\"/>\n",
              "    <path d=\"M18.56 5.44l.94 2.06.94-2.06 2.06-.94-2.06-.94-.94-2.06-.94 2.06-2.06.94zm-11 1L8.5 8.5l.94-2.06 2.06-.94-2.06-.94L8.5 2.5l-.94 2.06-2.06.94zm10 10l.94 2.06.94-2.06 2.06-.94-2.06-.94-.94-2.06-.94 2.06-2.06.94z\"/><path d=\"M17.41 7.96l-1.37-1.37c-.4-.4-.92-.59-1.43-.59-.52 0-1.04.2-1.43.59L10.3 9.45l-7.72 7.72c-.78.78-.78 2.05 0 2.83L4 21.41c.39.39.9.59 1.41.59.51 0 1.02-.2 1.41-.59l7.78-7.78 2.81-2.81c.8-.78.8-2.07 0-2.86zM5.41 20L4 18.59l7.72-7.72 1.47 1.35L5.41 20z\"/>\n",
              "  </svg>\n",
              "      </button>\n",
              "      \n",
              "  <style>\n",
              "    .colab-df-container {\n",
              "      display:flex;\n",
              "      flex-wrap:wrap;\n",
              "      gap: 12px;\n",
              "    }\n",
              "\n",
              "    .colab-df-convert {\n",
              "      background-color: #E8F0FE;\n",
              "      border: none;\n",
              "      border-radius: 50%;\n",
              "      cursor: pointer;\n",
              "      display: none;\n",
              "      fill: #1967D2;\n",
              "      height: 32px;\n",
              "      padding: 0 0 0 0;\n",
              "      width: 32px;\n",
              "    }\n",
              "\n",
              "    .colab-df-convert:hover {\n",
              "      background-color: #E2EBFA;\n",
              "      box-shadow: 0px 1px 2px rgba(60, 64, 67, 0.3), 0px 1px 3px 1px rgba(60, 64, 67, 0.15);\n",
              "      fill: #174EA6;\n",
              "    }\n",
              "\n",
              "    [theme=dark] .colab-df-convert {\n",
              "      background-color: #3B4455;\n",
              "      fill: #D2E3FC;\n",
              "    }\n",
              "\n",
              "    [theme=dark] .colab-df-convert:hover {\n",
              "      background-color: #434B5C;\n",
              "      box-shadow: 0px 1px 3px 1px rgba(0, 0, 0, 0.15);\n",
              "      filter: drop-shadow(0px 1px 2px rgba(0, 0, 0, 0.3));\n",
              "      fill: #FFFFFF;\n",
              "    }\n",
              "  </style>\n",
              "\n",
              "      <script>\n",
              "        const buttonEl =\n",
              "          document.querySelector('#df-5befa6cf-ab72-4480-b726-dd16e5b80399 button.colab-df-convert');\n",
              "        buttonEl.style.display =\n",
              "          google.colab.kernel.accessAllowed ? 'block' : 'none';\n",
              "\n",
              "        async function convertToInteractive(key) {\n",
              "          const element = document.querySelector('#df-5befa6cf-ab72-4480-b726-dd16e5b80399');\n",
              "          const dataTable =\n",
              "            await google.colab.kernel.invokeFunction('convertToInteractive',\n",
              "                                                     [key], {});\n",
              "          if (!dataTable) return;\n",
              "\n",
              "          const docLinkHtml = 'Like what you see? Visit the ' +\n",
              "            '<a target=\"_blank\" href=https://colab.research.google.com/notebooks/data_table.ipynb>data table notebook</a>'\n",
              "            + ' to learn more about interactive tables.';\n",
              "          element.innerHTML = '';\n",
              "          dataTable['output_type'] = 'display_data';\n",
              "          await google.colab.output.renderOutput(dataTable, element);\n",
              "          const docLink = document.createElement('div');\n",
              "          docLink.innerHTML = docLinkHtml;\n",
              "          element.appendChild(docLink);\n",
              "        }\n",
              "      </script>\n",
              "    </div>\n",
              "  </div>\n",
              "  "
            ]
          },
          "metadata": {},
          "execution_count": 79
        }
      ]
    },
    {
      "cell_type": "code",
      "source": [
        "import os\n",
        "\n",
        "# テキストファイル (kadai.txt) として出力\n",
        "df.to_csv(\"kadai.csv\")\n",
        "\n",
        "# メモ帳では文字化けしない\n",
        "#　/content/drive/MyDrive/Python_Content/kadai.csv\n",
        "\n",
        "# https://megane-man666.hatenablog.com/entry/to_csv"
      ],
      "metadata": {
        "id": "_PxlhQ_C5WeY"
      },
      "execution_count": 80,
      "outputs": []
    },
    {
      "cell_type": "code",
      "source": [
        "!pip install openpyxl"
      ],
      "metadata": {
        "colab": {
          "base_uri": "https://localhost:8080/"
        },
        "id": "FkFNTeShE1Sy",
        "outputId": "3b8fddd8-9c26-4548-d085-ea0a29d41e8b"
      },
      "execution_count": 81,
      "outputs": [
        {
          "output_type": "stream",
          "name": "stdout",
          "text": [
            "Looking in indexes: https://pypi.org/simple, https://us-python.pkg.dev/colab-wheels/public/simple/\n",
            "Requirement already satisfied: openpyxl in /usr/local/lib/python3.9/dist-packages (3.0.10)\n",
            "Requirement already satisfied: et-xmlfile in /usr/local/lib/python3.9/dist-packages (from openpyxl) (1.1.0)\n"
          ]
        }
      ]
    },
    {
      "cell_type": "code",
      "source": [
        "import csv\n",
        "import openpyxl\n",
        "\n",
        "csv_path = \"/content/drive/MyDrive/Python_Content/kadai.csv\"\n",
        "\n",
        "# csvファイルをテキスト形式にして/content/drive/MyDrive/Python_Content/kadai.txtとしてアップロード\n"
      ],
      "metadata": {
        "id": "aC7TXIUfTLLg"
      },
      "execution_count": 83,
      "outputs": []
    }
  ]
}