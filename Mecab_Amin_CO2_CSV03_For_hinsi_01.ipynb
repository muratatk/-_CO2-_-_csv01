{
  "nbformat": 4,
  "nbformat_minor": 0,
  "metadata": {
    "colab": {
      "provenance": [],
      "authorship_tag": "ABX9TyPkFbomA15MdmRXV3UTA0o4",
      "include_colab_link": true
    },
    "kernelspec": {
      "name": "python3",
      "display_name": "Python 3"
    },
    "language_info": {
      "name": "python"
    }
  },
  "cells": [
    {
      "cell_type": "markdown",
      "metadata": {
        "id": "view-in-github",
        "colab_type": "text"
      },
      "source": [
        "<a href=\"https://colab.research.google.com/github/muratatk/-_CO2-_-_csv01/blob/main/Mecab_Amin_CO2_CSV03_For_hinsi_01.ipynb\" target=\"_parent\"><img src=\"https://colab.research.google.com/assets/colab-badge.svg\" alt=\"Open In Colab\"/></a>"
      ]
    },
    {
      "cell_type": "code",
      "execution_count": 1,
      "metadata": {
        "colab": {
          "base_uri": "https://localhost:8080/"
        },
        "id": "7I8RggivsfF6",
        "outputId": "71fce2d5-5f5a-454d-d9e6-f65792671d8d"
      },
      "outputs": [
        {
          "output_type": "stream",
          "name": "stdout",
          "text": [
            "Looking in indexes: https://pypi.org/simple, https://us-python.pkg.dev/colab-wheels/public/simple/\n",
            "Requirement already satisfied: pandas in /usr/local/lib/python3.9/dist-packages (1.3.5)\n",
            "Requirement already satisfied: python-dateutil>=2.7.3 in /usr/local/lib/python3.9/dist-packages (from pandas) (2.8.2)\n",
            "Requirement already satisfied: numpy>=1.17.3 in /usr/local/lib/python3.9/dist-packages (from pandas) (1.22.4)\n",
            "Requirement already satisfied: pytz>=2017.3 in /usr/local/lib/python3.9/dist-packages (from pandas) (2022.7.1)\n",
            "Requirement already satisfied: six>=1.5 in /usr/local/lib/python3.9/dist-packages (from python-dateutil>=2.7.3->pandas) (1.15.0)\n"
          ]
        }
      ],
      "source": [
        "!pip install pandas"
      ]
    },
    {
      "cell_type": "code",
      "source": [
        "!pip install plotly"
      ],
      "metadata": {
        "colab": {
          "base_uri": "https://localhost:8080/"
        },
        "id": "qVQgZr57ssL8",
        "outputId": "1c9c0264-3c98-4f5d-a5a6-7da92eec8310"
      },
      "execution_count": 2,
      "outputs": [
        {
          "output_type": "stream",
          "name": "stdout",
          "text": [
            "Looking in indexes: https://pypi.org/simple, https://us-python.pkg.dev/colab-wheels/public/simple/\n",
            "Requirement already satisfied: plotly in /usr/local/lib/python3.9/dist-packages (5.5.0)\n",
            "Requirement already satisfied: tenacity>=6.2.0 in /usr/local/lib/python3.9/dist-packages (from plotly) (8.2.2)\n",
            "Requirement already satisfied: six in /usr/local/lib/python3.9/dist-packages (from plotly) (1.15.0)\n"
          ]
        }
      ]
    },
    {
      "cell_type": "code",
      "source": [
        "!pip install nlplot "
      ],
      "metadata": {
        "colab": {
          "base_uri": "https://localhost:8080/"
        },
        "id": "4qH0gUOMsv9J",
        "outputId": "d36ea4a9-bdbc-48b3-f637-c516e888db60"
      },
      "execution_count": 3,
      "outputs": [
        {
          "output_type": "stream",
          "name": "stdout",
          "text": [
            "Looking in indexes: https://pypi.org/simple, https://us-python.pkg.dev/colab-wheels/public/simple/\n",
            "Collecting nlplot\n",
            "  Downloading nlplot-1.6.0-py3-none-any.whl (967 kB)\n",
            "\u001b[2K     \u001b[90m━━━━━━━━━━━━━━━━━━━━━━━━━━━━━━━━━━━━━━\u001b[0m \u001b[32m967.9/967.9 KB\u001b[0m \u001b[31m15.4 MB/s\u001b[0m eta \u001b[36m0:00:00\u001b[0m\n",
            "\u001b[?25hRequirement already satisfied: seaborn in /usr/local/lib/python3.9/dist-packages (from nlplot) (0.11.2)\n",
            "Requirement already satisfied: tqdm in /usr/local/lib/python3.9/dist-packages (from nlplot) (4.65.0)\n",
            "Requirement already satisfied: scikit-learn in /usr/local/lib/python3.9/dist-packages (from nlplot) (1.2.1)\n",
            "Requirement already satisfied: matplotlib in /usr/local/lib/python3.9/dist-packages (from nlplot) (3.5.3)\n",
            "Requirement already satisfied: networkx in /usr/local/lib/python3.9/dist-packages (from nlplot) (3.0)\n",
            "Requirement already satisfied: plotly>=4.12.0 in /usr/local/lib/python3.9/dist-packages (from nlplot) (5.5.0)\n",
            "Requirement already satisfied: pandas in /usr/local/lib/python3.9/dist-packages (from nlplot) (1.3.5)\n",
            "Requirement already satisfied: numpy in /usr/local/lib/python3.9/dist-packages (from nlplot) (1.22.4)\n",
            "Requirement already satisfied: ipython in /usr/local/lib/python3.9/dist-packages (from nlplot) (7.9.0)\n",
            "Requirement already satisfied: pillow in /usr/local/lib/python3.9/dist-packages (from nlplot) (8.4.0)\n",
            "Requirement already satisfied: wordcloud in /usr/local/lib/python3.9/dist-packages (from nlplot) (1.8.2.2)\n",
            "Requirement already satisfied: tenacity>=6.2.0 in /usr/local/lib/python3.9/dist-packages (from plotly>=4.12.0->nlplot) (8.2.2)\n",
            "Requirement already satisfied: six in /usr/local/lib/python3.9/dist-packages (from plotly>=4.12.0->nlplot) (1.15.0)\n",
            "Requirement already satisfied: setuptools>=18.5 in /usr/local/lib/python3.9/dist-packages (from ipython->nlplot) (57.4.0)\n",
            "Requirement already satisfied: prompt-toolkit<2.1.0,>=2.0.0 in /usr/local/lib/python3.9/dist-packages (from ipython->nlplot) (2.0.10)\n",
            "Requirement already satisfied: backcall in /usr/local/lib/python3.9/dist-packages (from ipython->nlplot) (0.2.0)\n",
            "Requirement already satisfied: traitlets>=4.2 in /usr/local/lib/python3.9/dist-packages (from ipython->nlplot) (5.7.1)\n",
            "Requirement already satisfied: decorator in /usr/local/lib/python3.9/dist-packages (from ipython->nlplot) (4.4.2)\n",
            "Requirement already satisfied: pygments in /usr/local/lib/python3.9/dist-packages (from ipython->nlplot) (2.6.1)\n",
            "Requirement already satisfied: pexpect in /usr/local/lib/python3.9/dist-packages (from ipython->nlplot) (4.8.0)\n",
            "Requirement already satisfied: pickleshare in /usr/local/lib/python3.9/dist-packages (from ipython->nlplot) (0.7.5)\n",
            "Collecting jedi>=0.10\n",
            "  Downloading jedi-0.18.2-py2.py3-none-any.whl (1.6 MB)\n",
            "\u001b[2K     \u001b[90m━━━━━━━━━━━━━━━━━━━━━━━━━━━━━━━━━━━━━━━━\u001b[0m \u001b[32m1.6/1.6 MB\u001b[0m \u001b[31m61.7 MB/s\u001b[0m eta \u001b[36m0:00:00\u001b[0m\n",
            "\u001b[?25hRequirement already satisfied: cycler>=0.10 in /usr/local/lib/python3.9/dist-packages (from matplotlib->nlplot) (0.11.0)\n",
            "Requirement already satisfied: pyparsing>=2.2.1 in /usr/local/lib/python3.9/dist-packages (from matplotlib->nlplot) (3.0.9)\n",
            "Requirement already satisfied: kiwisolver>=1.0.1 in /usr/local/lib/python3.9/dist-packages (from matplotlib->nlplot) (1.4.4)\n",
            "Requirement already satisfied: fonttools>=4.22.0 in /usr/local/lib/python3.9/dist-packages (from matplotlib->nlplot) (4.39.0)\n",
            "Requirement already satisfied: packaging>=20.0 in /usr/local/lib/python3.9/dist-packages (from matplotlib->nlplot) (23.0)\n",
            "Requirement already satisfied: python-dateutil>=2.7 in /usr/local/lib/python3.9/dist-packages (from matplotlib->nlplot) (2.8.2)\n",
            "Requirement already satisfied: pytz>=2017.3 in /usr/local/lib/python3.9/dist-packages (from pandas->nlplot) (2022.7.1)\n",
            "Requirement already satisfied: threadpoolctl>=2.0.0 in /usr/local/lib/python3.9/dist-packages (from scikit-learn->nlplot) (3.1.0)\n",
            "Requirement already satisfied: joblib>=1.1.1 in /usr/local/lib/python3.9/dist-packages (from scikit-learn->nlplot) (1.2.0)\n",
            "Requirement already satisfied: scipy>=1.3.2 in /usr/local/lib/python3.9/dist-packages (from scikit-learn->nlplot) (1.10.1)\n",
            "Requirement already satisfied: parso<0.9.0,>=0.8.0 in /usr/local/lib/python3.9/dist-packages (from jedi>=0.10->ipython->nlplot) (0.8.3)\n",
            "Requirement already satisfied: wcwidth in /usr/local/lib/python3.9/dist-packages (from prompt-toolkit<2.1.0,>=2.0.0->ipython->nlplot) (0.2.6)\n",
            "Requirement already satisfied: ptyprocess>=0.5 in /usr/local/lib/python3.9/dist-packages (from pexpect->ipython->nlplot) (0.7.0)\n",
            "Installing collected packages: jedi, nlplot\n",
            "Successfully installed jedi-0.18.2 nlplot-1.6.0\n"
          ]
        }
      ]
    },
    {
      "cell_type": "code",
      "source": [
        "!pip install matplotlib"
      ],
      "metadata": {
        "colab": {
          "base_uri": "https://localhost:8080/"
        },
        "id": "V6oAQ4sSs1E6",
        "outputId": "e5d7ad6b-236b-4b16-d61f-6baef6e6672a"
      },
      "execution_count": 4,
      "outputs": [
        {
          "output_type": "stream",
          "name": "stdout",
          "text": [
            "Looking in indexes: https://pypi.org/simple, https://us-python.pkg.dev/colab-wheels/public/simple/\n",
            "Requirement already satisfied: matplotlib in /usr/local/lib/python3.9/dist-packages (3.5.3)\n",
            "Requirement already satisfied: pillow>=6.2.0 in /usr/local/lib/python3.9/dist-packages (from matplotlib) (8.4.0)\n",
            "Requirement already satisfied: python-dateutil>=2.7 in /usr/local/lib/python3.9/dist-packages (from matplotlib) (2.8.2)\n",
            "Requirement already satisfied: fonttools>=4.22.0 in /usr/local/lib/python3.9/dist-packages (from matplotlib) (4.39.0)\n",
            "Requirement already satisfied: numpy>=1.17 in /usr/local/lib/python3.9/dist-packages (from matplotlib) (1.22.4)\n",
            "Requirement already satisfied: kiwisolver>=1.0.1 in /usr/local/lib/python3.9/dist-packages (from matplotlib) (1.4.4)\n",
            "Requirement already satisfied: pyparsing>=2.2.1 in /usr/local/lib/python3.9/dist-packages (from matplotlib) (3.0.9)\n",
            "Requirement already satisfied: packaging>=20.0 in /usr/local/lib/python3.9/dist-packages (from matplotlib) (23.0)\n",
            "Requirement already satisfied: cycler>=0.10 in /usr/local/lib/python3.9/dist-packages (from matplotlib) (0.11.0)\n",
            "Requirement already satisfied: six>=1.5 in /usr/local/lib/python3.9/dist-packages (from python-dateutil>=2.7->matplotlib) (1.15.0)\n"
          ]
        }
      ]
    },
    {
      "cell_type": "code",
      "source": [
        "#　csvは標準ライブラリとしてあるので、インストールする必要はない\n",
        "#　CSVファイルの読み込み書き込み\n",
        "# https://note.nkmk.me/python-csv-reader-writer/"
      ],
      "metadata": {
        "id": "ATHzqpFHs5UW"
      },
      "execution_count": null,
      "outputs": []
    },
    {
      "cell_type": "code",
      "source": [
        "import pandas as pd\n",
        "import matplotlib as plt\n",
        "import os\n"
      ],
      "metadata": {
        "id": "7jPDzDkls7_x"
      },
      "execution_count": 5,
      "outputs": []
    },
    {
      "cell_type": "code",
      "source": [
        "from google.colab import drive"
      ],
      "metadata": {
        "id": "kzEtzWNAs_u_"
      },
      "execution_count": 6,
      "outputs": []
    },
    {
      "cell_type": "code",
      "source": [
        "drive.mount('/content/drive')"
      ],
      "metadata": {
        "colab": {
          "base_uri": "https://localhost:8080/"
        },
        "id": "003avK-htEc1",
        "outputId": "4f4e134e-fa5a-465c-c83b-4aaabe2b78d2"
      },
      "execution_count": 7,
      "outputs": [
        {
          "output_type": "stream",
          "name": "stdout",
          "text": [
            "Mounted at /content/drive\n"
          ]
        }
      ]
    },
    {
      "cell_type": "code",
      "source": [
        "os.chdir('/content/drive/MyDrive/Python_Content/')"
      ],
      "metadata": {
        "id": "Db45Upr3tSZ7"
      },
      "execution_count": 8,
      "outputs": []
    },
    {
      "cell_type": "code",
      "source": [
        "!ls"
      ],
      "metadata": {
        "colab": {
          "base_uri": "https://localhost:8080/"
        },
        "id": "Rpbcr3FptVlj",
        "outputId": "591e8189-325a-46ff-b859-1386c3850ebb"
      },
      "execution_count": 9,
      "outputs": [
        {
          "output_type": "stream",
          "name": "stdout",
          "text": [
            "2023-03-08_uni-gram.html  アミン_CO2回収_課題_日本語.csv\n",
            "mecab-ipadic-neologd\t  アミン_CO2回収_課題_日本語.txt\n",
            "newplot.png\t\t  アミン＿CO2回収_課題_検索語.csv\n"
          ]
        }
      ]
    },
    {
      "cell_type": "code",
      "source": [
        "!apt install aptitude"
      ],
      "metadata": {
        "colab": {
          "base_uri": "https://localhost:8080/"
        },
        "id": "odUgqB75tYzU",
        "outputId": "7b054208-af5f-43e7-b941-0295eac5f06b"
      },
      "execution_count": 13,
      "outputs": [
        {
          "output_type": "stream",
          "name": "stdout",
          "text": [
            "Reading package lists... Done\n",
            "Building dependency tree       \n",
            "Reading state information... Done\n",
            "The following additional packages will be installed:\n",
            "  aptitude-common libcgi-fast-perl libcgi-pm-perl libclass-accessor-perl\n",
            "  libcwidget4 libencode-locale-perl libfcgi-perl libhtml-parser-perl\n",
            "  libhtml-tagset-perl libhttp-date-perl libhttp-message-perl libio-html-perl\n",
            "  libio-string-perl liblwp-mediatypes-perl libparse-debianchangelog-perl\n",
            "  libsigc++-2.0-0v5 libsub-name-perl liburi-perl libxapian30\n",
            "Suggested packages:\n",
            "  aptitude-doc-en | aptitude-doc apt-xapian-index debtags tasksel\n",
            "  libcwidget-dev libdata-dump-perl libhtml-template-perl libxml-simple-perl\n",
            "  libwww-perl xapian-tools\n",
            "The following NEW packages will be installed:\n",
            "  aptitude aptitude-common libcgi-fast-perl libcgi-pm-perl\n",
            "  libclass-accessor-perl libcwidget4 libencode-locale-perl libfcgi-perl\n",
            "  libhtml-parser-perl libhtml-tagset-perl libhttp-date-perl\n",
            "  libhttp-message-perl libio-html-perl libio-string-perl\n",
            "  liblwp-mediatypes-perl libparse-debianchangelog-perl libsigc++-2.0-0v5\n",
            "  libsub-name-perl liburi-perl libxapian30\n",
            "0 upgraded, 20 newly installed, 0 to remove and 22 not upgraded.\n",
            "Need to get 4,645 kB of archives.\n",
            "After this operation, 20.9 MB of additional disk space will be used.\n",
            "Get:1 http://archive.ubuntu.com/ubuntu focal/universe amd64 aptitude-common all 0.8.12-1ubuntu4 [1,711 kB]\n",
            "Get:2 http://archive.ubuntu.com/ubuntu focal/main amd64 libsigc++-2.0-0v5 amd64 2.10.2-1build1 [11.7 kB]\n",
            "Get:3 http://archive.ubuntu.com/ubuntu focal/universe amd64 libcwidget4 amd64 0.5.18-5build1 [306 kB]\n",
            "Get:4 http://archive.ubuntu.com/ubuntu focal/universe amd64 libxapian30 amd64 1.4.14-2 [661 kB]\n",
            "Get:5 http://archive.ubuntu.com/ubuntu focal/universe amd64 aptitude amd64 0.8.12-1ubuntu4 [1,323 kB]\n",
            "Get:6 http://archive.ubuntu.com/ubuntu focal/main amd64 libhtml-tagset-perl all 3.20-4 [12.5 kB]\n",
            "Get:7 http://archive.ubuntu.com/ubuntu focal/main amd64 liburi-perl all 1.76-2 [77.5 kB]\n",
            "Get:8 http://archive.ubuntu.com/ubuntu focal/main amd64 libhtml-parser-perl amd64 3.72-5 [86.3 kB]\n",
            "Get:9 http://archive.ubuntu.com/ubuntu focal/main amd64 libcgi-pm-perl all 4.46-1 [186 kB]\n",
            "Get:10 http://archive.ubuntu.com/ubuntu focal/main amd64 libfcgi-perl amd64 0.79-1 [33.1 kB]\n",
            "Get:11 http://archive.ubuntu.com/ubuntu focal/main amd64 libcgi-fast-perl all 1:2.15-1 [10.5 kB]\n",
            "Get:12 http://archive.ubuntu.com/ubuntu focal/main amd64 libsub-name-perl amd64 0.26-1 [11.5 kB]\n",
            "Get:13 http://archive.ubuntu.com/ubuntu focal/universe amd64 libclass-accessor-perl all 0.51-1 [21.2 kB]\n",
            "Get:14 http://archive.ubuntu.com/ubuntu focal/main amd64 libencode-locale-perl all 1.05-1 [12.3 kB]\n",
            "Get:15 http://archive.ubuntu.com/ubuntu focal/main amd64 libhttp-date-perl all 6.05-1 [9,920 B]\n",
            "Get:16 http://archive.ubuntu.com/ubuntu focal/main amd64 libio-html-perl all 1.001-1 [14.9 kB]\n",
            "Get:17 http://archive.ubuntu.com/ubuntu focal/main amd64 liblwp-mediatypes-perl all 6.04-1 [19.5 kB]\n",
            "Get:18 http://archive.ubuntu.com/ubuntu focal/main amd64 libhttp-message-perl all 6.22-1 [76.1 kB]\n",
            "Get:19 http://archive.ubuntu.com/ubuntu focal/main amd64 libio-string-perl all 1.08-3 [11.1 kB]\n",
            "Get:20 http://archive.ubuntu.com/ubuntu focal/universe amd64 libparse-debianchangelog-perl all 1.2.0-13 [49.7 kB]\n",
            "Fetched 4,645 kB in 2s (2,201 kB/s)\n",
            "Selecting previously unselected package aptitude-common.\n",
            "(Reading database ... 128275 files and directories currently installed.)\n",
            "Preparing to unpack .../00-aptitude-common_0.8.12-1ubuntu4_all.deb ...\n",
            "Unpacking aptitude-common (0.8.12-1ubuntu4) ...\n",
            "Selecting previously unselected package libsigc++-2.0-0v5:amd64.\n",
            "Preparing to unpack .../01-libsigc++-2.0-0v5_2.10.2-1build1_amd64.deb ...\n",
            "Unpacking libsigc++-2.0-0v5:amd64 (2.10.2-1build1) ...\n",
            "Selecting previously unselected package libcwidget4:amd64.\n",
            "Preparing to unpack .../02-libcwidget4_0.5.18-5build1_amd64.deb ...\n",
            "Unpacking libcwidget4:amd64 (0.5.18-5build1) ...\n",
            "Selecting previously unselected package libxapian30:amd64.\n",
            "Preparing to unpack .../03-libxapian30_1.4.14-2_amd64.deb ...\n",
            "Unpacking libxapian30:amd64 (1.4.14-2) ...\n",
            "Selecting previously unselected package aptitude.\n",
            "Preparing to unpack .../04-aptitude_0.8.12-1ubuntu4_amd64.deb ...\n",
            "Unpacking aptitude (0.8.12-1ubuntu4) ...\n",
            "Selecting previously unselected package libhtml-tagset-perl.\n",
            "Preparing to unpack .../05-libhtml-tagset-perl_3.20-4_all.deb ...\n",
            "Unpacking libhtml-tagset-perl (3.20-4) ...\n",
            "Selecting previously unselected package liburi-perl.\n",
            "Preparing to unpack .../06-liburi-perl_1.76-2_all.deb ...\n",
            "Unpacking liburi-perl (1.76-2) ...\n",
            "Selecting previously unselected package libhtml-parser-perl.\n",
            "Preparing to unpack .../07-libhtml-parser-perl_3.72-5_amd64.deb ...\n",
            "Unpacking libhtml-parser-perl (3.72-5) ...\n",
            "Selecting previously unselected package libcgi-pm-perl.\n",
            "Preparing to unpack .../08-libcgi-pm-perl_4.46-1_all.deb ...\n",
            "Unpacking libcgi-pm-perl (4.46-1) ...\n",
            "Selecting previously unselected package libfcgi-perl.\n",
            "Preparing to unpack .../09-libfcgi-perl_0.79-1_amd64.deb ...\n",
            "Unpacking libfcgi-perl (0.79-1) ...\n",
            "Selecting previously unselected package libcgi-fast-perl.\n",
            "Preparing to unpack .../10-libcgi-fast-perl_1%3a2.15-1_all.deb ...\n",
            "Unpacking libcgi-fast-perl (1:2.15-1) ...\n",
            "Selecting previously unselected package libsub-name-perl.\n",
            "Preparing to unpack .../11-libsub-name-perl_0.26-1_amd64.deb ...\n",
            "Unpacking libsub-name-perl (0.26-1) ...\n",
            "Selecting previously unselected package libclass-accessor-perl.\n",
            "Preparing to unpack .../12-libclass-accessor-perl_0.51-1_all.deb ...\n",
            "Unpacking libclass-accessor-perl (0.51-1) ...\n",
            "Selecting previously unselected package libencode-locale-perl.\n",
            "Preparing to unpack .../13-libencode-locale-perl_1.05-1_all.deb ...\n",
            "Unpacking libencode-locale-perl (1.05-1) ...\n",
            "Selecting previously unselected package libhttp-date-perl.\n",
            "Preparing to unpack .../14-libhttp-date-perl_6.05-1_all.deb ...\n",
            "Unpacking libhttp-date-perl (6.05-1) ...\n",
            "Selecting previously unselected package libio-html-perl.\n",
            "Preparing to unpack .../15-libio-html-perl_1.001-1_all.deb ...\n",
            "Unpacking libio-html-perl (1.001-1) ...\n",
            "Selecting previously unselected package liblwp-mediatypes-perl.\n",
            "Preparing to unpack .../16-liblwp-mediatypes-perl_6.04-1_all.deb ...\n",
            "Unpacking liblwp-mediatypes-perl (6.04-1) ...\n",
            "Selecting previously unselected package libhttp-message-perl.\n",
            "Preparing to unpack .../17-libhttp-message-perl_6.22-1_all.deb ...\n",
            "Unpacking libhttp-message-perl (6.22-1) ...\n",
            "Selecting previously unselected package libio-string-perl.\n",
            "Preparing to unpack .../18-libio-string-perl_1.08-3_all.deb ...\n",
            "Unpacking libio-string-perl (1.08-3) ...\n",
            "Selecting previously unselected package libparse-debianchangelog-perl.\n",
            "Preparing to unpack .../19-libparse-debianchangelog-perl_1.2.0-13_all.deb ...\n",
            "Unpacking libparse-debianchangelog-perl (1.2.0-13) ...\n",
            "Setting up libxapian30:amd64 (1.4.14-2) ...\n",
            "Setting up libhttp-date-perl (6.05-1) ...\n",
            "Setting up libhtml-tagset-perl (3.20-4) ...\n",
            "Setting up liblwp-mediatypes-perl (6.04-1) ...\n",
            "Setting up libencode-locale-perl (1.05-1) ...\n",
            "Setting up libio-string-perl (1.08-3) ...\n",
            "Setting up libsigc++-2.0-0v5:amd64 (2.10.2-1build1) ...\n",
            "Setting up aptitude-common (0.8.12-1ubuntu4) ...\n",
            "Setting up libio-html-perl (1.001-1) ...\n",
            "Setting up libsub-name-perl (0.26-1) ...\n",
            "Setting up libfcgi-perl (0.79-1) ...\n",
            "Setting up libclass-accessor-perl (0.51-1) ...\n",
            "Setting up liburi-perl (1.76-2) ...\n",
            "Setting up libhttp-message-perl (6.22-1) ...\n",
            "Setting up libcwidget4:amd64 (0.5.18-5build1) ...\n",
            "Setting up aptitude (0.8.12-1ubuntu4) ...\n",
            "update-alternatives: using /usr/bin/aptitude-curses to provide /usr/bin/aptitude (aptitude) in auto mode\n",
            "Setting up libhtml-parser-perl (3.72-5) ...\n",
            "Setting up libcgi-pm-perl (4.46-1) ...\n",
            "Setting up libparse-debianchangelog-perl (1.2.0-13) ...\n",
            "Setting up libcgi-fast-perl (1:2.15-1) ...\n",
            "Processing triggers for man-db (2.9.1-1) ...\n",
            "Processing triggers for libc-bin (2.31-0ubuntu9.9) ...\n"
          ]
        }
      ]
    },
    {
      "cell_type": "code",
      "source": [
        "!aptitude install mecab libmecab-dev mecab-ipadic-utf8 git make curl xz-utils file -y"
      ],
      "metadata": {
        "colab": {
          "base_uri": "https://localhost:8080/"
        },
        "id": "gSz2nqYruBFa",
        "outputId": "d54b4ba5-bb8f-4d2e-ba1b-e30076325bbb"
      },
      "execution_count": 14,
      "outputs": [
        {
          "output_type": "stream",
          "name": "stdout",
          "text": [
            "git is already installed at the requested version (1:2.25.1-1ubuntu3.10)\n",
            "make is already installed at the requested version (4.2.1-1.2)\n",
            "curl is already installed at the requested version (7.68.0-1ubuntu2.16)\n",
            "xz-utils is already installed at the requested version (5.2.4-1ubuntu1.1)\n",
            "file is already installed at the requested version (1:5.38-4)\n",
            "git is already installed at the requested version (1:2.25.1-1ubuntu3.10)\n",
            "make is already installed at the requested version (4.2.1-1.2)\n",
            "curl is already installed at the requested version (7.68.0-1ubuntu2.16)\n",
            "xz-utils is already installed at the requested version (5.2.4-1ubuntu1.1)\n",
            "file is already installed at the requested version (1:5.38-4)\n",
            "The following NEW packages will be installed:\n",
            "  libmecab-dev libmecab2{a} mecab mecab-ipadic{a} mecab-ipadic-utf8 mecab-jumandic{a} mecab-jumandic-utf8{a} mecab-utils{a} \n",
            "0 packages upgraded, 8 newly installed, 0 to remove and 22 not upgraded.\n",
            "Need to get 23.5 MB of archives. After unpacking 276 MB will be used.\n",
            "Get: 1 http://archive.ubuntu.com/ubuntu focal/main amd64 libmecab2 amd64 0.996-10build1 [233 kB]\n",
            "Get: 2 http://archive.ubuntu.com/ubuntu focal/main amd64 libmecab-dev amd64 0.996-10build1 [285 kB]\n",
            "Get: 3 http://archive.ubuntu.com/ubuntu focal/main amd64 mecab-utils amd64 0.996-10build1 [4,912 B]\n",
            "Get: 4 http://archive.ubuntu.com/ubuntu focal/universe amd64 mecab-jumandic-utf8 all 7.0-20130310-7 [16.2 MB]\n",
            "Get: 5 http://archive.ubuntu.com/ubuntu focal/universe amd64 mecab-jumandic all 7.0-20130310-7 [2,204 B]\n",
            "Get: 6 http://archive.ubuntu.com/ubuntu focal/main amd64 mecab-ipadic all 2.7.0-20070801+main-2.1 [6,714 kB]\n",
            "Get: 7 http://archive.ubuntu.com/ubuntu focal/universe amd64 mecab amd64 0.996-10build1 [132 kB]\n",
            "Get: 8 http://archive.ubuntu.com/ubuntu focal/main amd64 mecab-ipadic-utf8 all 2.7.0-20070801+main-2.1 [4,380 B]\n",
            "Fetched 23.5 MB in 2s (11.6 MB/s)\n",
            "Selecting previously unselected package libmecab2:amd64.\n",
            "(Reading database ... 128765 files and directories currently installed.)\n",
            "Preparing to unpack .../0-libmecab2_0.996-10build1_amd64.deb ...\n",
            "Unpacking libmecab2:amd64 (0.996-10build1) ...\n",
            "Selecting previously unselected package libmecab-dev.\n",
            "Preparing to unpack .../1-libmecab-dev_0.996-10build1_amd64.deb ...\n",
            "Unpacking libmecab-dev (0.996-10build1) ...\n",
            "Selecting previously unselected package mecab-utils.\n",
            "Preparing to unpack .../2-mecab-utils_0.996-10build1_amd64.deb ...\n",
            "Unpacking mecab-utils (0.996-10build1) ...\n",
            "Selecting previously unselected package mecab-jumandic-utf8.\n",
            "Preparing to unpack .../3-mecab-jumandic-utf8_7.0-20130310-7_all.deb ...\n",
            "Unpacking mecab-jumandic-utf8 (7.0-20130310-7) ...\n",
            "Selecting previously unselected package mecab-jumandic.\n",
            "Preparing to unpack .../4-mecab-jumandic_7.0-20130310-7_all.deb ...\n",
            "Unpacking mecab-jumandic (7.0-20130310-7) ...\n",
            "Selecting previously unselected package mecab-ipadic.\n",
            "Preparing to unpack .../5-mecab-ipadic_2.7.0-20070801+main-2.1_all.deb ...\n",
            "Unpacking mecab-ipadic (2.7.0-20070801+main-2.1) ...\n",
            "Selecting previously unselected package mecab.\n",
            "Preparing to unpack .../6-mecab_0.996-10build1_amd64.deb ...\n",
            "Unpacking mecab (0.996-10build1) ...\n",
            "Selecting previously unselected package mecab-ipadic-utf8.\n",
            "Preparing to unpack .../7-mecab-ipadic-utf8_2.7.0-20070801+main-2.1_all.deb ...\n",
            "Unpacking mecab-ipadic-utf8 (2.7.0-20070801+main-2.1) ...\n",
            "Setting up libmecab2:amd64 (0.996-10build1) ...\n",
            "Setting up libmecab-dev (0.996-10build1) ...\n",
            "Setting up mecab-utils (0.996-10build1) ...\n",
            "Setting up mecab-ipadic (2.7.0-20070801+main-2.1) ...\n",
            "Compiling IPA dictionary for Mecab.  This takes long time...\n",
            "reading /usr/share/mecab/dic/ipadic/unk.def ... 40\n",
            "emitting double-array: 100% |###########################################| \n",
            "/usr/share/mecab/dic/ipadic/model.def is not found. skipped.\n",
            "reading /usr/share/mecab/dic/ipadic/Noun.csv ... 60477\n",
            "reading /usr/share/mecab/dic/ipadic/Noun.name.csv ... 34202\n",
            "reading /usr/share/mecab/dic/ipadic/Conjunction.csv ... 171\n",
            "reading /usr/share/mecab/dic/ipadic/Noun.proper.csv ... 27328\n",
            "reading /usr/share/mecab/dic/ipadic/Noun.others.csv ... 151\n",
            "reading /usr/share/mecab/dic/ipadic/Filler.csv ... 19\n",
            "reading /usr/share/mecab/dic/ipadic/Verb.csv ... 130750\n",
            "reading /usr/share/mecab/dic/ipadic/Noun.nai.csv ... 42\n",
            "reading /usr/share/mecab/dic/ipadic/Adnominal.csv ... 135\n",
            "reading /usr/share/mecab/dic/ipadic/Symbol.csv ... 208\n",
            "reading /usr/share/mecab/dic/ipadic/Suffix.csv ... 1393\n",
            "reading /usr/share/mecab/dic/ipadic/Postp-col.csv ... 91\n",
            "reading /usr/share/mecab/dic/ipadic/Adverb.csv ... 3032\n",
            "reading /usr/share/mecab/dic/ipadic/Auxil.csv ... 199\n",
            "reading /usr/share/mecab/dic/ipadic/Noun.adverbal.csv ... 795\n",
            "reading /usr/share/mecab/dic/ipadic/Noun.org.csv ... 16668\n",
            "reading /usr/share/mecab/dic/ipadic/Noun.place.csv ... 72999\n",
            "reading /usr/share/mecab/dic/ipadic/Noun.number.csv ... 42\n",
            "reading /usr/share/mecab/dic/ipadic/Others.csv ... 2\n",
            "reading /usr/share/mecab/dic/ipadic/Interjection.csv ... 252\n",
            "reading /usr/share/mecab/dic/ipadic/Noun.demonst.csv ... 120\n",
            "reading /usr/share/mecab/dic/ipadic/Postp.csv ... 146\n",
            "reading /usr/share/mecab/dic/ipadic/Adj.csv ... 27210\n",
            "reading /usr/share/mecab/dic/ipadic/Noun.adjv.csv ... 3328\n",
            "reading /usr/share/mecab/dic/ipadic/Prefix.csv ... 221\n",
            "reading /usr/share/mecab/dic/ipadic/Noun.verbal.csv ... 12146\n",
            "emitting double-array: 100% |###########################################| \n",
            "reading /usr/share/mecab/dic/ipadic/matrix.def ... 1316x1316\n",
            "emitting matrix      : 100% |###########################################| \n",
            "\n",
            "done!\n",
            "update-alternatives: using /var/lib/mecab/dic/ipadic to provide /var/lib/mecab/dic/debian (mecab-dictionary) in auto mode\n",
            "Setting up mecab (0.996-10build1) ...\n",
            "Compiling IPA dictionary for Mecab.  This takes long time...\n",
            "reading /usr/share/mecab/dic/ipadic/unk.def ... 40\n",
            "emitting double-array: 100% |###########################################| \n",
            "/usr/share/mecab/dic/ipadic/model.def is not found. skipped.\n",
            "reading /usr/share/mecab/dic/ipadic/Noun.csv ... 60477\n",
            "reading /usr/share/mecab/dic/ipadic/Noun.name.csv ... 34202\n",
            "reading /usr/share/mecab/dic/ipadic/Conjunction.csv ... 171\n",
            "reading /usr/share/mecab/dic/ipadic/Noun.proper.csv ... 27328\n",
            "reading /usr/share/mecab/dic/ipadic/Noun.others.csv ... 151\n",
            "reading /usr/share/mecab/dic/ipadic/Filler.csv ... 19\n",
            "reading /usr/share/mecab/dic/ipadic/Verb.csv ... 130750\n",
            "reading /usr/share/mecab/dic/ipadic/Noun.nai.csv ... 42\n",
            "reading /usr/share/mecab/dic/ipadic/Adnominal.csv ... 135\n",
            "reading /usr/share/mecab/dic/ipadic/Symbol.csv ... 208\n",
            "reading /usr/share/mecab/dic/ipadic/Suffix.csv ... 1393\n",
            "reading /usr/share/mecab/dic/ipadic/Postp-col.csv ... 91\n",
            "reading /usr/share/mecab/dic/ipadic/Adverb.csv ... 3032\n",
            "reading /usr/share/mecab/dic/ipadic/Auxil.csv ... 199\n",
            "reading /usr/share/mecab/dic/ipadic/Noun.adverbal.csv ... 795\n",
            "reading /usr/share/mecab/dic/ipadic/Noun.org.csv ... 16668\n",
            "reading /usr/share/mecab/dic/ipadic/Noun.place.csv ... 72999\n",
            "reading /usr/share/mecab/dic/ipadic/Noun.number.csv ... 42\n",
            "reading /usr/share/mecab/dic/ipadic/Others.csv ... 2\n",
            "reading /usr/share/mecab/dic/ipadic/Interjection.csv ... 252\n",
            "reading /usr/share/mecab/dic/ipadic/Noun.demonst.csv ... 120\n",
            "reading /usr/share/mecab/dic/ipadic/Postp.csv ... 146\n",
            "reading /usr/share/mecab/dic/ipadic/Adj.csv ... 27210\n",
            "reading /usr/share/mecab/dic/ipadic/Noun.adjv.csv ... 3328\n",
            "reading /usr/share/mecab/dic/ipadic/Prefix.csv ... 221\n",
            "reading /usr/share/mecab/dic/ipadic/Noun.verbal.csv ... 12146\n",
            "emitting double-array: 100% |###########################################| \n",
            "reading /usr/share/mecab/dic/ipadic/matrix.def ... 1316x1316\n",
            "emitting matrix      : 100% |###########################################| \n",
            "\n",
            "done!\n",
            "Setting up mecab-jumandic-utf8 (7.0-20130310-7) ...\n",
            "Compiling Juman dictionary for Mecab.\n",
            "reading /usr/share/mecab/dic/juman/unk.def ... 37\n",
            "emitting double-array: 100% |###########################################| \n",
            "reading /usr/share/mecab/dic/juman/AuxV.csv ... 593\n",
            "reading /usr/share/mecab/dic/juman/ContentW.csv ... 551145\n",
            "reading /usr/share/mecab/dic/juman/Demonstrative.csv ... 97\n",
            "reading /usr/share/mecab/dic/juman/Special.csv ... 158\n",
            "reading /usr/share/mecab/dic/juman/Noun.koyuu.csv ... 7964\n",
            "reading /usr/share/mecab/dic/juman/Auto.csv ... 18931\n",
            "reading /usr/share/mecab/dic/juman/Suffix.csv ... 2128\n",
            "reading /usr/share/mecab/dic/juman/Noun.hukusi.csv ... 81\n",
            "reading /usr/share/mecab/dic/juman/Noun.keishiki.csv ... 8\n",
            "reading /usr/share/mecab/dic/juman/Wikipedia.csv ... 167709\n",
            "reading /usr/share/mecab/dic/juman/Emoticon.csv ... 972\n",
            "reading /usr/share/mecab/dic/juman/Noun.suusi.csv ... 49\n",
            "reading /usr/share/mecab/dic/juman/Rengo.csv ... 1118\n",
            "reading /usr/share/mecab/dic/juman/Assert.csv ... 34\n",
            "reading /usr/share/mecab/dic/juman/Postp.csv ... 108\n",
            "reading /usr/share/mecab/dic/juman/Prefix.csv ... 90\n",
            "emitting double-array: 100% |###########################################| \n",
            "reading /usr/share/mecab/dic/juman/matrix.def ... 1876x1876\n",
            "emitting matrix      : 100% |###########################################| \n",
            "\n",
            "done!\n",
            "Setting up mecab-ipadic-utf8 (2.7.0-20070801+main-2.1) ...\n",
            "Compiling IPA dictionary for Mecab.  This takes long time...\n",
            "reading /usr/share/mecab/dic/ipadic/unk.def ... 40\n",
            "emitting double-array: 100% |###########################################| \n",
            "/usr/share/mecab/dic/ipadic/model.def is not found. skipped.\n",
            "reading /usr/share/mecab/dic/ipadic/Noun.csv ... 60477\n",
            "reading /usr/share/mecab/dic/ipadic/Noun.name.csv ... 34202\n",
            "reading /usr/share/mecab/dic/ipadic/Conjunction.csv ... 171\n",
            "reading /usr/share/mecab/dic/ipadic/Noun.proper.csv ... 27328\n",
            "reading /usr/share/mecab/dic/ipadic/Noun.others.csv ... 151\n",
            "reading /usr/share/mecab/dic/ipadic/Filler.csv ... 19\n",
            "reading /usr/share/mecab/dic/ipadic/Verb.csv ... 130750\n",
            "reading /usr/share/mecab/dic/ipadic/Noun.nai.csv ... 42\n",
            "reading /usr/share/mecab/dic/ipadic/Adnominal.csv ... 135\n",
            "reading /usr/share/mecab/dic/ipadic/Symbol.csv ... 208\n",
            "reading /usr/share/mecab/dic/ipadic/Suffix.csv ... 1393\n",
            "reading /usr/share/mecab/dic/ipadic/Postp-col.csv ... 91\n",
            "reading /usr/share/mecab/dic/ipadic/Adverb.csv ... 3032\n",
            "reading /usr/share/mecab/dic/ipadic/Auxil.csv ... 199\n",
            "reading /usr/share/mecab/dic/ipadic/Noun.adverbal.csv ... 795\n",
            "reading /usr/share/mecab/dic/ipadic/Noun.org.csv ... 16668\n",
            "reading /usr/share/mecab/dic/ipadic/Noun.place.csv ... 72999\n",
            "reading /usr/share/mecab/dic/ipadic/Noun.number.csv ... 42\n",
            "reading /usr/share/mecab/dic/ipadic/Others.csv ... 2\n",
            "reading /usr/share/mecab/dic/ipadic/Interjection.csv ... 252\n",
            "reading /usr/share/mecab/dic/ipadic/Noun.demonst.csv ... 120\n",
            "reading /usr/share/mecab/dic/ipadic/Postp.csv ... 146\n",
            "reading /usr/share/mecab/dic/ipadic/Adj.csv ... 27210\n",
            "reading /usr/share/mecab/dic/ipadic/Noun.adjv.csv ... 3328\n",
            "reading /usr/share/mecab/dic/ipadic/Prefix.csv ... 221\n",
            "reading /usr/share/mecab/dic/ipadic/Noun.verbal.csv ... 12146\n",
            "emitting double-array: 100% |###########################################| \n",
            "reading /usr/share/mecab/dic/ipadic/matrix.def ... 1316x1316\n",
            "emitting matrix      : 100% |###########################################| \n",
            "\n",
            "done!\n",
            "update-alternatives: using /var/lib/mecab/dic/ipadic-utf8 to provide /var/lib/mecab/dic/debian (mecab-dictionary) in auto mode\n",
            "Setting up mecab-jumandic (7.0-20130310-7) ...\n",
            "Processing triggers for man-db (2.9.1-1) ...\n",
            "Processing triggers for libc-bin (2.31-0ubuntu9.9) ...\n",
            "                            \n"
          ]
        }
      ]
    },
    {
      "cell_type": "code",
      "source": [
        "!pip install mecab-python3"
      ],
      "metadata": {
        "colab": {
          "base_uri": "https://localhost:8080/"
        },
        "id": "IWE3AYUuuNw0",
        "outputId": "b9045bc1-853a-48b4-a732-5b19ed7950ee"
      },
      "execution_count": 15,
      "outputs": [
        {
          "output_type": "stream",
          "name": "stdout",
          "text": [
            "Looking in indexes: https://pypi.org/simple, https://us-python.pkg.dev/colab-wheels/public/simple/\n",
            "Collecting mecab-python3\n",
            "  Downloading mecab_python3-1.0.6-cp39-cp39-manylinux_2_17_x86_64.manylinux2014_x86_64.whl (581 kB)\n",
            "\u001b[2K     \u001b[90m━━━━━━━━━━━━━━━━━━━━━━━━━━━━━━━━━━━━━━\u001b[0m \u001b[32m581.5/581.5 KB\u001b[0m \u001b[31m10.3 MB/s\u001b[0m eta \u001b[36m0:00:00\u001b[0m\n",
            "\u001b[?25hInstalling collected packages: mecab-python3\n",
            "Successfully installed mecab-python3-1.0.6\n"
          ]
        }
      ]
    },
    {
      "cell_type": "code",
      "source": [
        "import MeCab"
      ],
      "metadata": {
        "id": "JzSy9T5luZYD"
      },
      "execution_count": 18,
      "outputs": []
    },
    {
      "cell_type": "code",
      "source": [
        "!pip install unidic"
      ],
      "metadata": {
        "colab": {
          "base_uri": "https://localhost:8080/"
        },
        "id": "7Vb38-cLu7Jx",
        "outputId": "618ae20e-aa8c-4407-abfa-050cdd43dcfa"
      },
      "execution_count": 21,
      "outputs": [
        {
          "output_type": "stream",
          "name": "stdout",
          "text": [
            "Looking in indexes: https://pypi.org/simple, https://us-python.pkg.dev/colab-wheels/public/simple/\n",
            "Collecting unidic\n",
            "  Downloading unidic-1.1.0.tar.gz (7.7 kB)\n",
            "  Preparing metadata (setup.py) ... \u001b[?25l\u001b[?25hdone\n",
            "Requirement already satisfied: requests<3.0.0,>=2.22.0 in /usr/local/lib/python3.9/dist-packages (from unidic) (2.25.1)\n",
            "Requirement already satisfied: tqdm<5.0.0,>=4.41.1 in /usr/local/lib/python3.9/dist-packages (from unidic) (4.65.0)\n",
            "Requirement already satisfied: wasabi<1.0.0,>=0.6.0 in /usr/local/lib/python3.9/dist-packages (from unidic) (0.10.1)\n",
            "Collecting plac<2.0.0,>=1.1.3\n",
            "  Downloading plac-1.3.5-py2.py3-none-any.whl (22 kB)\n",
            "Requirement already satisfied: idna<3,>=2.5 in /usr/local/lib/python3.9/dist-packages (from requests<3.0.0,>=2.22.0->unidic) (2.10)\n",
            "Requirement already satisfied: chardet<5,>=3.0.2 in /usr/local/lib/python3.9/dist-packages (from requests<3.0.0,>=2.22.0->unidic) (4.0.0)\n",
            "Requirement already satisfied: certifi>=2017.4.17 in /usr/local/lib/python3.9/dist-packages (from requests<3.0.0,>=2.22.0->unidic) (2022.12.7)\n",
            "Requirement already satisfied: urllib3<1.27,>=1.21.1 in /usr/local/lib/python3.9/dist-packages (from requests<3.0.0,>=2.22.0->unidic) (1.26.14)\n",
            "Building wheels for collected packages: unidic\n",
            "  Building wheel for unidic (setup.py) ... \u001b[?25l\u001b[?25hdone\n",
            "  Created wheel for unidic: filename=unidic-1.1.0-py3-none-any.whl size=7425 sha256=11fe4bf0fff629c03c105d8f1442183f724e66afdfd7cf08277e3cc3c3ae112e\n",
            "  Stored in directory: /root/.cache/pip/wheels/69/2e/59/f3af29b54acb46ba8eebeb46e900a406dcd9ce00fb513ec3c1\n",
            "Successfully built unidic\n",
            "Installing collected packages: plac, unidic\n",
            "Successfully installed plac-1.3.5 unidic-1.1.0\n"
          ]
        }
      ]
    },
    {
      "cell_type": "code",
      "source": [
        "!python -m unidic download"
      ],
      "metadata": {
        "colab": {
          "base_uri": "https://localhost:8080/"
        },
        "id": "QfaVYkeLvkGi",
        "outputId": "b53f6764-d359-4bb6-cfe4-eccbf635265f"
      },
      "execution_count": 22,
      "outputs": [
        {
          "output_type": "stream",
          "name": "stdout",
          "text": [
            "download url: https://cotonoha-dic.s3-ap-northeast-1.amazonaws.com/unidic-3.1.0.zip\n",
            "Dictionary version: 3.1.0+2021-08-31\n",
            "Downloading UniDic v3.1.0+2021-08-31...\n",
            "unidic-3.1.0.zip: 100% 526M/526M [00:28<00:00, 18.7MB/s]\n",
            "Finished download.\n",
            "Downloaded UniDic v3.1.0+2021-08-31 to /usr/local/lib/python3.9/dist-packages/unidic/dicdir\n"
          ]
        }
      ]
    },
    {
      "cell_type": "code",
      "source": [
        "import MeCab\n",
        "import unidic\n",
        "mecab = MeCab.Tagger()\n",
        "print(mecab.parse(\"私は形態素解析を学んでいます。\"))"
      ],
      "metadata": {
        "colab": {
          "base_uri": "https://localhost:8080/"
        },
        "id": "8vvHJidKv7Po",
        "outputId": "6c114aaa-ef32-4bdc-c2df-0ef67b08eced"
      },
      "execution_count": 23,
      "outputs": [
        {
          "output_type": "stream",
          "name": "stdout",
          "text": [
            "私\t代名詞,,,,,,ワタクシ,私-代名詞,私,ワタクシ,私,ワタクシ,和,\"\",\"\",\"\",\"\",\"\",\"\",体,ワタクシ,ワタクシ,ワタクシ,ワタクシ,\"0\",\"\",\"\",11345327978324480,41274\n",
            "は\t助詞,係助詞,,,,,ハ,は,は,ワ,は,ワ,和,\"\",\"\",\"\",\"\",\"\",\"\",係助,ハ,ハ,ハ,ハ,\"\",\"動詞%F2@0,名詞%F1,形容詞%F2@-1\",\"\",8059703733133824,29321\n",
            "形態\t名詞,普通名詞,一般,,,,ケイタイ,形態,形態,ケータイ,形態,ケータイ,漢,\"\",\"\",\"\",\"\",\"\",\"\",体,ケイタイ,ケイタイ,ケイタイ,ケイタイ,\"0\",\"C2\",\"\",3024215389381120,11002\n",
            "素\t接尾辞,名詞的,一般,,,,ソ,素,素,ソ,素,ソ,漢,\"\",\"\",\"\",\"\",\"\",\"\",接尾体,ソ,ソ,ソ,ソ,\"\",\"C3\",\"\",5752103704338944,20926\n",
            "解析\t名詞,普通名詞,サ変可能,,,,カイセキ,解析,解析,カイセキ,解析,カイセキ,漢,\"\",\"\",\"\",\"\",\"\",\"\",体,カイセキ,カイセキ,カイセキ,カイセキ,\"0\",\"C2\",\"\",1590177315299840,5785\n",
            "を\t助詞,格助詞,,,,,ヲ,を,を,オ,を,オ,和,\"\",\"\",\"\",\"\",\"\",\"\",格助,ヲ,ヲ,ヲ,ヲ,\"\",\"動詞%F2@0,名詞%F1,形容詞%F2@-1\",\"\",11381878116459008,41407\n",
            "学ん\t動詞,一般,,,五段-バ行,連用形-撥音便,マナブ,学ぶ,学ん,マナン,学ぶ,マナブ,和,\"\",\"\",\"\",\"\",\"\",\"\",用,マナン,マナブ,マナン,マナブ,\"0,2\",\"C2\",\"\",9878570876936837,35938\n",
            "で\t助詞,接続助詞,,,,,テ,て,で,デ,で,デ,和,\"\",\"\",\"\",\"\",\"\",\"\",接助,デ,デ,デ,デ,\"\",\"動詞%F1,形容詞%F2@-1\",\"\",6837330270888448,24874\n",
            "い\t動詞,非自立可能,,,上一段-ア行,連用形-一般,イル,居る,い,イ,いる,イル,和,\"\",\"\",\"\",\"\",\"\",\"\",用,イ,イル,イ,イル,\"0\",\"C4\",\"M4@1\",710568013079169,2585\n",
            "ます\t助動詞,,,,助動詞-マス,終止形-一般,マス,ます,ます,マス,ます,マス,和,\"\",\"\",\"\",\"\",\"\",\"\",助動,マス,マス,マス,マス,\"\",\"動詞%F4@1\",\"\",9812325267808939,35697\n",
            "。\t補助記号,句点,,,,,,。,。,,。,,記号,\"\",\"\",\"\",\"\",\"\",\"\",補助,,,,,\"\",\"\",\"\",6880571302400,25\n",
            "EOS\n",
            "\n"
          ]
        }
      ]
    },
    {
      "cell_type": "code",
      "source": [
        "mecab = MeCab.Tagger('-Owakati')\n",
        "print(mecab.parse(\"私は形態素解析を学んでいます。\"))"
      ],
      "metadata": {
        "colab": {
          "base_uri": "https://localhost:8080/"
        },
        "id": "GREYpb49wODf",
        "outputId": "660476bf-8503-4ae2-d333-1d69cf404632"
      },
      "execution_count": 24,
      "outputs": [
        {
          "output_type": "stream",
          "name": "stdout",
          "text": [
            "私 は 形態 素 解析 を 学ん で い ます 。 \n",
            "\n"
          ]
        }
      ]
    },
    {
      "cell_type": "code",
      "source": [
        "import csv\n",
        "import sys\n",
        "#import pandas as pd "
      ],
      "metadata": {
        "id": "5_L8R0uGwT36"
      },
      "execution_count": 42,
      "outputs": []
    },
    {
      "cell_type": "code",
      "source": [
        "import MeCab\n",
        "with open ('/content/drive/MyDrive/Python_Content/アミン＿CO2回収_課題_検索語.csv' , 'r' ) as f :\n",
        "  reader = csv.reader(f)\n",
        "  l = [row for row in reader]\n",
        "print(l)\n",
        "\n",
        "wakati = MeCab.Tagger(\"-Owakati\")\n",
        "words = wakati.parse('f').split()\n",
        "#print(words)\n"
      ],
      "metadata": {
        "colab": {
          "base_uri": "https://localhost:8080/"
        },
        "id": "P2i8oQHZxBf1",
        "outputId": "046aabd6-f924-41da-bd4f-7ea696827b58"
      },
      "execution_count": 78,
      "outputs": [
        {
          "output_type": "stream",
          "name": "stdout",
          "text": [
            "[['\\ufeff あたり', ' あっ', ' あり', ' ある', ' い', ' いる', ' うる', ' および', ' おり', ' か', ' かかる', ' かける', ' かつ', ' から', ' が', ' ここ', ' こと', ' この', ' これ', ' これら', ' さ', ' させ', ' さらに', ' し', ' しかも', ' じん', ' すぐれる', ' すなわち', ' する', ' ず', ' せ', ' せる', ' そして', ' その', ' その他', ' その後', ' それ', ' それぞれ', ' それら', ' た', ' ただし', ' ため', ' だ', ' だけ', ' つ', ' つつ', ' て', ' で', ' でき', ' できる', ' でも', ' と', ' という', ' とき', ' として', ' とともに', ' と共に', ' な', ' ない', ' ないし', ' なかっ', ' ながら', ' なく', ' など', ' なら', ' ならびに', ' なり', ' なる', ' に', ' において', ' における', ' について', ' にて', ' によって', ' により', ' による', ' に対し', ' に対して', ' に対する', ' に関し', ' に関する', ' に際し', ' の', ' のみ', ' は', ' ばい', ' びこのような', ' へ', ' ほとんど', ' ほぼ', ' また', ' または', ' まで', ' も', ' もたらす', ' もの', ' や', ' よう', ' よく', ' より', ' られ', ' られる', ' れ', ' れる', ' ろ過', ' を', ' アノード', ' アミ', ' アミン', ' アミンガス', ' アミンスクラビング', ' アルカノールアミン', ' アルカリ', ' アルキリデンアミノグアニジン', ' アルキル', ' アルキレン', ' アルコキシシラン', ' アルコール', ' アルデヒド', ' アンモニア', ' イオン', ' イソプロピルアミノエタノール', ' エネルギ', ' エネルギー', ' エミッションタービンシステム', ' エーテル', ' オンライン', ' カソード', ' カラム', ' カルバミン', ' ガス', ' ガスタービンユニット', ' キャリヤ', ' ギ', ' ケイ', ' ゲル', ' コスト', ' コンパクト', ' コンプレッサー', ' サイクロン', ' サイズ', ' サーマルスイング', ' サーモ', ' システム', ' シリコアルミン', ' ジアミン', ' スイング', ' スクラバ', ' スケール', ' ステップ', ' ストリッピングガス', ' ストリーム', ' ストークス', ' スペース', ' スート', ' セメント', ' センチ', ' ソ', ' ゾーン', ' タンク', ' タービン', ' ダクト', ' テロ', ' トレイ', ' ドラム', ' ニトロ', ' ノ', ' ノズル', ' ハニカムロータ', ' ハロゲン', ' ハンドリング', ' バイパス', ' バランス', ' ヒドロキシアルキル', ' ヒートポンプ', ' ピペラジン', ' フィードバック', ' フューム', ' フラッシュ', ' フラッディング', ' プラント', ' プレクリーンガス', ' プロセス', ' ヘ', ' ヘテロ', ' ボイラ', ' ボイラ・タービン', ' ボトム', ' ポリアミン', ' ポリマー', ' ポンプ', ' ミスト', ' メイン', ' メタン', ' メタンガス', ' メタンハイドレート', ' メンテナンス', ' モノアミン', ' モル', ' ユニット', ' ライン', ' リクレーマ', ' リクレーミング', ' リッチ', ' リッチテールガス', ' リッチ・リーン', ' リペア', ' リボイラ', ' リボイラー', ' リーン', ' リーンソルベント', ' ロス', ' ・', ' 一', ' 一因', ' 一定', ' 一対', ' 一層', ' 一方', ' 一種', ' 一般', ' 一部', ' 三', ' 上', ' 上昇', ' 上流', ' 上記', ' 上部', ' 下', ' 下げる', ' 下方', ' 下記', ' 下部', ' 不揮発', ' 不純物', ' 不要', ' 与える', ' 且つ', ' 両方', ' 並び', ' 並びに', ' 中', ' 中和', ' 中空', ' 中間', ' 主として', ' 主成分', ' 乾燥', ' 予め', ' 予冷', ' 予熱', ' 事態', ' 二', ' 二酸化', ' 二酸化炭素', ' 井', ' 亘っ', ' 亙っ', ' 交換', ' 介し', ' 仕上げ', ' 他', ' 他方', ' 付き', ' 付着', ' 以上', ' 以下', ' 以降', ' 任意', ' 企図', ' 伝', ' 伴う', ' 位', ' 位置', ' 低', ' 低い', ' 低く', ' 低下', ' 低圧', ' 低減', ' 低温', ' 体', ' 体型', ' 体積', ' 何ら', ' 作業', ' 作用', ' 使用', ' 例えば', ' 供給', ' 価', ' 係る', ' 促進', ' 保守', ' 保持', ' 個', ' 値', ' 側', ' 側壁', ' 側面', ' 備え', ' 備える', ' 僅か', ' 優れ', ' 充填', ' 先行', ' 光', ' 光合成', ' 入力', ' 入口', ' 全て', ' 全体', ' 共', ' 具体', ' 具備', ' 兼ね備え', ' 内', ' 内燃', ' 内部', ' 内面', ' 再', ' 再生', ' 冷却', ' 冷媒', ' 冷熱', ' 凝固', ' 凝縮', ' 処理', ' 出る', ' 出力', ' 出来る', ' 出願', ' 分', ' 分岐', ' 分布', ' 分散', ' 分析', ' 分解', ' 分離', ' 判定', ' 利便', ' 利用', ' 制御', ' 制限', ' 削減', ' 前', ' 前記', ' 剤', ' 副', ' 割合', ' 力', ' 加熱', ' 劣化', ' 労力', ' 効果', ' 効率', ' 効用', ' 動力', ' 化', ' 化合', ' 化学', ' 化成', ' 化物', ' 十分', ' 単位', ' 即ち', ' 原', ' 原因', ' 原子', ' 原料', ' 又は', ' 及び', ' 双方', ' 反対', ' 反応', ' 収', ' 収量', ' 収集', ' 取り出す', ' 取り除く', ' 取出', ' 受け', ' 受け取り', ' 受容', ' 口', ' 可能', ' 号', ' 各', ' 各々', ' 合成', ' 合流', ' 同伴', ' 同化', ' 同時に', ' 向上', ' 含ま', ' 含み', ' 含む', ' 含め', ' 含ん', ' 含有', ' 含水液', ' 含水率', ' 含浸', ' 含量', ' 吸入', ' 吸収', ' 吸引', ' 吸着', ' 品', ' 員', ' 問題', ' 器', ' 噴霧', ' 回', ' 回収', ' 回路', ' 回避', ' 因子', ' 図っ', ' 図り', ' 図る', ' 図れ', ' 固体', ' 固化', ' 固形', ' 国際', ' 土', ' 圧', ' 圧下', ' 圧保持', ' 圧入', ' 圧力', ' 圧縮', ' 地中', ' 均一', ' 型', ' 基', ' 基体', ' 基質', ' 場合', ' 塔', ' 塩', ' 塩化', ' 塩基', ' 塵', ' 増加', ' 増大', ' 壁', ' 壁面', ' 変動', ' 変換', ' 外', ' 外部', ' 多', ' 多く', ' 多孔', ' 大', ' 大きく', ' 大幅', ' 大気', ' 大量', ' 天然', ' 奪わ', ' 好ましく', ' 好適', ' 媒体', ' 孔', ' 存在', ' 安価', ' 安定', ' 官能', ' 定量', ' 実施', ' 実現', ' 実用', ' 実質', ' 室温', ' 容器', ' 容易', ' 容積', ' 容量', ' 密度', ' 富む', ' 富ん', ' 寸法', ' 対処', ' 対応', ' 対象', ' 導く', ' 導入', ' 小さく', ' 小型', ' 小規模', ' 少ない', ' 少なく', ' 少なくとも', ' 層', ' 層状', ' 工場', ' 工業', ' 工程', ' 差', ' 巻き込ま', ' 希薄', ' 希釈', ' 常', ' 常温', ' 幅', ' 平均', ' 平面', ' 底', ' 度', ' 廃', ' 廃棄', ' 廃液', ' 建設', ' 式', ' 引き起こさ', ' 強度', ' 当', ' 当たり', ' 当たる', ' 当該', ' 形式', ' 形態', ' 形成', ' 影響', ' 径', ' 後', ' 徐', ' 従来', ' 得', ' 得る', ' 循環', ' 微生物', ' 必要', ' 性', ' 性能', ' 成', ' 成分', ' 或いは', ' 戻す', ' 所', ' 所定', ' 所要', ' 手段', ' 技法', ' 技術', ' 抑え', ' 抑える', ' 抑制', ' 投入', ' 抜き出さ', ' 抜出す', ' 抽出', ' 抽気', ' 担体', ' 担持', ' 捕', ' 捕捉', ' 捕獲', ' 排', ' 排ガス', ' 排出', ' 排気', ' 排水', ' 排除', ' 掘削', ' 接続', ' 接触', ' 措置', ' 提供', ' 提案', ' 揮発', ' 損失', ' 搭載', ' 撹拌', ' 操作', ' 操業', ' 支持', ' 改善', ' 改良', ' 放', ' 放出', ' 放射', ' 放散', ' 故障', ' 数', ' 敷地', ' 新', ' 新しい', ' 新た', ' 新規', ' 方向', ' 方式', ' 方法', ' 方途', ' 施用', ' 施用一', ' 施設', ' 族', ' 早期', ' 昇', ' 昇華', ' 易', ' 時', ' 時期', ' 曲面', ' 更', ' 更に', ' 最も', ' 最小限', ' 最適', ' 最高', ' 有し', ' 有する', ' 有価', ' 有効', ' 有害', ' 有機', ' 有機物', ' 期間', ' 未満', ' 本', ' 本体', ' 材', ' 材料', ' 条件', ' 条件下', ' 析出', ' 柔軟', ' 核', ' 根元', ' 植物', ' 検知', ' 概ね', ' 構成', ' 構造', ' 様々', ' 樹脂', ' 機', ' 機器', ' 機械', ' 機構', ' 機関', ' 欠点', ' 欠陥', ' 次', ' 次いで', ' 正確', ' 残', ' 残存', ' 残留', ' 残部', ' 段階', ' 比し', ' 比べ', ' 比熱', ' 比較的', ' 気', ' 気体', ' 気圧', ' 気泡', ' 水', ' 水中', ' 水分', ' 水性', ' 水準', ' 水溶液', ' 水素', ' 水蒸気', ' 求', ' 汚染', ' 汽力発', ' 沸点', ' 沿っ', ' 法', ' 注入', ' 洗浄', ' 洗浄液', ' 活性', ' 活性炭', ' 活用', ' 流', ' 流さ', ' 流す', ' 流れ', ' 流れる', ' 流体', ' 流入', ' 流出', ' 流動的', ' 流通', ' 流量', ' 浄化', ' 海水', ' 消費', ' 液', ' 液体', ' 液状', ' 混合', ' 添加', ' 清掃', ' 済', ' 済み', ' 減らす', ' 減圧', ' 減少', ' 渣', ' 温', ' 温室', ' 温度', ' 測定', ' 湾曲', ' 湿式', ' 湿潤', ' 満足', ' 源', ' 準', ' 溶剤', ' 溶媒', ' 溶存', ' 溶液', ' 溶解', ' 濃厚', ' 濃度', ' 濃縮', ' 濡れ', ' 火力', ' 炉', ' 炭化', ' 炭素', ' 炭酸', ' 点', ' 点在', ' 焚き', ' 無く', ' 無機', ' 無駄', ' 焼却', ' 煙', ' 煙突', ' 煤', ' 熱', ' 熱源', ' 熱量', ' 熱風', ' 燃料', ' 燃焼', ' 物', ' 物品', ' 物理', ' 物質', ' 特に', ' 特定', ' 特徴', ' 特殊', ' 特許', ' 状', ' 状態', ' 独立', ' 率', ' 環', ' 環境', ' 生', ' 生さ', ' 生し', ' 生じ', ' 生成', ' 生物', ' 生産', ' 生育', ' 用', ' 用い', ' 用いる', ' 由来', ' 画', ' 異なる', ' 発揮', ' 発明', ' 発泡', ' 発熱', ' 発生', ' 発酵', ' 発電', ' 的', ' 目的', ' 直列', ' 直径', ' 直線', ' 相', ' 相互', ' 省エネルギー', ' 真空', ' 着', ' 着用', ' 着色', ' 短時間', ' 石炭', ' 硫黄', ' 確保', ' 確実', ' 示す', ' 移動', ' 移送', ' 種', ' 稼働', ' 空き', ' 空間', ' 空隙', ' 窒素', ' 立', ' 立体', ' 第', ' 等', ' 管', ' 管理', ' 範囲', ' 簡便', ' 簡単', ' 簡易', ' 粒', ' 粒子', ' 粗', ' 粘', ' 精度', ' 精製', ' 糸状', ' 系', ' 約', ' 純度', ' 純粋', ' 級', ' 細', ' 組み合わせ', ' 組成', ' 経時', ' 経済', ' 経路', ' 経過', ' 結合', ' 結果', ' 給', ' 給油', ' 統合', ' 継続', ' 続く', ' 維持', ' 総合', ' 緩和', ' 縮小', ' 置換', ' 群', ' 考慮', ' 者', ' 耐え', ' 耐久', ' 耐摩耗', ' 耐熱', ' 肥大', ' 能', ' 能力', ' 脂肪', ' 脱', ' 脱去', ' 脱着', ' 脱硫', ' 腐食', ' 膜', ' 膨大', ' 自動的', ' 臭', ' 良い', ' 良く', ' 良好', ' 芳香', ' 蒸散', ' 蒸気', ' 蒸発', ' 蓄積', ' 薄', ' 行う', ' 行える', ' 行っ', ' 行ない', ' 行わ', ' 表さ', ' 表示', ' 表面', ' 被', ' 装置', ' 補助', ' 補給', ' 製品', ' 製造', ' 製鉄', ' 複合', ' 複数', ' 要する', ' 要求', ' 要素', ' 規定', ' 規模', ' 親水', ' 解決', ' 解消', ' 触媒', ' 記載', ' 設', ' 設け', ' 設備', ' 設定', ' 設置', ' 該', ' 該分解', ' 該含水', ' 該吸収', ' 該吸着', ' 該排', ' 該方法', ' 該煙道', ' 詳しく', ' 誘導', ' 課題', ' 調整', ' 調節', ' 調製', ' 負', ' 負荷', ' 貯留', ' 貯蔵', ' 費', ' 費用', ' 質', ' 質量', ' 走行', ' 起因', ' 距離', ' 路', ' 路上', ' 車両', ' 軽減', ' 輸送', ' 農産物', ' 迅速', ' 近傍', ' 追加', ' 追従', ' 送', ' 送ら', ' 送出', ' 通', ' 通し', ' 通っ', ' 通気', ' 通路', ' 通過', ' 速やか', ' 速度', ' 連', ' 連結', ' 連続', ' 遊離', ' 運び', ' 運び出さ', ' 運用', ' 運転', ' 過程', ' 道', ' 達成', ' 遠心', ' 適し', ' 適切', ' 適正', ' 適用', ' 選ば', ' 選択', ' 避ける', ' 還元', ' 還流', ' 部', ' 部位', ' 部内', ' 部分', ' 部屋', ' 部材', ' 配管', ' 配置', ' 酸', ' 酸化', ' 酸性', ' 酸素', ' 重', ' 重量', ' 量', ' 金属', ' 鉄', ' 鉱物', ' 長時間', ' 長期', ' 長期間', ' 閉塞', ' 開放', ' 開示', ' 間', ' 防ぎ', ' 防ぐ', ' 防止', ' 降', ' 限り', ' 限界', ' 除', ' 除去', ' 隔離', ' 際', ' 障害', ' 集', ' 集計', ' 離', ' 離し', ' 離れ', ' 離脱', ' 電', ' 電力', ' 電極', ' 電池', ' 電源', ' 電解', ' 露点', ' 非', ' 面', ' 頂', ' 順に', ' 領域', ' 頻度', ' 顕', ' 類', ' 飛散', ' 飛沫', ' 飛躍', ' 飽和', ' 駆動', ' 高', ' 高い', ' 高く', ' 高める', ' 高分子', ' 高圧', ' 高温', ' 高炉', ' ％', ' （', ' ）', ' ，', ' －', ' ．', ' ／', ' ；', ' ＜', ' Ａ', ' Ｂ', ' ＢＩＣＩＮＥ', ' Ｃ', ' ＣＯ', ' ＣＯ２', ' ＣＲ', ' Ｄ', ' Ｈ', ' Ｋ', ' Ｌ', ' Ｍ', ' Ｎ', ' ＮＯ', ' ＮＯｘ', ' Ｏ', ' Ｐ', ' Ｐａ', ' Ｒ', ' Ｓ', ' ＳＯ', ' ＳＯｘ', ' ＶＯＣ', ' Ｖｄ', ' ＷＯ', ' Ｘ', ' ［', ' ］', ' ａ', ' ｂ', ' ｃ', ' ｃｍ', ' ｇ', ' ｉ', ' ｍ', ' ｎ', ' ｎｍ', ' ｏ', ' ｐＫａ', ' ｐｐｍ', ' ｗ', ' ｘ']]\n"
          ]
        }
      ]
    },
    {
      "cell_type": "code",
      "source": [
        "import MeCab\n",
        " \n",
        "with open ('/content/drive/MyDrive/Python_Content/アミン＿CO2回収_課題_検索語.csv' , 'r' ) as f :\n",
        "  reader = csv.reader(f)\n",
        "  l = [row for row in reader]\n",
        "print(l)\n",
        "\n",
        "\n",
        "mecab= MeCab.Tagger(\"\")\n",
        "\n",
        "#text=l\n",
        "result = mecab.parse(l)\n",
        "print(result)"
      ],
      "metadata": {
        "colab": {
          "base_uri": "https://localhost:8080/",
          "height": 358
        },
        "id": "5UyAw3bo-Y8F",
        "outputId": "702f5f63-5b7e-411d-96d4-421c7f5175ed"
      },
      "execution_count": 97,
      "outputs": [
        {
          "output_type": "stream",
          "name": "stdout",
          "text": [
            "[['\\ufeff あたり', ' あっ', ' あり', ' ある', ' い', ' いる', ' うる', ' および', ' おり', ' か', ' かかる', ' かける', ' かつ', ' から', ' が', ' ここ', ' こと', ' この', ' これ', ' これら', ' さ', ' させ', ' さらに', ' し', ' しかも', ' じん', ' すぐれる', ' すなわち', ' する', ' ず', ' せ', ' せる', ' そして', ' その', ' その他', ' その後', ' それ', ' それぞれ', ' それら', ' た', ' ただし', ' ため', ' だ', ' だけ', ' つ', ' つつ', ' て', ' で', ' でき', ' できる', ' でも', ' と', ' という', ' とき', ' として', ' とともに', ' と共に', ' な', ' ない', ' ないし', ' なかっ', ' ながら', ' なく', ' など', ' なら', ' ならびに', ' なり', ' なる', ' に', ' において', ' における', ' について', ' にて', ' によって', ' により', ' による', ' に対し', ' に対して', ' に対する', ' に関し', ' に関する', ' に際し', ' の', ' のみ', ' は', ' ばい', ' びこのような', ' へ', ' ほとんど', ' ほぼ', ' また', ' または', ' まで', ' も', ' もたらす', ' もの', ' や', ' よう', ' よく', ' より', ' られ', ' られる', ' れ', ' れる', ' ろ過', ' を', ' アノード', ' アミ', ' アミン', ' アミンガス', ' アミンスクラビング', ' アルカノールアミン', ' アルカリ', ' アルキリデンアミノグアニジン', ' アルキル', ' アルキレン', ' アルコキシシラン', ' アルコール', ' アルデヒド', ' アンモニア', ' イオン', ' イソプロピルアミノエタノール', ' エネルギ', ' エネルギー', ' エミッションタービンシステム', ' エーテル', ' オンライン', ' カソード', ' カラム', ' カルバミン', ' ガス', ' ガスタービンユニット', ' キャリヤ', ' ギ', ' ケイ', ' ゲル', ' コスト', ' コンパクト', ' コンプレッサー', ' サイクロン', ' サイズ', ' サーマルスイング', ' サーモ', ' システム', ' シリコアルミン', ' ジアミン', ' スイング', ' スクラバ', ' スケール', ' ステップ', ' ストリッピングガス', ' ストリーム', ' ストークス', ' スペース', ' スート', ' セメント', ' センチ', ' ソ', ' ゾーン', ' タンク', ' タービン', ' ダクト', ' テロ', ' トレイ', ' ドラム', ' ニトロ', ' ノ', ' ノズル', ' ハニカムロータ', ' ハロゲン', ' ハンドリング', ' バイパス', ' バランス', ' ヒドロキシアルキル', ' ヒートポンプ', ' ピペラジン', ' フィードバック', ' フューム', ' フラッシュ', ' フラッディング', ' プラント', ' プレクリーンガス', ' プロセス', ' ヘ', ' ヘテロ', ' ボイラ', ' ボイラ・タービン', ' ボトム', ' ポリアミン', ' ポリマー', ' ポンプ', ' ミスト', ' メイン', ' メタン', ' メタンガス', ' メタンハイドレート', ' メンテナンス', ' モノアミン', ' モル', ' ユニット', ' ライン', ' リクレーマ', ' リクレーミング', ' リッチ', ' リッチテールガス', ' リッチ・リーン', ' リペア', ' リボイラ', ' リボイラー', ' リーン', ' リーンソルベント', ' ロス', ' ・', ' 一', ' 一因', ' 一定', ' 一対', ' 一層', ' 一方', ' 一種', ' 一般', ' 一部', ' 三', ' 上', ' 上昇', ' 上流', ' 上記', ' 上部', ' 下', ' 下げる', ' 下方', ' 下記', ' 下部', ' 不揮発', ' 不純物', ' 不要', ' 与える', ' 且つ', ' 両方', ' 並び', ' 並びに', ' 中', ' 中和', ' 中空', ' 中間', ' 主として', ' 主成分', ' 乾燥', ' 予め', ' 予冷', ' 予熱', ' 事態', ' 二', ' 二酸化', ' 二酸化炭素', ' 井', ' 亘っ', ' 亙っ', ' 交換', ' 介し', ' 仕上げ', ' 他', ' 他方', ' 付き', ' 付着', ' 以上', ' 以下', ' 以降', ' 任意', ' 企図', ' 伝', ' 伴う', ' 位', ' 位置', ' 低', ' 低い', ' 低く', ' 低下', ' 低圧', ' 低減', ' 低温', ' 体', ' 体型', ' 体積', ' 何ら', ' 作業', ' 作用', ' 使用', ' 例えば', ' 供給', ' 価', ' 係る', ' 促進', ' 保守', ' 保持', ' 個', ' 値', ' 側', ' 側壁', ' 側面', ' 備え', ' 備える', ' 僅か', ' 優れ', ' 充填', ' 先行', ' 光', ' 光合成', ' 入力', ' 入口', ' 全て', ' 全体', ' 共', ' 具体', ' 具備', ' 兼ね備え', ' 内', ' 内燃', ' 内部', ' 内面', ' 再', ' 再生', ' 冷却', ' 冷媒', ' 冷熱', ' 凝固', ' 凝縮', ' 処理', ' 出る', ' 出力', ' 出来る', ' 出願', ' 分', ' 分岐', ' 分布', ' 分散', ' 分析', ' 分解', ' 分離', ' 判定', ' 利便', ' 利用', ' 制御', ' 制限', ' 削減', ' 前', ' 前記', ' 剤', ' 副', ' 割合', ' 力', ' 加熱', ' 劣化', ' 労力', ' 効果', ' 効率', ' 効用', ' 動力', ' 化', ' 化合', ' 化学', ' 化成', ' 化物', ' 十分', ' 単位', ' 即ち', ' 原', ' 原因', ' 原子', ' 原料', ' 又は', ' 及び', ' 双方', ' 反対', ' 反応', ' 収', ' 収量', ' 収集', ' 取り出す', ' 取り除く', ' 取出', ' 受け', ' 受け取り', ' 受容', ' 口', ' 可能', ' 号', ' 各', ' 各々', ' 合成', ' 合流', ' 同伴', ' 同化', ' 同時に', ' 向上', ' 含ま', ' 含み', ' 含む', ' 含め', ' 含ん', ' 含有', ' 含水液', ' 含水率', ' 含浸', ' 含量', ' 吸入', ' 吸収', ' 吸引', ' 吸着', ' 品', ' 員', ' 問題', ' 器', ' 噴霧', ' 回', ' 回収', ' 回路', ' 回避', ' 因子', ' 図っ', ' 図り', ' 図る', ' 図れ', ' 固体', ' 固化', ' 固形', ' 国際', ' 土', ' 圧', ' 圧下', ' 圧保持', ' 圧入', ' 圧力', ' 圧縮', ' 地中', ' 均一', ' 型', ' 基', ' 基体', ' 基質', ' 場合', ' 塔', ' 塩', ' 塩化', ' 塩基', ' 塵', ' 増加', ' 増大', ' 壁', ' 壁面', ' 変動', ' 変換', ' 外', ' 外部', ' 多', ' 多く', ' 多孔', ' 大', ' 大きく', ' 大幅', ' 大気', ' 大量', ' 天然', ' 奪わ', ' 好ましく', ' 好適', ' 媒体', ' 孔', ' 存在', ' 安価', ' 安定', ' 官能', ' 定量', ' 実施', ' 実現', ' 実用', ' 実質', ' 室温', ' 容器', ' 容易', ' 容積', ' 容量', ' 密度', ' 富む', ' 富ん', ' 寸法', ' 対処', ' 対応', ' 対象', ' 導く', ' 導入', ' 小さく', ' 小型', ' 小規模', ' 少ない', ' 少なく', ' 少なくとも', ' 層', ' 層状', ' 工場', ' 工業', ' 工程', ' 差', ' 巻き込ま', ' 希薄', ' 希釈', ' 常', ' 常温', ' 幅', ' 平均', ' 平面', ' 底', ' 度', ' 廃', ' 廃棄', ' 廃液', ' 建設', ' 式', ' 引き起こさ', ' 強度', ' 当', ' 当たり', ' 当たる', ' 当該', ' 形式', ' 形態', ' 形成', ' 影響', ' 径', ' 後', ' 徐', ' 従来', ' 得', ' 得る', ' 循環', ' 微生物', ' 必要', ' 性', ' 性能', ' 成', ' 成分', ' 或いは', ' 戻す', ' 所', ' 所定', ' 所要', ' 手段', ' 技法', ' 技術', ' 抑え', ' 抑える', ' 抑制', ' 投入', ' 抜き出さ', ' 抜出す', ' 抽出', ' 抽気', ' 担体', ' 担持', ' 捕', ' 捕捉', ' 捕獲', ' 排', ' 排ガス', ' 排出', ' 排気', ' 排水', ' 排除', ' 掘削', ' 接続', ' 接触', ' 措置', ' 提供', ' 提案', ' 揮発', ' 損失', ' 搭載', ' 撹拌', ' 操作', ' 操業', ' 支持', ' 改善', ' 改良', ' 放', ' 放出', ' 放射', ' 放散', ' 故障', ' 数', ' 敷地', ' 新', ' 新しい', ' 新た', ' 新規', ' 方向', ' 方式', ' 方法', ' 方途', ' 施用', ' 施用一', ' 施設', ' 族', ' 早期', ' 昇', ' 昇華', ' 易', ' 時', ' 時期', ' 曲面', ' 更', ' 更に', ' 最も', ' 最小限', ' 最適', ' 最高', ' 有し', ' 有する', ' 有価', ' 有効', ' 有害', ' 有機', ' 有機物', ' 期間', ' 未満', ' 本', ' 本体', ' 材', ' 材料', ' 条件', ' 条件下', ' 析出', ' 柔軟', ' 核', ' 根元', ' 植物', ' 検知', ' 概ね', ' 構成', ' 構造', ' 様々', ' 樹脂', ' 機', ' 機器', ' 機械', ' 機構', ' 機関', ' 欠点', ' 欠陥', ' 次', ' 次いで', ' 正確', ' 残', ' 残存', ' 残留', ' 残部', ' 段階', ' 比し', ' 比べ', ' 比熱', ' 比較的', ' 気', ' 気体', ' 気圧', ' 気泡', ' 水', ' 水中', ' 水分', ' 水性', ' 水準', ' 水溶液', ' 水素', ' 水蒸気', ' 求', ' 汚染', ' 汽力発', ' 沸点', ' 沿っ', ' 法', ' 注入', ' 洗浄', ' 洗浄液', ' 活性', ' 活性炭', ' 活用', ' 流', ' 流さ', ' 流す', ' 流れ', ' 流れる', ' 流体', ' 流入', ' 流出', ' 流動的', ' 流通', ' 流量', ' 浄化', ' 海水', ' 消費', ' 液', ' 液体', ' 液状', ' 混合', ' 添加', ' 清掃', ' 済', ' 済み', ' 減らす', ' 減圧', ' 減少', ' 渣', ' 温', ' 温室', ' 温度', ' 測定', ' 湾曲', ' 湿式', ' 湿潤', ' 満足', ' 源', ' 準', ' 溶剤', ' 溶媒', ' 溶存', ' 溶液', ' 溶解', ' 濃厚', ' 濃度', ' 濃縮', ' 濡れ', ' 火力', ' 炉', ' 炭化', ' 炭素', ' 炭酸', ' 点', ' 点在', ' 焚き', ' 無く', ' 無機', ' 無駄', ' 焼却', ' 煙', ' 煙突', ' 煤', ' 熱', ' 熱源', ' 熱量', ' 熱風', ' 燃料', ' 燃焼', ' 物', ' 物品', ' 物理', ' 物質', ' 特に', ' 特定', ' 特徴', ' 特殊', ' 特許', ' 状', ' 状態', ' 独立', ' 率', ' 環', ' 環境', ' 生', ' 生さ', ' 生し', ' 生じ', ' 生成', ' 生物', ' 生産', ' 生育', ' 用', ' 用い', ' 用いる', ' 由来', ' 画', ' 異なる', ' 発揮', ' 発明', ' 発泡', ' 発熱', ' 発生', ' 発酵', ' 発電', ' 的', ' 目的', ' 直列', ' 直径', ' 直線', ' 相', ' 相互', ' 省エネルギー', ' 真空', ' 着', ' 着用', ' 着色', ' 短時間', ' 石炭', ' 硫黄', ' 確保', ' 確実', ' 示す', ' 移動', ' 移送', ' 種', ' 稼働', ' 空き', ' 空間', ' 空隙', ' 窒素', ' 立', ' 立体', ' 第', ' 等', ' 管', ' 管理', ' 範囲', ' 簡便', ' 簡単', ' 簡易', ' 粒', ' 粒子', ' 粗', ' 粘', ' 精度', ' 精製', ' 糸状', ' 系', ' 約', ' 純度', ' 純粋', ' 級', ' 細', ' 組み合わせ', ' 組成', ' 経時', ' 経済', ' 経路', ' 経過', ' 結合', ' 結果', ' 給', ' 給油', ' 統合', ' 継続', ' 続く', ' 維持', ' 総合', ' 緩和', ' 縮小', ' 置換', ' 群', ' 考慮', ' 者', ' 耐え', ' 耐久', ' 耐摩耗', ' 耐熱', ' 肥大', ' 能', ' 能力', ' 脂肪', ' 脱', ' 脱去', ' 脱着', ' 脱硫', ' 腐食', ' 膜', ' 膨大', ' 自動的', ' 臭', ' 良い', ' 良く', ' 良好', ' 芳香', ' 蒸散', ' 蒸気', ' 蒸発', ' 蓄積', ' 薄', ' 行う', ' 行える', ' 行っ', ' 行ない', ' 行わ', ' 表さ', ' 表示', ' 表面', ' 被', ' 装置', ' 補助', ' 補給', ' 製品', ' 製造', ' 製鉄', ' 複合', ' 複数', ' 要する', ' 要求', ' 要素', ' 規定', ' 規模', ' 親水', ' 解決', ' 解消', ' 触媒', ' 記載', ' 設', ' 設け', ' 設備', ' 設定', ' 設置', ' 該', ' 該分解', ' 該含水', ' 該吸収', ' 該吸着', ' 該排', ' 該方法', ' 該煙道', ' 詳しく', ' 誘導', ' 課題', ' 調整', ' 調節', ' 調製', ' 負', ' 負荷', ' 貯留', ' 貯蔵', ' 費', ' 費用', ' 質', ' 質量', ' 走行', ' 起因', ' 距離', ' 路', ' 路上', ' 車両', ' 軽減', ' 輸送', ' 農産物', ' 迅速', ' 近傍', ' 追加', ' 追従', ' 送', ' 送ら', ' 送出', ' 通', ' 通し', ' 通っ', ' 通気', ' 通路', ' 通過', ' 速やか', ' 速度', ' 連', ' 連結', ' 連続', ' 遊離', ' 運び', ' 運び出さ', ' 運用', ' 運転', ' 過程', ' 道', ' 達成', ' 遠心', ' 適し', ' 適切', ' 適正', ' 適用', ' 選ば', ' 選択', ' 避ける', ' 還元', ' 還流', ' 部', ' 部位', ' 部内', ' 部分', ' 部屋', ' 部材', ' 配管', ' 配置', ' 酸', ' 酸化', ' 酸性', ' 酸素', ' 重', ' 重量', ' 量', ' 金属', ' 鉄', ' 鉱物', ' 長時間', ' 長期', ' 長期間', ' 閉塞', ' 開放', ' 開示', ' 間', ' 防ぎ', ' 防ぐ', ' 防止', ' 降', ' 限り', ' 限界', ' 除', ' 除去', ' 隔離', ' 際', ' 障害', ' 集', ' 集計', ' 離', ' 離し', ' 離れ', ' 離脱', ' 電', ' 電力', ' 電極', ' 電池', ' 電源', ' 電解', ' 露点', ' 非', ' 面', ' 頂', ' 順に', ' 領域', ' 頻度', ' 顕', ' 類', ' 飛散', ' 飛沫', ' 飛躍', ' 飽和', ' 駆動', ' 高', ' 高い', ' 高く', ' 高める', ' 高分子', ' 高圧', ' 高温', ' 高炉', ' ％', ' （', ' ）', ' ，', ' －', ' ．', ' ／', ' ；', ' ＜', ' Ａ', ' Ｂ', ' ＢＩＣＩＮＥ', ' Ｃ', ' ＣＯ', ' ＣＯ２', ' ＣＲ', ' Ｄ', ' Ｈ', ' Ｋ', ' Ｌ', ' Ｍ', ' Ｎ', ' ＮＯ', ' ＮＯｘ', ' Ｏ', ' Ｐ', ' Ｐａ', ' Ｒ', ' Ｓ', ' ＳＯ', ' ＳＯｘ', ' ＶＯＣ', ' Ｖｄ', ' ＷＯ', ' Ｘ', ' ［', ' ］', ' ａ', ' ｂ', ' ｃ', ' ｃｍ', ' ｇ', ' ｉ', ' ｍ', ' ｎ', ' ｎｍ', ' ｏ', ' ｐＫａ', ' ｐｐｍ', ' ｗ', ' ｘ']]\n"
          ]
        },
        {
          "output_type": "error",
          "ename": "TypeError",
          "evalue": "ignored",
          "traceback": [
            "\u001b[0;31m---------------------------------------------------------------------------\u001b[0m",
            "\u001b[0;31mTypeError\u001b[0m                                 Traceback (most recent call last)",
            "\u001b[0;32m<ipython-input-97-8eddad7948b0>\u001b[0m in \u001b[0;36m<module>\u001b[0;34m\u001b[0m\n\u001b[1;32m     10\u001b[0m \u001b[0;34m\u001b[0m\u001b[0m\n\u001b[1;32m     11\u001b[0m \u001b[0;31m#text=l\u001b[0m\u001b[0;34m\u001b[0m\u001b[0;34m\u001b[0m\u001b[0m\n\u001b[0;32m---> 12\u001b[0;31m \u001b[0mresult\u001b[0m \u001b[0;34m=\u001b[0m \u001b[0mmecab\u001b[0m\u001b[0;34m.\u001b[0m\u001b[0mparse\u001b[0m\u001b[0;34m(\u001b[0m\u001b[0ml\u001b[0m\u001b[0;34m)\u001b[0m\u001b[0;34m\u001b[0m\u001b[0;34m\u001b[0m\u001b[0m\n\u001b[0m\u001b[1;32m     13\u001b[0m \u001b[0mprint\u001b[0m\u001b[0;34m(\u001b[0m\u001b[0mresult\u001b[0m\u001b[0;34m)\u001b[0m\u001b[0;34m\u001b[0m\u001b[0;34m\u001b[0m\u001b[0m\n",
            "\u001b[0;31mTypeError\u001b[0m: in method 'Tagger_parse', argument 2 of type 'char const *'\nAdditional information:\nWrong number or type of arguments for overloaded function 'Tagger_parse'.\n  Possible C/C++ prototypes are:\n    MeCab::Tagger::parse(MeCab::Lattice *) const\n    MeCab::Tagger::parse(char const *)\n"
          ]
        }
      ]
    }
  ]
}