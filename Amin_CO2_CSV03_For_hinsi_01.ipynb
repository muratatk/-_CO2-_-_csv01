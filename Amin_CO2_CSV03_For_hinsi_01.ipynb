{
  "nbformat": 4,
  "nbformat_minor": 0,
  "metadata": {
    "colab": {
      "provenance": [],
      "toc_visible": true,
      "authorship_tag": "ABX9TyNnsHTkDxUyrPP7ldMgwPbE",
      "include_colab_link": true
    },
    "kernelspec": {
      "name": "python3",
      "display_name": "Python 3"
    },
    "language_info": {
      "name": "python"
    }
  },
  "cells": [
    {
      "cell_type": "markdown",
      "metadata": {
        "id": "view-in-github",
        "colab_type": "text"
      },
      "source": [
        "<a href=\"https://colab.research.google.com/github/muratatk/-_CO2-_-_csv01/blob/main/Amin_CO2_CSV03_For_hinsi_01.ipynb\" target=\"_parent\"><img src=\"https://colab.research.google.com/assets/colab-badge.svg\" alt=\"Open In Colab\"/></a>"
      ]
    },
    {
      "cell_type": "code",
      "execution_count": null,
      "metadata": {
        "colab": {
          "base_uri": "https://localhost:8080/"
        },
        "id": "vcoAMrPdYnFI",
        "outputId": "39dd0327-ff64-4519-94e4-6160feed3db4"
      },
      "outputs": [
        {
          "output_type": "stream",
          "name": "stdout",
          "text": [
            "Looking in indexes: https://pypi.org/simple, https://us-python.pkg.dev/colab-wheels/public/simple/\n",
            "Requirement already satisfied: numpy in /usr/local/lib/python3.9/dist-packages (1.22.4)\n"
          ]
        }
      ],
      "source": [
        "!pip install numpy"
      ]
    },
    {
      "cell_type": "code",
      "source": [
        "!pip install pandas"
      ],
      "metadata": {
        "colab": {
          "base_uri": "https://localhost:8080/"
        },
        "id": "bPwVTgOxbJ_X",
        "outputId": "2072c3d3-177e-4a48-9378-d047c64eac81"
      },
      "execution_count": 2,
      "outputs": [
        {
          "output_type": "stream",
          "name": "stdout",
          "text": [
            "Looking in indexes: https://pypi.org/simple, https://us-python.pkg.dev/colab-wheels/public/simple/\n",
            "Requirement already satisfied: pandas in /usr/local/lib/python3.9/dist-packages (1.3.5)\n",
            "Requirement already satisfied: pytz>=2017.3 in /usr/local/lib/python3.9/dist-packages (from pandas) (2022.7.1)\n",
            "Requirement already satisfied: python-dateutil>=2.7.3 in /usr/local/lib/python3.9/dist-packages (from pandas) (2.8.2)\n",
            "Requirement already satisfied: numpy>=1.17.3 in /usr/local/lib/python3.9/dist-packages (from pandas) (1.22.4)\n",
            "Requirement already satisfied: six>=1.5 in /usr/local/lib/python3.9/dist-packages (from python-dateutil>=2.7.3->pandas) (1.15.0)\n"
          ]
        }
      ]
    },
    {
      "cell_type": "code",
      "source": [
        "!pip install plotly"
      ],
      "metadata": {
        "colab": {
          "base_uri": "https://localhost:8080/"
        },
        "id": "TdJmWXttbO7U",
        "outputId": "b970ebd6-e8be-4482-9533-d126586a2e9d"
      },
      "execution_count": 3,
      "outputs": [
        {
          "output_type": "stream",
          "name": "stdout",
          "text": [
            "Looking in indexes: https://pypi.org/simple, https://us-python.pkg.dev/colab-wheels/public/simple/\n",
            "Requirement already satisfied: plotly in /usr/local/lib/python3.9/dist-packages (5.5.0)\n",
            "Requirement already satisfied: six in /usr/local/lib/python3.9/dist-packages (from plotly) (1.15.0)\n",
            "Requirement already satisfied: tenacity>=6.2.0 in /usr/local/lib/python3.9/dist-packages (from plotly) (8.2.2)\n"
          ]
        }
      ]
    },
    {
      "cell_type": "code",
      "source": [
        "!pip install nlplot "
      ],
      "metadata": {
        "colab": {
          "base_uri": "https://localhost:8080/"
        },
        "id": "lrVdFKLKbTAL",
        "outputId": "132971da-0e72-4ef4-a870-8d58ac87529b"
      },
      "execution_count": 4,
      "outputs": [
        {
          "output_type": "stream",
          "name": "stdout",
          "text": [
            "Looking in indexes: https://pypi.org/simple, https://us-python.pkg.dev/colab-wheels/public/simple/\n",
            "Collecting nlplot\n",
            "  Downloading nlplot-1.6.0-py3-none-any.whl (967 kB)\n",
            "\u001b[2K     \u001b[90m━━━━━━━━━━━━━━━━━━━━━━━━━━━━━━━━━━━━━━\u001b[0m \u001b[32m967.9/967.9 KB\u001b[0m \u001b[31m19.2 MB/s\u001b[0m eta \u001b[36m0:00:00\u001b[0m\n",
            "\u001b[?25hRequirement already satisfied: tqdm in /usr/local/lib/python3.9/dist-packages (from nlplot) (4.65.0)\n",
            "Requirement already satisfied: networkx in /usr/local/lib/python3.9/dist-packages (from nlplot) (3.0)\n",
            "Requirement already satisfied: ipython in /usr/local/lib/python3.9/dist-packages (from nlplot) (7.9.0)\n",
            "Requirement already satisfied: scikit-learn in /usr/local/lib/python3.9/dist-packages (from nlplot) (1.2.1)\n",
            "Requirement already satisfied: matplotlib in /usr/local/lib/python3.9/dist-packages (from nlplot) (3.5.3)\n",
            "Requirement already satisfied: pillow in /usr/local/lib/python3.9/dist-packages (from nlplot) (8.4.0)\n",
            "Requirement already satisfied: pandas in /usr/local/lib/python3.9/dist-packages (from nlplot) (1.3.5)\n",
            "Requirement already satisfied: wordcloud in /usr/local/lib/python3.9/dist-packages (from nlplot) (1.8.2.2)\n",
            "Requirement already satisfied: seaborn in /usr/local/lib/python3.9/dist-packages (from nlplot) (0.11.2)\n",
            "Requirement already satisfied: numpy in /usr/local/lib/python3.9/dist-packages (from nlplot) (1.22.4)\n",
            "Requirement already satisfied: plotly>=4.12.0 in /usr/local/lib/python3.9/dist-packages (from nlplot) (5.5.0)\n",
            "Requirement already satisfied: tenacity>=6.2.0 in /usr/local/lib/python3.9/dist-packages (from plotly>=4.12.0->nlplot) (8.2.2)\n",
            "Requirement already satisfied: six in /usr/local/lib/python3.9/dist-packages (from plotly>=4.12.0->nlplot) (1.15.0)\n",
            "Requirement already satisfied: setuptools>=18.5 in /usr/local/lib/python3.9/dist-packages (from ipython->nlplot) (57.4.0)\n",
            "Requirement already satisfied: prompt-toolkit<2.1.0,>=2.0.0 in /usr/local/lib/python3.9/dist-packages (from ipython->nlplot) (2.0.10)\n",
            "Requirement already satisfied: pexpect in /usr/local/lib/python3.9/dist-packages (from ipython->nlplot) (4.8.0)\n",
            "Collecting jedi>=0.10\n",
            "  Downloading jedi-0.18.2-py2.py3-none-any.whl (1.6 MB)\n",
            "\u001b[2K     \u001b[90m━━━━━━━━━━━━━━━━━━━━━━━━━━━━━━━━━━━━━━━━\u001b[0m \u001b[32m1.6/1.6 MB\u001b[0m \u001b[31m64.3 MB/s\u001b[0m eta \u001b[36m0:00:00\u001b[0m\n",
            "\u001b[?25hRequirement already satisfied: pygments in /usr/local/lib/python3.9/dist-packages (from ipython->nlplot) (2.6.1)\n",
            "Requirement already satisfied: backcall in /usr/local/lib/python3.9/dist-packages (from ipython->nlplot) (0.2.0)\n",
            "Requirement already satisfied: decorator in /usr/local/lib/python3.9/dist-packages (from ipython->nlplot) (4.4.2)\n",
            "Requirement already satisfied: traitlets>=4.2 in /usr/local/lib/python3.9/dist-packages (from ipython->nlplot) (5.7.1)\n",
            "Requirement already satisfied: pickleshare in /usr/local/lib/python3.9/dist-packages (from ipython->nlplot) (0.7.5)\n",
            "Requirement already satisfied: pyparsing>=2.2.1 in /usr/local/lib/python3.9/dist-packages (from matplotlib->nlplot) (3.0.9)\n",
            "Requirement already satisfied: python-dateutil>=2.7 in /usr/local/lib/python3.9/dist-packages (from matplotlib->nlplot) (2.8.2)\n",
            "Requirement already satisfied: cycler>=0.10 in /usr/local/lib/python3.9/dist-packages (from matplotlib->nlplot) (0.11.0)\n",
            "Requirement already satisfied: packaging>=20.0 in /usr/local/lib/python3.9/dist-packages (from matplotlib->nlplot) (23.0)\n",
            "Requirement already satisfied: kiwisolver>=1.0.1 in /usr/local/lib/python3.9/dist-packages (from matplotlib->nlplot) (1.4.4)\n",
            "Requirement already satisfied: fonttools>=4.22.0 in /usr/local/lib/python3.9/dist-packages (from matplotlib->nlplot) (4.39.0)\n",
            "Requirement already satisfied: pytz>=2017.3 in /usr/local/lib/python3.9/dist-packages (from pandas->nlplot) (2022.7.1)\n",
            "Requirement already satisfied: threadpoolctl>=2.0.0 in /usr/local/lib/python3.9/dist-packages (from scikit-learn->nlplot) (3.1.0)\n",
            "Requirement already satisfied: joblib>=1.1.1 in /usr/local/lib/python3.9/dist-packages (from scikit-learn->nlplot) (1.2.0)\n",
            "Requirement already satisfied: scipy>=1.3.2 in /usr/local/lib/python3.9/dist-packages (from scikit-learn->nlplot) (1.10.1)\n",
            "Requirement already satisfied: parso<0.9.0,>=0.8.0 in /usr/local/lib/python3.9/dist-packages (from jedi>=0.10->ipython->nlplot) (0.8.3)\n",
            "Requirement already satisfied: wcwidth in /usr/local/lib/python3.9/dist-packages (from prompt-toolkit<2.1.0,>=2.0.0->ipython->nlplot) (0.2.6)\n",
            "Requirement already satisfied: ptyprocess>=0.5 in /usr/local/lib/python3.9/dist-packages (from pexpect->ipython->nlplot) (0.7.0)\n",
            "Installing collected packages: jedi, nlplot\n",
            "Successfully installed jedi-0.18.2 nlplot-1.6.0\n"
          ]
        }
      ]
    },
    {
      "cell_type": "code",
      "source": [
        "!pip install matplotlib"
      ],
      "metadata": {
        "colab": {
          "base_uri": "https://localhost:8080/"
        },
        "id": "kIDiKF10bYbt",
        "outputId": "559754c4-c417-4666-8625-a8c8dba88674"
      },
      "execution_count": 5,
      "outputs": [
        {
          "output_type": "stream",
          "name": "stdout",
          "text": [
            "Looking in indexes: https://pypi.org/simple, https://us-python.pkg.dev/colab-wheels/public/simple/\n",
            "Requirement already satisfied: matplotlib in /usr/local/lib/python3.9/dist-packages (3.5.3)\n",
            "Requirement already satisfied: pillow>=6.2.0 in /usr/local/lib/python3.9/dist-packages (from matplotlib) (8.4.0)\n",
            "Requirement already satisfied: fonttools>=4.22.0 in /usr/local/lib/python3.9/dist-packages (from matplotlib) (4.39.0)\n",
            "Requirement already satisfied: packaging>=20.0 in /usr/local/lib/python3.9/dist-packages (from matplotlib) (23.0)\n",
            "Requirement already satisfied: cycler>=0.10 in /usr/local/lib/python3.9/dist-packages (from matplotlib) (0.11.0)\n",
            "Requirement already satisfied: kiwisolver>=1.0.1 in /usr/local/lib/python3.9/dist-packages (from matplotlib) (1.4.4)\n",
            "Requirement already satisfied: python-dateutil>=2.7 in /usr/local/lib/python3.9/dist-packages (from matplotlib) (2.8.2)\n",
            "Requirement already satisfied: pyparsing>=2.2.1 in /usr/local/lib/python3.9/dist-packages (from matplotlib) (3.0.9)\n",
            "Requirement already satisfied: numpy>=1.17 in /usr/local/lib/python3.9/dist-packages (from matplotlib) (1.22.4)\n",
            "Requirement already satisfied: six>=1.5 in /usr/local/lib/python3.9/dist-packages (from python-dateutil>=2.7->matplotlib) (1.15.0)\n"
          ]
        }
      ]
    },
    {
      "cell_type": "code",
      "source": [
        "#　csvは標準ライブラリとしてあるので、インストールする必要はない\n",
        "#　CSVファイルの読み込み書き込み\n",
        "# https://note.nkmk.me/python-csv-reader-writer/"
      ],
      "metadata": {
        "id": "n_7Riz9Ibfxi"
      },
      "execution_count": null,
      "outputs": []
    },
    {
      "cell_type": "code",
      "source": [
        "import pandas as pd\n",
        "import matplotlib as plt\n",
        "import os\n"
      ],
      "metadata": {
        "id": "bx9ft8wAbkGo"
      },
      "execution_count": 6,
      "outputs": []
    },
    {
      "cell_type": "code",
      "source": [
        "from google.colab import drive"
      ],
      "metadata": {
        "id": "n-LBmTqsboiD"
      },
      "execution_count": 7,
      "outputs": []
    },
    {
      "cell_type": "code",
      "source": [
        "drive.mount('/content/drive')"
      ],
      "metadata": {
        "colab": {
          "base_uri": "https://localhost:8080/"
        },
        "id": "KimIvbyBbsTO",
        "outputId": "7f72d287-903d-4d4c-b46e-40475c0c0c52"
      },
      "execution_count": 8,
      "outputs": [
        {
          "output_type": "stream",
          "name": "stdout",
          "text": [
            "Mounted at /content/drive\n"
          ]
        }
      ]
    },
    {
      "cell_type": "code",
      "source": [
        "os.chdir('/content/drive/MyDrive/Python_Content/')"
      ],
      "metadata": {
        "id": "DzTxHo_Kb4XR"
      },
      "execution_count": 9,
      "outputs": []
    },
    {
      "cell_type": "code",
      "source": [
        "!ls"
      ],
      "metadata": {
        "colab": {
          "base_uri": "https://localhost:8080/"
        },
        "id": "iWZiortxb8Wb",
        "outputId": "c8e3a9cb-d04d-4a4c-ec4c-fc3cbf921008"
      },
      "execution_count": 10,
      "outputs": [
        {
          "output_type": "stream",
          "name": "stdout",
          "text": [
            "2023-03-08_uni-gram.html  アミン_CO2回収_課題_日本語.csv\n",
            "mecab-ipadic-neologd\t  アミン_CO2回収_課題_日本語.txt\n",
            "newplot.png\n"
          ]
        }
      ]
    },
    {
      "cell_type": "code",
      "source": [
        "pd.set_option('display.max_columns', 900) #DF定義：900行にしておく"
      ],
      "metadata": {
        "id": "ITpqoUEpcBqq"
      },
      "execution_count": 11,
      "outputs": []
    },
    {
      "cell_type": "code",
      "source": [
        "pd.set_option('display.max_colwidth',10000)"
      ],
      "metadata": {
        "id": "NRQnVTQdcIPL"
      },
      "execution_count": 12,
      "outputs": []
    },
    {
      "cell_type": "code",
      "source": [
        "!pip install janome"
      ],
      "metadata": {
        "colab": {
          "base_uri": "https://localhost:8080/"
        },
        "id": "69BvytpTcMhA",
        "outputId": "feb70fd0-4e9a-4d0d-a7c0-64b587d04235"
      },
      "execution_count": 13,
      "outputs": [
        {
          "output_type": "stream",
          "name": "stdout",
          "text": [
            "Looking in indexes: https://pypi.org/simple, https://us-python.pkg.dev/colab-wheels/public/simple/\n",
            "Collecting janome\n",
            "  Downloading Janome-0.4.2-py2.py3-none-any.whl (19.7 MB)\n",
            "\u001b[2K     \u001b[90m━━━━━━━━━━━━━━━━━━━━━━━━━━━━━━━━━━━━━━━━\u001b[0m \u001b[32m19.7/19.7 MB\u001b[0m \u001b[31m46.0 MB/s\u001b[0m eta \u001b[36m0:00:00\u001b[0m\n",
            "\u001b[?25hInstalling collected packages: janome\n",
            "Successfully installed janome-0.4.2\n"
          ]
        }
      ]
    },
    {
      "cell_type": "code",
      "source": [
        "#　やっぱり、csvはインストールの必要なないが、importの必要はある\n",
        "#　csvファイルの読み書き\n",
        "#　https://www.tech-teacher.jp/blog/python-csv/"
      ],
      "metadata": {
        "id": "5qz0GqyTcX_z"
      },
      "execution_count": 14,
      "outputs": []
    },
    {
      "cell_type": "code",
      "source": [
        "import csv"
      ],
      "metadata": {
        "id": "H5d869hXcbPy"
      },
      "execution_count": 15,
      "outputs": []
    },
    {
      "cell_type": "code",
      "source": [
        "csvfile = open('/content/drive/MyDrive/Python_Content/アミン_CO2回収_課題_日本語.csv')"
      ],
      "metadata": {
        "id": "Js9ZLwwncezT"
      },
      "execution_count": 16,
      "outputs": []
    },
    {
      "cell_type": "code",
      "source": [
        "# csvファイルをpandasで読み込む\n",
        "#　https://blog.codecamp.jp/python-csv"
      ],
      "metadata": {
        "id": "BTeOpw0tcili"
      },
      "execution_count": 17,
      "outputs": []
    },
    {
      "cell_type": "code",
      "source": [
        "df=pd.read_csv('/content/drive/MyDrive/Python_Content/アミン_CO2回収_課題_日本語.csv')"
      ],
      "metadata": {
        "id": "2QQtr_ZFcupW"
      },
      "execution_count": 18,
      "outputs": []
    },
    {
      "cell_type": "code",
      "source": [
        "df"
      ],
      "metadata": {
        "colab": {
          "base_uri": "https://localhost:8080/",
          "height": 780
        },
        "id": "LGj_qiJ7c7fG",
        "outputId": "c2ecac84-b1a4-44ea-b7ac-f2822c90bb6a"
      },
      "execution_count": 19,
      "outputs": [
        {
          "output_type": "execute_result",
          "data": {
            "text/plain": [
              "      id  \\\n",
              "0      1   \n",
              "1      2   \n",
              "2      3   \n",
              "3      4   \n",
              "4      5   \n",
              "..   ...   \n",
              "308  309   \n",
              "309  310   \n",
              "310  311   \n",
              "311  312   \n",
              "312  313   \n",
              "\n",
              "                                                                                                                                                                                                                                                                                                                                                                                                        text  \n",
              "0                                                                                                                                                                                                                                                                                                                                                     高効率運転を図りつつ、炭酸ガス（例えば、二酸化炭素）を効率良く除去することができるガスタービン装置を提供する  \n",
              "1                                                                                                                                                                                                                                                                                                                           ＣＯ↓２吸収液を再生するための熱エネルギーと、回収したＣＯ↓２を圧縮する動力とを供給するとともに、高い熱効率を有するＣＯ↓２の回収方法及びそのシステムを提供する  \n",
              "2                                                                                                                                                                                                                                                                                                                                                    大規模二酸化炭素発生源から排出される二酸化炭素を、コンパクトな設備で効率的かつ安価に分離回収する技術を提供する  \n",
              "3                                                                                                                                                                                                                                                                                                           中空糸状多孔膜を用いるガス分離方法及びその装置において、選択性、安定性及びガス分離速度の点ですぐれるとともに、従来の膜分離法と吸収法では達成し得なかったガス分離の大幅な所要エネルギー低減を図る  \n",
              "4                                                                                                                                                                                                                                                             酸性ガス除去装置１００は、希薄溶剤１２２および準希薄溶剤１３２を独立的に生成する２つの再生器１２０、１３０に濃厚溶剤１０６を供給する吸収器１１０を備え、準希薄溶剤１３２は、再生器の一方１３０において、他方の再生器１２０から誘導された熱１４０および／または蒸気２７６を使用して生成される  \n",
              "..                                                                                                                                                                                                                                                                                                                                                                                                       ...  \n",
              "308  排ガスに含まれる炭酸ガスを吸収液に吸収させて炭酸ガス含有吸収液を生成する吸収塔と、吸収塔から供給された炭酸ガス含有吸収液を加熱し炭酸ガスを放出させて再生吸収液にする再生塔と、再生塔から供給された再生吸収液を加熱用水蒸気で加熱して再生塔に戻すリボイラーと、前記再生吸収液と前記炭酸ガス含有吸収液との間で熱交換する熱交換器と、熱交換器から送出された再生吸収液を予冷する再生吸収液冷却器と、駆動用水蒸気によって再生器が加熱され、熱交換器で昇温された炭酸ガス含有吸収液が供給され吸収器の伝熱管および凝縮器の伝熱管を介して再生塔に送出し、熱交換器および再生吸収液冷却器で降温された再生吸収液が供給され蒸発器の伝熱管を介して吸収塔に吸収液として環流させる吸収式ヒートポンプと、再生塔から炭酸ガスとともに供給された水蒸気を凝縮させて炭酸ガスを分離する炭酸ガス分離器と、を備える炭酸ガス回収システム  \n",
              "309                             排ガスに含まれる炭酸ガスを吸収液に吸収させて二酸化炭素含有吸収液を生成する吸収塔と、吸収塔から供給された二酸化炭素含有吸収液を水蒸気で加熱し吸収した炭酸ガスの一部を放出させ二酸化炭素含有吸収液を二酸化炭素中間濃度吸収液にする高圧再生塔と、高圧再生塔から供給された二酸化炭素中間濃度吸収液を加熱し二酸化炭素中間濃度吸収液に残存する二酸化炭素の残部を放出させ二酸化炭素中間濃度吸収液を再生吸収液にする低圧再生塔と、低圧再生塔から供給された再生吸収液と吸収塔から供給された二酸化炭素含有吸収液との間で熱交換する第１熱交換器と、高圧再生塔から流出し低圧再生塔に流入する二酸化炭素中間濃度吸収液と第１熱交換器から流出し高圧再生塔に流入する二酸化炭素含有吸収液との間で熱交換させる第２熱交換器とを備える二重効用化学吸収式炭酸ガス回収システム  \n",
              "310                                                                           二酸化炭素を含有する被分離ガス（例えば燃焼排ガス）から二酸化炭素を分離する分離装置（６０）を備える二酸化炭素回収装置（１Ａ）において、被分離ガスが供給される上流側から順に、分離装置（６０）と、分離装置（６０）において分離された二酸化炭素を昇華（固化）させる二酸化炭素昇華器（５Ａ，５Ｂ）と、が直列に接続されていること、二酸化炭素昇華器（５Ａ，５Ｂ）には、冷熱を有する流体を冷媒とする冷媒回路（１２Ａ，１２Ｂ）が接続されており、冷媒により、二酸化炭素の昇華（固化）が行われること、二酸化炭素の昇華（固化）が行われる際に二酸化炭素昇華器（５Ａ，５Ｂ）が減圧され、負圧となることで、分離装置（６０）において分離された二酸化炭素の吸引が行われる  \n",
              "311                                                                                                                                                                                                                                                                                                          工場設備から排出される排ガスを有効利用して、排水中のアルカリ土類金属イオンを除去してスケールの発生を抑制することができ、工業的に利用可能なアルカリ土類金属炭酸塩を得る排水の処理方法を提供する  \n",
              "312                                                                                                                                                                                                                                                                                                                                                              水素及びアンモニア製造システムに関し、プラントの排水から有価物を効率よく安価に生成する  \n",
              "\n",
              "[313 rows x 2 columns]"
            ],
            "text/html": [
              "\n",
              "  <div id=\"df-d13d6b3b-049f-48f2-b2b7-479504126131\">\n",
              "    <div class=\"colab-df-container\">\n",
              "      <div>\n",
              "<style scoped>\n",
              "    .dataframe tbody tr th:only-of-type {\n",
              "        vertical-align: middle;\n",
              "    }\n",
              "\n",
              "    .dataframe tbody tr th {\n",
              "        vertical-align: top;\n",
              "    }\n",
              "\n",
              "    .dataframe thead th {\n",
              "        text-align: right;\n",
              "    }\n",
              "</style>\n",
              "<table border=\"1\" class=\"dataframe\">\n",
              "  <thead>\n",
              "    <tr style=\"text-align: right;\">\n",
              "      <th></th>\n",
              "      <th>id</th>\n",
              "      <th>text</th>\n",
              "    </tr>\n",
              "  </thead>\n",
              "  <tbody>\n",
              "    <tr>\n",
              "      <th>0</th>\n",
              "      <td>1</td>\n",
              "      <td>高効率運転を図りつつ、炭酸ガス（例えば、二酸化炭素）を効率良く除去することができるガスタービン装置を提供する</td>\n",
              "    </tr>\n",
              "    <tr>\n",
              "      <th>1</th>\n",
              "      <td>2</td>\n",
              "      <td>ＣＯ↓２吸収液を再生するための熱エネルギーと、回収したＣＯ↓２を圧縮する動力とを供給するとともに、高い熱効率を有するＣＯ↓２の回収方法及びそのシステムを提供する</td>\n",
              "    </tr>\n",
              "    <tr>\n",
              "      <th>2</th>\n",
              "      <td>3</td>\n",
              "      <td>大規模二酸化炭素発生源から排出される二酸化炭素を、コンパクトな設備で効率的かつ安価に分離回収する技術を提供する</td>\n",
              "    </tr>\n",
              "    <tr>\n",
              "      <th>3</th>\n",
              "      <td>4</td>\n",
              "      <td>中空糸状多孔膜を用いるガス分離方法及びその装置において、選択性、安定性及びガス分離速度の点ですぐれるとともに、従来の膜分離法と吸収法では達成し得なかったガス分離の大幅な所要エネルギー低減を図る</td>\n",
              "    </tr>\n",
              "    <tr>\n",
              "      <th>4</th>\n",
              "      <td>5</td>\n",
              "      <td>酸性ガス除去装置１００は、希薄溶剤１２２および準希薄溶剤１３２を独立的に生成する２つの再生器１２０、１３０に濃厚溶剤１０６を供給する吸収器１１０を備え、準希薄溶剤１３２は、再生器の一方１３０において、他方の再生器１２０から誘導された熱１４０および／または蒸気２７６を使用して生成される</td>\n",
              "    </tr>\n",
              "    <tr>\n",
              "      <th>...</th>\n",
              "      <td>...</td>\n",
              "      <td>...</td>\n",
              "    </tr>\n",
              "    <tr>\n",
              "      <th>308</th>\n",
              "      <td>309</td>\n",
              "      <td>排ガスに含まれる炭酸ガスを吸収液に吸収させて炭酸ガス含有吸収液を生成する吸収塔と、吸収塔から供給された炭酸ガス含有吸収液を加熱し炭酸ガスを放出させて再生吸収液にする再生塔と、再生塔から供給された再生吸収液を加熱用水蒸気で加熱して再生塔に戻すリボイラーと、前記再生吸収液と前記炭酸ガス含有吸収液との間で熱交換する熱交換器と、熱交換器から送出された再生吸収液を予冷する再生吸収液冷却器と、駆動用水蒸気によって再生器が加熱され、熱交換器で昇温された炭酸ガス含有吸収液が供給され吸収器の伝熱管および凝縮器の伝熱管を介して再生塔に送出し、熱交換器および再生吸収液冷却器で降温された再生吸収液が供給され蒸発器の伝熱管を介して吸収塔に吸収液として環流させる吸収式ヒートポンプと、再生塔から炭酸ガスとともに供給された水蒸気を凝縮させて炭酸ガスを分離する炭酸ガス分離器と、を備える炭酸ガス回収システム</td>\n",
              "    </tr>\n",
              "    <tr>\n",
              "      <th>309</th>\n",
              "      <td>310</td>\n",
              "      <td>排ガスに含まれる炭酸ガスを吸収液に吸収させて二酸化炭素含有吸収液を生成する吸収塔と、吸収塔から供給された二酸化炭素含有吸収液を水蒸気で加熱し吸収した炭酸ガスの一部を放出させ二酸化炭素含有吸収液を二酸化炭素中間濃度吸収液にする高圧再生塔と、高圧再生塔から供給された二酸化炭素中間濃度吸収液を加熱し二酸化炭素中間濃度吸収液に残存する二酸化炭素の残部を放出させ二酸化炭素中間濃度吸収液を再生吸収液にする低圧再生塔と、低圧再生塔から供給された再生吸収液と吸収塔から供給された二酸化炭素含有吸収液との間で熱交換する第１熱交換器と、高圧再生塔から流出し低圧再生塔に流入する二酸化炭素中間濃度吸収液と第１熱交換器から流出し高圧再生塔に流入する二酸化炭素含有吸収液との間で熱交換させる第２熱交換器とを備える二重効用化学吸収式炭酸ガス回収システム</td>\n",
              "    </tr>\n",
              "    <tr>\n",
              "      <th>310</th>\n",
              "      <td>311</td>\n",
              "      <td>二酸化炭素を含有する被分離ガス（例えば燃焼排ガス）から二酸化炭素を分離する分離装置（６０）を備える二酸化炭素回収装置（１Ａ）において、被分離ガスが供給される上流側から順に、分離装置（６０）と、分離装置（６０）において分離された二酸化炭素を昇華（固化）させる二酸化炭素昇華器（５Ａ，５Ｂ）と、が直列に接続されていること、二酸化炭素昇華器（５Ａ，５Ｂ）には、冷熱を有する流体を冷媒とする冷媒回路（１２Ａ，１２Ｂ）が接続されており、冷媒により、二酸化炭素の昇華（固化）が行われること、二酸化炭素の昇華（固化）が行われる際に二酸化炭素昇華器（５Ａ，５Ｂ）が減圧され、負圧となることで、分離装置（６０）において分離された二酸化炭素の吸引が行われる</td>\n",
              "    </tr>\n",
              "    <tr>\n",
              "      <th>311</th>\n",
              "      <td>312</td>\n",
              "      <td>工場設備から排出される排ガスを有効利用して、排水中のアルカリ土類金属イオンを除去してスケールの発生を抑制することができ、工業的に利用可能なアルカリ土類金属炭酸塩を得る排水の処理方法を提供する</td>\n",
              "    </tr>\n",
              "    <tr>\n",
              "      <th>312</th>\n",
              "      <td>313</td>\n",
              "      <td>水素及びアンモニア製造システムに関し、プラントの排水から有価物を効率よく安価に生成する</td>\n",
              "    </tr>\n",
              "  </tbody>\n",
              "</table>\n",
              "<p>313 rows × 2 columns</p>\n",
              "</div>\n",
              "      <button class=\"colab-df-convert\" onclick=\"convertToInteractive('df-d13d6b3b-049f-48f2-b2b7-479504126131')\"\n",
              "              title=\"Convert this dataframe to an interactive table.\"\n",
              "              style=\"display:none;\">\n",
              "        \n",
              "  <svg xmlns=\"http://www.w3.org/2000/svg\" height=\"24px\"viewBox=\"0 0 24 24\"\n",
              "       width=\"24px\">\n",
              "    <path d=\"M0 0h24v24H0V0z\" fill=\"none\"/>\n",
              "    <path d=\"M18.56 5.44l.94 2.06.94-2.06 2.06-.94-2.06-.94-.94-2.06-.94 2.06-2.06.94zm-11 1L8.5 8.5l.94-2.06 2.06-.94-2.06-.94L8.5 2.5l-.94 2.06-2.06.94zm10 10l.94 2.06.94-2.06 2.06-.94-2.06-.94-.94-2.06-.94 2.06-2.06.94z\"/><path d=\"M17.41 7.96l-1.37-1.37c-.4-.4-.92-.59-1.43-.59-.52 0-1.04.2-1.43.59L10.3 9.45l-7.72 7.72c-.78.78-.78 2.05 0 2.83L4 21.41c.39.39.9.59 1.41.59.51 0 1.02-.2 1.41-.59l7.78-7.78 2.81-2.81c.8-.78.8-2.07 0-2.86zM5.41 20L4 18.59l7.72-7.72 1.47 1.35L5.41 20z\"/>\n",
              "  </svg>\n",
              "      </button>\n",
              "      \n",
              "  <style>\n",
              "    .colab-df-container {\n",
              "      display:flex;\n",
              "      flex-wrap:wrap;\n",
              "      gap: 12px;\n",
              "    }\n",
              "\n",
              "    .colab-df-convert {\n",
              "      background-color: #E8F0FE;\n",
              "      border: none;\n",
              "      border-radius: 50%;\n",
              "      cursor: pointer;\n",
              "      display: none;\n",
              "      fill: #1967D2;\n",
              "      height: 32px;\n",
              "      padding: 0 0 0 0;\n",
              "      width: 32px;\n",
              "    }\n",
              "\n",
              "    .colab-df-convert:hover {\n",
              "      background-color: #E2EBFA;\n",
              "      box-shadow: 0px 1px 2px rgba(60, 64, 67, 0.3), 0px 1px 3px 1px rgba(60, 64, 67, 0.15);\n",
              "      fill: #174EA6;\n",
              "    }\n",
              "\n",
              "    [theme=dark] .colab-df-convert {\n",
              "      background-color: #3B4455;\n",
              "      fill: #D2E3FC;\n",
              "    }\n",
              "\n",
              "    [theme=dark] .colab-df-convert:hover {\n",
              "      background-color: #434B5C;\n",
              "      box-shadow: 0px 1px 3px 1px rgba(0, 0, 0, 0.15);\n",
              "      filter: drop-shadow(0px 1px 2px rgba(0, 0, 0, 0.3));\n",
              "      fill: #FFFFFF;\n",
              "    }\n",
              "  </style>\n",
              "\n",
              "      <script>\n",
              "        const buttonEl =\n",
              "          document.querySelector('#df-d13d6b3b-049f-48f2-b2b7-479504126131 button.colab-df-convert');\n",
              "        buttonEl.style.display =\n",
              "          google.colab.kernel.accessAllowed ? 'block' : 'none';\n",
              "\n",
              "        async function convertToInteractive(key) {\n",
              "          const element = document.querySelector('#df-d13d6b3b-049f-48f2-b2b7-479504126131');\n",
              "          const dataTable =\n",
              "            await google.colab.kernel.invokeFunction('convertToInteractive',\n",
              "                                                     [key], {});\n",
              "          if (!dataTable) return;\n",
              "\n",
              "          const docLinkHtml = 'Like what you see? Visit the ' +\n",
              "            '<a target=\"_blank\" href=https://colab.research.google.com/notebooks/data_table.ipynb>data table notebook</a>'\n",
              "            + ' to learn more about interactive tables.';\n",
              "          element.innerHTML = '';\n",
              "          dataTable['output_type'] = 'display_data';\n",
              "          await google.colab.output.renderOutput(dataTable, element);\n",
              "          const docLink = document.createElement('div');\n",
              "          docLink.innerHTML = docLinkHtml;\n",
              "          element.appendChild(docLink);\n",
              "        }\n",
              "      </script>\n",
              "    </div>\n",
              "  </div>\n",
              "  "
            ]
          },
          "metadata": {},
          "execution_count": 19
        }
      ]
    },
    {
      "cell_type": "code",
      "source": [
        "from janome.tokenizer import Tokenizer"
      ],
      "metadata": {
        "id": "qqz8TDgHdAiX"
      },
      "execution_count": 20,
      "outputs": []
    },
    {
      "cell_type": "code",
      "source": [
        "t = Tokenizer(wakati=True)"
      ],
      "metadata": {
        "id": "PXVu9MXqdIAT"
      },
      "execution_count": 21,
      "outputs": []
    },
    {
      "cell_type": "code",
      "source": [
        "# dfデータフレーム操作　https://rinsaka.com/python/hyaku/02-janome.html"
      ],
      "metadata": {
        "id": "IquWb_3XdOaf"
      },
      "execution_count": 22,
      "outputs": []
    },
    {
      "cell_type": "code",
      "source": [
        "def my_Janome(text):\n",
        "    t = Tokenizer()\n",
        "    results = t.tokenize(text)\n",
        "    for token in results:\n",
        "        print(token)\n",
        "     "
      ],
      "metadata": {
        "id": "ZMP0YVb0dR3D"
      },
      "execution_count": 23,
      "outputs": []
    },
    {
      "cell_type": "code",
      "source": [
        "text = df.loc[:, ['id','text']].values"
      ],
      "metadata": {
        "id": "qL2RaTurddbX"
      },
      "execution_count": 25,
      "outputs": []
    },
    {
      "cell_type": "code",
      "source": [
        "def my_Janome(text):\n",
        "    t = Tokenizer()\n",
        "    results = t.tokenize(text)\n",
        "    for token in results:\n",
        "        print(token)"
      ],
      "metadata": {
        "id": "J1BGntNheD3k"
      },
      "execution_count": 26,
      "outputs": []
    },
    {
      "cell_type": "code",
      "source": [
        "text[0][1]"
      ],
      "metadata": {
        "colab": {
          "base_uri": "https://localhost:8080/",
          "height": 36
        },
        "id": "XL4ZWTooeGxB",
        "outputId": "eb34caed-55c7-40ae-d155-2509c94b7a21"
      },
      "execution_count": 27,
      "outputs": [
        {
          "output_type": "execute_result",
          "data": {
            "text/plain": [
              "'高効率運転を図りつつ、炭酸ガス（例えば、二酸化炭素）を効率良く除去することができるガスタービン装置を提供する'"
            ],
            "application/vnd.google.colaboratory.intrinsic+json": {
              "type": "string"
            }
          },
          "metadata": {},
          "execution_count": 27
        }
      ]
    },
    {
      "cell_type": "code",
      "source": [
        "my_Janome(text[0][1])"
      ],
      "metadata": {
        "colab": {
          "base_uri": "https://localhost:8080/"
        },
        "id": "W1uGfR_ieKV1",
        "outputId": "47aa4821-2e16-4f60-f48d-8e82542cbc60"
      },
      "execution_count": 28,
      "outputs": [
        {
          "output_type": "stream",
          "name": "stdout",
          "text": [
            "高\t接頭詞,名詞接続,*,*,*,*,高,コウ,コー\n",
            "効率\t名詞,一般,*,*,*,*,効率,コウリツ,コーリツ\n",
            "運転\t名詞,サ変接続,*,*,*,*,運転,ウンテン,ウンテン\n",
            "を\t助詞,格助詞,一般,*,*,*,を,ヲ,ヲ\n",
            "図り\t動詞,自立,*,*,五段・ラ行,連用形,図る,ハカリ,ハカリ\n",
            "つつ\t助詞,接続助詞,*,*,*,*,つつ,ツツ,ツツ\n",
            "、\t記号,読点,*,*,*,*,、,、,、\n",
            "炭酸\t名詞,一般,*,*,*,*,炭酸,タンサン,タンサン\n",
            "ガス\t名詞,一般,*,*,*,*,ガス,ガス,ガス\n",
            "（\t記号,括弧開,*,*,*,*,（,（,（\n",
            "例えば\t接続詞,*,*,*,*,*,例えば,タトエバ,タトエバ\n",
            "、\t記号,読点,*,*,*,*,、,、,、\n",
            "二酸化炭素\t名詞,一般,*,*,*,*,二酸化炭素,ニサンカタンソ,ニサンカタンソ\n",
            "）\t記号,括弧閉,*,*,*,*,）,）,）\n",
            "を\t助詞,格助詞,一般,*,*,*,を,ヲ,ヲ\n",
            "効率\t名詞,一般,*,*,*,*,効率,コウリツ,コーリツ\n",
            "良く\t形容詞,自立,*,*,形容詞・アウオ段,連用テ接続,良い,ヨク,ヨク\n",
            "除去\t名詞,サ変接続,*,*,*,*,除去,ジョキョ,ジョキョ\n",
            "する\t動詞,自立,*,*,サ変・スル,基本形,する,スル,スル\n",
            "こと\t名詞,非自立,一般,*,*,*,こと,コト,コト\n",
            "が\t助詞,格助詞,一般,*,*,*,が,ガ,ガ\n",
            "できる\t動詞,自立,*,*,一段,基本形,できる,デキル,デキル\n",
            "ガス\t名詞,一般,*,*,*,*,ガス,ガス,ガス\n",
            "タービン\t名詞,一般,*,*,*,*,タービン,タービン,タービン\n",
            "装置\t名詞,サ変接続,*,*,*,*,装置,ソウチ,ソーチ\n",
            "を\t助詞,格助詞,一般,*,*,*,を,ヲ,ヲ\n",
            "提供\t名詞,サ変接続,*,*,*,*,提供,テイキョウ,テイキョー\n",
            "する\t動詞,自立,*,*,サ変・スル,基本形,する,スル,スル\n"
          ]
        }
      ]
    },
    {
      "cell_type": "code",
      "source": [
        "my_Janome(text[1][1])"
      ],
      "metadata": {
        "colab": {
          "base_uri": "https://localhost:8080/"
        },
        "id": "xyZFuDrvePke",
        "outputId": "48eb80ba-4082-490b-f67a-4c7e63b2ac4f"
      },
      "execution_count": 29,
      "outputs": [
        {
          "output_type": "stream",
          "name": "stdout",
          "text": [
            "ＣＯ\t名詞,固有名詞,組織,*,*,*,ＣＯ,*,*\n",
            "↓\t記号,一般,*,*,*,*,↓,↓,↓\n",
            "２\t名詞,数,*,*,*,*,２,ニ,ニ\n",
            "吸収\t名詞,サ変接続,*,*,*,*,吸収,キュウシュウ,キューシュー\n",
            "液\t名詞,接尾,一般,*,*,*,液,エキ,エキ\n",
            "を\t助詞,格助詞,一般,*,*,*,を,ヲ,ヲ\n",
            "再生\t名詞,サ変接続,*,*,*,*,再生,サイセイ,サイセイ\n",
            "する\t動詞,自立,*,*,サ変・スル,基本形,する,スル,スル\n",
            "ため\t名詞,非自立,副詞可能,*,*,*,ため,タメ,タメ\n",
            "の\t助詞,連体化,*,*,*,*,の,ノ,ノ\n",
            "熱\t名詞,一般,*,*,*,*,熱,ネツ,ネツ\n",
            "エネルギー\t名詞,一般,*,*,*,*,エネルギー,エネルギー,エネルギー\n",
            "と\t助詞,並立助詞,*,*,*,*,と,ト,ト\n",
            "、\t記号,読点,*,*,*,*,、,、,、\n",
            "回収\t名詞,サ変接続,*,*,*,*,回収,カイシュウ,カイシュー\n",
            "し\t動詞,自立,*,*,サ変・スル,連用形,する,シ,シ\n",
            "た\t助動詞,*,*,*,特殊・タ,基本形,た,タ,タ\n",
            "ＣＯ\t名詞,一般,*,*,*,*,ＣＯ,*,*\n",
            "↓\t記号,一般,*,*,*,*,↓,↓,↓\n",
            "２\t名詞,数,*,*,*,*,２,ニ,ニ\n",
            "を\t助詞,格助詞,一般,*,*,*,を,ヲ,ヲ\n",
            "圧縮\t名詞,サ変接続,*,*,*,*,圧縮,アッシュク,アッシュク\n",
            "する\t動詞,自立,*,*,サ変・スル,基本形,する,スル,スル\n",
            "動力\t名詞,一般,*,*,*,*,動力,ドウリョク,ドーリョク\n",
            "と\t助詞,並立助詞,*,*,*,*,と,ト,ト\n",
            "を\t助詞,格助詞,一般,*,*,*,を,ヲ,ヲ\n",
            "供給\t名詞,サ変接続,*,*,*,*,供給,キョウキュウ,キョーキュー\n",
            "する\t動詞,自立,*,*,サ変・スル,基本形,する,スル,スル\n",
            "とともに\t助詞,格助詞,連語,*,*,*,とともに,トトモニ,トトモニ\n",
            "、\t記号,読点,*,*,*,*,、,、,、\n",
            "高い\t形容詞,自立,*,*,形容詞・アウオ段,基本形,高い,タカイ,タカイ\n",
            "熱\t名詞,一般,*,*,*,*,熱,ネツ,ネツ\n",
            "効率\t名詞,一般,*,*,*,*,効率,コウリツ,コーリツ\n",
            "を\t助詞,格助詞,一般,*,*,*,を,ヲ,ヲ\n",
            "有する\t動詞,自立,*,*,サ変・−スル,基本形,有する,ユウスル,ユースル\n",
            "ＣＯ\t名詞,固有名詞,組織,*,*,*,ＣＯ,*,*\n",
            "↓\t記号,一般,*,*,*,*,↓,↓,↓\n",
            "２\t名詞,数,*,*,*,*,２,ニ,ニ\n",
            "の\t助詞,連体化,*,*,*,*,の,ノ,ノ\n",
            "回収\t名詞,サ変接続,*,*,*,*,回収,カイシュウ,カイシュー\n",
            "方法\t名詞,一般,*,*,*,*,方法,ホウホウ,ホーホー\n",
            "及び\t接続詞,*,*,*,*,*,及び,オヨビ,オヨビ\n",
            "その\t連体詞,*,*,*,*,*,その,ソノ,ソノ\n",
            "システム\t名詞,一般,*,*,*,*,システム,システム,システム\n",
            "を\t助詞,格助詞,一般,*,*,*,を,ヲ,ヲ\n",
            "提供\t名詞,サ変接続,*,*,*,*,提供,テイキョウ,テイキョー\n",
            "する\t動詞,自立,*,*,サ変・スル,基本形,する,スル,スル\n"
          ]
        }
      ]
    },
    {
      "cell_type": "code",
      "source": [
        "my_Janome(text[2][1])"
      ],
      "metadata": {
        "colab": {
          "base_uri": "https://localhost:8080/"
        },
        "id": "lyfsoZyofGS3",
        "outputId": "3c88bf23-aa7a-49f8-9d31-90dcb1889507"
      },
      "execution_count": 30,
      "outputs": [
        {
          "output_type": "stream",
          "name": "stdout",
          "text": [
            "大\t接頭詞,名詞接続,*,*,*,*,大,ダイ,ダイ\n",
            "規模\t名詞,一般,*,*,*,*,規模,キボ,キボ\n",
            "二酸化炭素\t名詞,一般,*,*,*,*,二酸化炭素,ニサンカタンソ,ニサンカタンソ\n",
            "発生\t名詞,サ変接続,*,*,*,*,発生,ハッセイ,ハッセイ\n",
            "源\t名詞,接尾,一般,*,*,*,源,ゲン,ゲン\n",
            "から\t助詞,格助詞,一般,*,*,*,から,カラ,カラ\n",
            "排出\t名詞,サ変接続,*,*,*,*,排出,ハイシュツ,ハイシュツ\n",
            "さ\t動詞,自立,*,*,サ変・スル,未然レル接続,する,サ,サ\n",
            "れる\t動詞,接尾,*,*,一段,基本形,れる,レル,レル\n",
            "二酸化炭素\t名詞,一般,*,*,*,*,二酸化炭素,ニサンカタンソ,ニサンカタンソ\n",
            "を\t助詞,格助詞,一般,*,*,*,を,ヲ,ヲ\n",
            "、\t記号,読点,*,*,*,*,、,、,、\n",
            "コンパクト\t名詞,形容動詞語幹,*,*,*,*,コンパクト,コンパクト,コンパクト\n",
            "な\t助動詞,*,*,*,特殊・ダ,体言接続,だ,ナ,ナ\n",
            "設備\t名詞,サ変接続,*,*,*,*,設備,セツビ,セツビ\n",
            "で\t助詞,格助詞,一般,*,*,*,で,デ,デ\n",
            "効率\t名詞,一般,*,*,*,*,効率,コウリツ,コーリツ\n",
            "的\t名詞,接尾,形容動詞語幹,*,*,*,的,テキ,テキ\n",
            "かつ\t接続詞,*,*,*,*,*,かつ,カツ,カツ\n",
            "安価\t名詞,形容動詞語幹,*,*,*,*,安価,アンカ,アンカ\n",
            "に\t助詞,副詞化,*,*,*,*,に,ニ,ニ\n",
            "分離\t名詞,サ変接続,*,*,*,*,分離,ブンリ,ブンリ\n",
            "回収\t名詞,サ変接続,*,*,*,*,回収,カイシュウ,カイシュー\n",
            "する\t動詞,自立,*,*,サ変・スル,基本形,する,スル,スル\n",
            "技術\t名詞,一般,*,*,*,*,技術,ギジュツ,ギジュツ\n",
            "を\t助詞,格助詞,一般,*,*,*,を,ヲ,ヲ\n",
            "提供\t名詞,サ変接続,*,*,*,*,提供,テイキョウ,テイキョー\n",
            "する\t動詞,自立,*,*,サ変・スル,基本形,する,スル,スル\n"
          ]
        }
      ]
    },
    {
      "cell_type": "code",
      "source": [
        "for X in range(10):\n",
        "  print(X)"
      ],
      "metadata": {
        "colab": {
          "base_uri": "https://localhost:8080/"
        },
        "id": "CGLbxkKlffK6",
        "outputId": "b994a5c2-6b4d-46ba-e179-b9e3719e4051"
      },
      "execution_count": 31,
      "outputs": [
        {
          "output_type": "stream",
          "name": "stdout",
          "text": [
            "0\n",
            "1\n",
            "2\n",
            "3\n",
            "4\n",
            "5\n",
            "6\n",
            "7\n",
            "8\n",
            "9\n"
          ]
        }
      ]
    },
    {
      "cell_type": "code",
      "source": [
        "for X in range(10):\n",
        "  print(X)\n",
        "  my_Janome(text[X][1])"
      ],
      "metadata": {
        "colab": {
          "base_uri": "https://localhost:8080/"
        },
        "id": "ps2rKGAmfugc",
        "outputId": "994b8372-d14d-424e-fdd7-fefeb3b79cb2"
      },
      "execution_count": 39,
      "outputs": [
        {
          "output_type": "stream",
          "name": "stdout",
          "text": [
            "0\n",
            "高\t接頭詞,名詞接続,*,*,*,*,高,コウ,コー\n",
            "効率\t名詞,一般,*,*,*,*,効率,コウリツ,コーリツ\n",
            "運転\t名詞,サ変接続,*,*,*,*,運転,ウンテン,ウンテン\n",
            "を\t助詞,格助詞,一般,*,*,*,を,ヲ,ヲ\n",
            "図り\t動詞,自立,*,*,五段・ラ行,連用形,図る,ハカリ,ハカリ\n",
            "つつ\t助詞,接続助詞,*,*,*,*,つつ,ツツ,ツツ\n",
            "、\t記号,読点,*,*,*,*,、,、,、\n",
            "炭酸\t名詞,一般,*,*,*,*,炭酸,タンサン,タンサン\n",
            "ガス\t名詞,一般,*,*,*,*,ガス,ガス,ガス\n",
            "（\t記号,括弧開,*,*,*,*,（,（,（\n",
            "例えば\t接続詞,*,*,*,*,*,例えば,タトエバ,タトエバ\n",
            "、\t記号,読点,*,*,*,*,、,、,、\n",
            "二酸化炭素\t名詞,一般,*,*,*,*,二酸化炭素,ニサンカタンソ,ニサンカタンソ\n",
            "）\t記号,括弧閉,*,*,*,*,）,）,）\n",
            "を\t助詞,格助詞,一般,*,*,*,を,ヲ,ヲ\n",
            "効率\t名詞,一般,*,*,*,*,効率,コウリツ,コーリツ\n",
            "良く\t形容詞,自立,*,*,形容詞・アウオ段,連用テ接続,良い,ヨク,ヨク\n",
            "除去\t名詞,サ変接続,*,*,*,*,除去,ジョキョ,ジョキョ\n",
            "する\t動詞,自立,*,*,サ変・スル,基本形,する,スル,スル\n",
            "こと\t名詞,非自立,一般,*,*,*,こと,コト,コト\n",
            "が\t助詞,格助詞,一般,*,*,*,が,ガ,ガ\n",
            "できる\t動詞,自立,*,*,一段,基本形,できる,デキル,デキル\n",
            "ガス\t名詞,一般,*,*,*,*,ガス,ガス,ガス\n",
            "タービン\t名詞,一般,*,*,*,*,タービン,タービン,タービン\n",
            "装置\t名詞,サ変接続,*,*,*,*,装置,ソウチ,ソーチ\n",
            "を\t助詞,格助詞,一般,*,*,*,を,ヲ,ヲ\n",
            "提供\t名詞,サ変接続,*,*,*,*,提供,テイキョウ,テイキョー\n",
            "する\t動詞,自立,*,*,サ変・スル,基本形,する,スル,スル\n",
            "1\n",
            "ＣＯ\t名詞,固有名詞,組織,*,*,*,ＣＯ,*,*\n",
            "↓\t記号,一般,*,*,*,*,↓,↓,↓\n",
            "２\t名詞,数,*,*,*,*,２,ニ,ニ\n",
            "吸収\t名詞,サ変接続,*,*,*,*,吸収,キュウシュウ,キューシュー\n",
            "液\t名詞,接尾,一般,*,*,*,液,エキ,エキ\n",
            "を\t助詞,格助詞,一般,*,*,*,を,ヲ,ヲ\n",
            "再生\t名詞,サ変接続,*,*,*,*,再生,サイセイ,サイセイ\n",
            "する\t動詞,自立,*,*,サ変・スル,基本形,する,スル,スル\n",
            "ため\t名詞,非自立,副詞可能,*,*,*,ため,タメ,タメ\n",
            "の\t助詞,連体化,*,*,*,*,の,ノ,ノ\n",
            "熱\t名詞,一般,*,*,*,*,熱,ネツ,ネツ\n",
            "エネルギー\t名詞,一般,*,*,*,*,エネルギー,エネルギー,エネルギー\n",
            "と\t助詞,並立助詞,*,*,*,*,と,ト,ト\n",
            "、\t記号,読点,*,*,*,*,、,、,、\n",
            "回収\t名詞,サ変接続,*,*,*,*,回収,カイシュウ,カイシュー\n",
            "し\t動詞,自立,*,*,サ変・スル,連用形,する,シ,シ\n",
            "た\t助動詞,*,*,*,特殊・タ,基本形,た,タ,タ\n",
            "ＣＯ\t名詞,一般,*,*,*,*,ＣＯ,*,*\n",
            "↓\t記号,一般,*,*,*,*,↓,↓,↓\n",
            "２\t名詞,数,*,*,*,*,２,ニ,ニ\n",
            "を\t助詞,格助詞,一般,*,*,*,を,ヲ,ヲ\n",
            "圧縮\t名詞,サ変接続,*,*,*,*,圧縮,アッシュク,アッシュク\n",
            "する\t動詞,自立,*,*,サ変・スル,基本形,する,スル,スル\n",
            "動力\t名詞,一般,*,*,*,*,動力,ドウリョク,ドーリョク\n",
            "と\t助詞,並立助詞,*,*,*,*,と,ト,ト\n",
            "を\t助詞,格助詞,一般,*,*,*,を,ヲ,ヲ\n",
            "供給\t名詞,サ変接続,*,*,*,*,供給,キョウキュウ,キョーキュー\n",
            "する\t動詞,自立,*,*,サ変・スル,基本形,する,スル,スル\n",
            "とともに\t助詞,格助詞,連語,*,*,*,とともに,トトモニ,トトモニ\n",
            "、\t記号,読点,*,*,*,*,、,、,、\n",
            "高い\t形容詞,自立,*,*,形容詞・アウオ段,基本形,高い,タカイ,タカイ\n",
            "熱\t名詞,一般,*,*,*,*,熱,ネツ,ネツ\n",
            "効率\t名詞,一般,*,*,*,*,効率,コウリツ,コーリツ\n",
            "を\t助詞,格助詞,一般,*,*,*,を,ヲ,ヲ\n",
            "有する\t動詞,自立,*,*,サ変・−スル,基本形,有する,ユウスル,ユースル\n",
            "ＣＯ\t名詞,固有名詞,組織,*,*,*,ＣＯ,*,*\n",
            "↓\t記号,一般,*,*,*,*,↓,↓,↓\n",
            "２\t名詞,数,*,*,*,*,２,ニ,ニ\n",
            "の\t助詞,連体化,*,*,*,*,の,ノ,ノ\n",
            "回収\t名詞,サ変接続,*,*,*,*,回収,カイシュウ,カイシュー\n",
            "方法\t名詞,一般,*,*,*,*,方法,ホウホウ,ホーホー\n",
            "及び\t接続詞,*,*,*,*,*,及び,オヨビ,オヨビ\n",
            "その\t連体詞,*,*,*,*,*,その,ソノ,ソノ\n",
            "システム\t名詞,一般,*,*,*,*,システム,システム,システム\n",
            "を\t助詞,格助詞,一般,*,*,*,を,ヲ,ヲ\n",
            "提供\t名詞,サ変接続,*,*,*,*,提供,テイキョウ,テイキョー\n",
            "する\t動詞,自立,*,*,サ変・スル,基本形,する,スル,スル\n",
            "2\n",
            "大\t接頭詞,名詞接続,*,*,*,*,大,ダイ,ダイ\n",
            "規模\t名詞,一般,*,*,*,*,規模,キボ,キボ\n",
            "二酸化炭素\t名詞,一般,*,*,*,*,二酸化炭素,ニサンカタンソ,ニサンカタンソ\n",
            "発生\t名詞,サ変接続,*,*,*,*,発生,ハッセイ,ハッセイ\n",
            "源\t名詞,接尾,一般,*,*,*,源,ゲン,ゲン\n",
            "から\t助詞,格助詞,一般,*,*,*,から,カラ,カラ\n",
            "排出\t名詞,サ変接続,*,*,*,*,排出,ハイシュツ,ハイシュツ\n",
            "さ\t動詞,自立,*,*,サ変・スル,未然レル接続,する,サ,サ\n",
            "れる\t動詞,接尾,*,*,一段,基本形,れる,レル,レル\n",
            "二酸化炭素\t名詞,一般,*,*,*,*,二酸化炭素,ニサンカタンソ,ニサンカタンソ\n",
            "を\t助詞,格助詞,一般,*,*,*,を,ヲ,ヲ\n",
            "、\t記号,読点,*,*,*,*,、,、,、\n",
            "コンパクト\t名詞,形容動詞語幹,*,*,*,*,コンパクト,コンパクト,コンパクト\n",
            "な\t助動詞,*,*,*,特殊・ダ,体言接続,だ,ナ,ナ\n",
            "設備\t名詞,サ変接続,*,*,*,*,設備,セツビ,セツビ\n",
            "で\t助詞,格助詞,一般,*,*,*,で,デ,デ\n",
            "効率\t名詞,一般,*,*,*,*,効率,コウリツ,コーリツ\n",
            "的\t名詞,接尾,形容動詞語幹,*,*,*,的,テキ,テキ\n",
            "かつ\t接続詞,*,*,*,*,*,かつ,カツ,カツ\n",
            "安価\t名詞,形容動詞語幹,*,*,*,*,安価,アンカ,アンカ\n",
            "に\t助詞,副詞化,*,*,*,*,に,ニ,ニ\n",
            "分離\t名詞,サ変接続,*,*,*,*,分離,ブンリ,ブンリ\n",
            "回収\t名詞,サ変接続,*,*,*,*,回収,カイシュウ,カイシュー\n",
            "する\t動詞,自立,*,*,サ変・スル,基本形,する,スル,スル\n",
            "技術\t名詞,一般,*,*,*,*,技術,ギジュツ,ギジュツ\n",
            "を\t助詞,格助詞,一般,*,*,*,を,ヲ,ヲ\n",
            "提供\t名詞,サ変接続,*,*,*,*,提供,テイキョウ,テイキョー\n",
            "する\t動詞,自立,*,*,サ変・スル,基本形,する,スル,スル\n",
            "3\n",
            "中空\t名詞,一般,*,*,*,*,中空,ナカゾラ,ナカゾラ\n",
            "糸状\t名詞,一般,*,*,*,*,糸状,イトジョウ,イトジョー\n",
            "多孔\t名詞,一般,*,*,*,*,多孔,タコウ,タコー\n",
            "膜\t名詞,一般,*,*,*,*,膜,マク,マク\n",
            "を\t助詞,格助詞,一般,*,*,*,を,ヲ,ヲ\n",
            "用いる\t動詞,自立,*,*,一段,基本形,用いる,モチイル,モチイル\n",
            "ガス\t名詞,一般,*,*,*,*,ガス,ガス,ガス\n",
            "分離\t名詞,サ変接続,*,*,*,*,分離,ブンリ,ブンリ\n",
            "方法\t名詞,一般,*,*,*,*,方法,ホウホウ,ホーホー\n",
            "及び\t接続詞,*,*,*,*,*,及び,オヨビ,オヨビ\n",
            "その\t連体詞,*,*,*,*,*,その,ソノ,ソノ\n",
            "装置\t名詞,サ変接続,*,*,*,*,装置,ソウチ,ソーチ\n",
            "において\t助詞,格助詞,連語,*,*,*,において,ニオイテ,ニオイテ\n",
            "、\t記号,読点,*,*,*,*,、,、,、\n",
            "選択\t名詞,サ変接続,*,*,*,*,選択,センタク,センタク\n",
            "性\t名詞,接尾,一般,*,*,*,性,セイ,セイ\n",
            "、\t記号,読点,*,*,*,*,、,、,、\n",
            "安定\t名詞,形容動詞語幹,*,*,*,*,安定,アンテイ,アンテイ\n",
            "性\t名詞,接尾,一般,*,*,*,性,セイ,セイ\n",
            "及び\t接続詞,*,*,*,*,*,及び,オヨビ,オヨビ\n",
            "ガス\t名詞,一般,*,*,*,*,ガス,ガス,ガス\n",
            "分離\t名詞,サ変接続,*,*,*,*,分離,ブンリ,ブンリ\n",
            "速度\t名詞,一般,*,*,*,*,速度,ソクド,ソクド\n",
            "の\t助詞,連体化,*,*,*,*,の,ノ,ノ\n",
            "点\t名詞,非自立,一般,*,*,*,点,テン,テン\n",
            "で\t助詞,格助詞,一般,*,*,*,で,デ,デ\n",
            "すぐれる\t動詞,自立,*,*,一段,基本形,すぐれる,スグレル,スグレル\n",
            "とともに\t助詞,格助詞,連語,*,*,*,とともに,トトモニ,トトモニ\n",
            "、\t記号,読点,*,*,*,*,、,、,、\n",
            "従来\t名詞,副詞可能,*,*,*,*,従来,ジュウライ,ジューライ\n",
            "の\t助詞,連体化,*,*,*,*,の,ノ,ノ\n",
            "膜\t名詞,一般,*,*,*,*,膜,マク,マク\n",
            "分離\t名詞,サ変接続,*,*,*,*,分離,ブンリ,ブンリ\n",
            "法\t名詞,接尾,一般,*,*,*,法,ホウ,ホー\n",
            "と\t助詞,格助詞,一般,*,*,*,と,ト,ト\n",
            "吸収\t名詞,サ変接続,*,*,*,*,吸収,キュウシュウ,キューシュー\n",
            "法\t名詞,接尾,一般,*,*,*,法,ホウ,ホー\n",
            "で\t助詞,格助詞,一般,*,*,*,で,デ,デ\n",
            "は\t助詞,係助詞,*,*,*,*,は,ハ,ワ\n",
            "達成\t名詞,サ変接続,*,*,*,*,達成,タッセイ,タッセイ\n",
            "し\t動詞,自立,*,*,サ変・スル,連用形,する,シ,シ\n",
            "得\t動詞,非自立,*,*,一段,未然形,得る,エ,エ\n",
            "なかっ\t助動詞,*,*,*,特殊・ナイ,連用タ接続,ない,ナカッ,ナカッ\n",
            "た\t助動詞,*,*,*,特殊・タ,基本形,た,タ,タ\n",
            "ガス\t名詞,一般,*,*,*,*,ガス,ガス,ガス\n",
            "分離\t名詞,サ変接続,*,*,*,*,分離,ブンリ,ブンリ\n",
            "の\t助詞,連体化,*,*,*,*,の,ノ,ノ\n",
            "大幅\t名詞,形容動詞語幹,*,*,*,*,大幅,オオハバ,オーハバ\n",
            "な\t助動詞,*,*,*,特殊・ダ,体言接続,だ,ナ,ナ\n",
            "所要\t名詞,サ変接続,*,*,*,*,所要,ショヨウ,ショヨー\n",
            "エネルギー\t名詞,一般,*,*,*,*,エネルギー,エネルギー,エネルギー\n",
            "低減\t名詞,サ変接続,*,*,*,*,低減,テイゲン,テイゲン\n",
            "を\t助詞,格助詞,一般,*,*,*,を,ヲ,ヲ\n",
            "図る\t動詞,自立,*,*,五段・ラ行,基本形,図る,ハカル,ハカル\n",
            "4\n",
            "酸性\t名詞,一般,*,*,*,*,酸性,サンセイ,サンセイ\n",
            "ガス\t名詞,一般,*,*,*,*,ガス,ガス,ガス\n",
            "除去\t名詞,サ変接続,*,*,*,*,除去,ジョキョ,ジョキョ\n",
            "装置\t名詞,サ変接続,*,*,*,*,装置,ソウチ,ソーチ\n",
            "１\t名詞,数,*,*,*,*,１,イチ,イチ\n",
            "０\t名詞,数,*,*,*,*,０,ゼロ,ゼロ\n",
            "０\t名詞,数,*,*,*,*,０,ゼロ,ゼロ\n",
            "は\t助詞,係助詞,*,*,*,*,は,ハ,ワ\n",
            "、\t記号,読点,*,*,*,*,、,、,、\n",
            "希薄\t名詞,一般,*,*,*,*,希薄,キハク,キハク\n",
            "溶剤\t名詞,一般,*,*,*,*,溶剤,ヨウザイ,ヨーザイ\n",
            "１\t名詞,数,*,*,*,*,１,イチ,イチ\n",
            "２\t名詞,数,*,*,*,*,２,ニ,ニ\n",
            "２\t名詞,数,*,*,*,*,２,ニ,ニ\n",
            "および\t接続詞,*,*,*,*,*,および,オヨビ,オヨビ\n",
            "準\t接頭詞,名詞接続,*,*,*,*,準,ジュン,ジュン\n",
            "希薄\t名詞,一般,*,*,*,*,希薄,キハク,キハク\n",
            "溶剤\t名詞,一般,*,*,*,*,溶剤,ヨウザイ,ヨーザイ\n",
            "１\t名詞,数,*,*,*,*,１,イチ,イチ\n",
            "３\t名詞,数,*,*,*,*,３,サン,サン\n",
            "２\t名詞,数,*,*,*,*,２,ニ,ニ\n",
            "を\t助詞,格助詞,一般,*,*,*,を,ヲ,ヲ\n",
            "独立\t名詞,サ変接続,*,*,*,*,独立,ドクリツ,ドクリツ\n",
            "的\t名詞,接尾,形容動詞語幹,*,*,*,的,テキ,テキ\n",
            "に\t助詞,副詞化,*,*,*,*,に,ニ,ニ\n",
            "生成\t名詞,サ変接続,*,*,*,*,生成,セイセイ,セイセイ\n",
            "する\t動詞,自立,*,*,サ変・スル,基本形,する,スル,スル\n",
            "２つ\t名詞,一般,*,*,*,*,２つ,フタツ,フタツ\n",
            "の\t助詞,連体化,*,*,*,*,の,ノ,ノ\n",
            "再生\t名詞,サ変接続,*,*,*,*,再生,サイセイ,サイセイ\n",
            "器\t名詞,接尾,一般,*,*,*,器,キ,キ\n",
            "１\t名詞,数,*,*,*,*,１,イチ,イチ\n",
            "２\t名詞,数,*,*,*,*,２,ニ,ニ\n",
            "０\t名詞,数,*,*,*,*,０,ゼロ,ゼロ\n",
            "、\t記号,読点,*,*,*,*,、,、,、\n",
            "１\t名詞,数,*,*,*,*,１,イチ,イチ\n",
            "３\t名詞,数,*,*,*,*,３,サン,サン\n",
            "０\t名詞,数,*,*,*,*,０,ゼロ,ゼロ\n",
            "に\t助詞,格助詞,一般,*,*,*,に,ニ,ニ\n",
            "濃厚\t名詞,形容動詞語幹,*,*,*,*,濃厚,ノウコウ,ノーコー\n",
            "溶剤\t名詞,一般,*,*,*,*,溶剤,ヨウザイ,ヨーザイ\n",
            "１\t名詞,数,*,*,*,*,１,イチ,イチ\n",
            "０\t名詞,数,*,*,*,*,０,ゼロ,ゼロ\n",
            "６\t名詞,数,*,*,*,*,６,ロク,ロク\n",
            "を\t助詞,格助詞,一般,*,*,*,を,ヲ,ヲ\n",
            "供給\t名詞,サ変接続,*,*,*,*,供給,キョウキュウ,キョーキュー\n",
            "する\t動詞,自立,*,*,サ変・スル,基本形,する,スル,スル\n",
            "吸収\t名詞,サ変接続,*,*,*,*,吸収,キュウシュウ,キューシュー\n",
            "器\t名詞,接尾,一般,*,*,*,器,キ,キ\n",
            "１\t名詞,数,*,*,*,*,１,イチ,イチ\n",
            "１\t名詞,数,*,*,*,*,１,イチ,イチ\n",
            "０\t名詞,数,*,*,*,*,０,ゼロ,ゼロ\n",
            "を\t助詞,格助詞,一般,*,*,*,を,ヲ,ヲ\n",
            "備え\t動詞,自立,*,*,一段,連用形,備える,ソナエ,ソナエ\n",
            "、\t記号,読点,*,*,*,*,、,、,、\n",
            "準\t接頭詞,名詞接続,*,*,*,*,準,ジュン,ジュン\n",
            "希薄\t名詞,一般,*,*,*,*,希薄,キハク,キハク\n",
            "溶剤\t名詞,一般,*,*,*,*,溶剤,ヨウザイ,ヨーザイ\n",
            "１\t名詞,数,*,*,*,*,１,イチ,イチ\n",
            "３\t名詞,数,*,*,*,*,３,サン,サン\n",
            "２\t名詞,数,*,*,*,*,２,ニ,ニ\n",
            "は\t助詞,係助詞,*,*,*,*,は,ハ,ワ\n",
            "、\t記号,読点,*,*,*,*,、,、,、\n",
            "再生\t名詞,サ変接続,*,*,*,*,再生,サイセイ,サイセイ\n",
            "器\t名詞,接尾,一般,*,*,*,器,キ,キ\n",
            "の\t助詞,連体化,*,*,*,*,の,ノ,ノ\n",
            "一方\t名詞,非自立,副詞可能,*,*,*,一方,イッポウ,イッポー\n",
            "１\t名詞,数,*,*,*,*,１,イチ,イチ\n",
            "３\t名詞,数,*,*,*,*,３,サン,サン\n",
            "０\t名詞,数,*,*,*,*,０,ゼロ,ゼロ\n",
            "において\t助詞,格助詞,連語,*,*,*,において,ニオイテ,ニオイテ\n",
            "、\t記号,読点,*,*,*,*,、,、,、\n",
            "他方\t名詞,一般,*,*,*,*,他方,タホウ,タホー\n",
            "の\t助詞,連体化,*,*,*,*,の,ノ,ノ\n",
            "再生\t名詞,サ変接続,*,*,*,*,再生,サイセイ,サイセイ\n",
            "器\t名詞,接尾,一般,*,*,*,器,キ,キ\n",
            "１\t名詞,数,*,*,*,*,１,イチ,イチ\n",
            "２\t名詞,数,*,*,*,*,２,ニ,ニ\n",
            "０\t名詞,数,*,*,*,*,０,ゼロ,ゼロ\n",
            "から\t助詞,格助詞,一般,*,*,*,から,カラ,カラ\n",
            "誘導\t名詞,サ変接続,*,*,*,*,誘導,ユウドウ,ユードー\n",
            "さ\t動詞,自立,*,*,サ変・スル,未然レル接続,する,サ,サ\n",
            "れ\t動詞,接尾,*,*,一段,連用形,れる,レ,レ\n",
            "た\t助動詞,*,*,*,特殊・タ,基本形,た,タ,タ\n",
            "熱\t名詞,一般,*,*,*,*,熱,ネツ,ネツ\n",
            "１\t名詞,数,*,*,*,*,１,イチ,イチ\n",
            "４\t名詞,数,*,*,*,*,４,ヨン,ヨン\n",
            "０\t名詞,数,*,*,*,*,０,ゼロ,ゼロ\n",
            "および\t接続詞,*,*,*,*,*,および,オヨビ,オヨビ\n",
            "／\t記号,一般,*,*,*,*,／,／,／\n",
            "または\t接続詞,*,*,*,*,*,または,マタハ,マタワ\n",
            "蒸気\t名詞,一般,*,*,*,*,蒸気,ジョウキ,ジョーキ\n",
            "２\t名詞,数,*,*,*,*,２,ニ,ニ\n",
            "７\t名詞,数,*,*,*,*,７,ナナ,ナナ\n",
            "６\t名詞,数,*,*,*,*,６,ロク,ロク\n",
            "を\t助詞,格助詞,一般,*,*,*,を,ヲ,ヲ\n",
            "使用\t名詞,サ変接続,*,*,*,*,使用,シヨウ,シヨー\n",
            "し\t動詞,自立,*,*,サ変・スル,連用形,する,シ,シ\n",
            "て\t助詞,接続助詞,*,*,*,*,て,テ,テ\n",
            "生成\t名詞,サ変接続,*,*,*,*,生成,セイセイ,セイセイ\n",
            "さ\t動詞,自立,*,*,サ変・スル,未然レル接続,する,サ,サ\n",
            "れる\t動詞,接尾,*,*,一段,基本形,れる,レル,レル\n",
            "5\n",
            "窒素\t名詞,一般,*,*,*,*,窒素,チッソ,チッソ\n",
            "酸化\t名詞,サ変接続,*,*,*,*,酸化,サンカ,サンカ\n",
            "物\t名詞,接尾,一般,*,*,*,物,ブツ,ブツ\n",
            "及び\t接続詞,*,*,*,*,*,及び,オヨビ,オヨビ\n",
            "二酸化炭素\t名詞,一般,*,*,*,*,二酸化炭素,ニサンカタンソ,ニサンカタンソ\n",
            "を\t助詞,格助詞,一般,*,*,*,を,ヲ,ヲ\n",
            "含有\t名詞,サ変接続,*,*,*,*,含有,ガンユウ,ガンユー\n",
            "する\t動詞,自立,*,*,サ変・スル,基本形,する,スル,スル\n",
            "ガス\t名詞,一般,*,*,*,*,ガス,ガス,ガス\n",
            "中\t名詞,接尾,副詞可能,*,*,*,中,チュウ,チュー\n",
            "から\t助詞,格助詞,一般,*,*,*,から,カラ,カラ\n",
            "二\t名詞,数,*,*,*,*,二,ニ,ニ\n",
            "酸化\t名詞,サ変接続,*,*,*,*,酸化,サンカ,サンカ\n",
            "窒素\t名詞,一般,*,*,*,*,窒素,チッソ,チッソ\n",
            "を\t助詞,格助詞,一般,*,*,*,を,ヲ,ヲ\n",
            "効率\t名詞,一般,*,*,*,*,効率,コウリツ,コーリツ\n",
            "良く\t形容詞,自立,*,*,形容詞・アウオ段,連用テ接続,良い,ヨク,ヨク\n",
            "除去\t名詞,サ変接続,*,*,*,*,除去,ジョキョ,ジョキョ\n",
            "する\t動詞,自立,*,*,サ変・スル,基本形,する,スル,スル\n",
            "こと\t名詞,非自立,一般,*,*,*,こと,コト,コト\n",
            "が\t助詞,格助詞,一般,*,*,*,が,ガ,ガ\n",
            "でき\t動詞,自立,*,*,一段,連用形,できる,デキ,デキ\n",
            "、\t記号,読点,*,*,*,*,、,、,、\n",
            "かつ\t接続詞,*,*,*,*,*,かつ,カツ,カツ\n",
            "脱\t接頭詞,名詞接続,*,*,*,*,脱,ダツ,ダツ\n",
            "炭酸\t名詞,一般,*,*,*,*,炭酸,タンサン,タンサン\n",
            "吸収\t名詞,サ変接続,*,*,*,*,吸収,キュウシュウ,キューシュー\n",
            "液\t名詞,接尾,一般,*,*,*,液,エキ,エキ\n",
            "へ\t助詞,格助詞,一般,*,*,*,へ,ヘ,エ\n",
            "の\t助詞,連体化,*,*,*,*,の,ノ,ノ\n",
            "窒素\t名詞,一般,*,*,*,*,窒素,チッソ,チッソ\n",
            "酸化\t名詞,サ変接続,*,*,*,*,酸化,サンカ,サンカ\n",
            "物\t名詞,接尾,一般,*,*,*,物,ブツ,ブツ\n",
            "の\t助詞,連体化,*,*,*,*,の,ノ,ノ\n",
            "蓄積\t名詞,サ変接続,*,*,*,*,蓄積,チクセキ,チクセキ\n",
            "を\t助詞,格助詞,一般,*,*,*,を,ヲ,ヲ\n",
            "抑制\t名詞,サ変接続,*,*,*,*,抑制,ヨクセイ,ヨクセイ\n",
            "する\t動詞,自立,*,*,サ変・スル,基本形,する,スル,スル\n",
            "こと\t名詞,非自立,一般,*,*,*,こと,コト,コト\n",
            "が\t助詞,格助詞,一般,*,*,*,が,ガ,ガ\n",
            "できる\t動詞,自立,*,*,一段,基本形,できる,デキル,デキル\n",
            "二酸化\t名詞,一般,*,*,*,*,二酸化,ニサンカ,ニサンカ\n",
            "窒素\t名詞,一般,*,*,*,*,窒素,チッソ,チッソ\n",
            "と\t助詞,並立助詞,*,*,*,*,と,ト,ト\n",
            "二酸化炭素\t名詞,一般,*,*,*,*,二酸化炭素,ニサンカタンソ,ニサンカタンソ\n",
            "の\t助詞,連体化,*,*,*,*,の,ノ,ノ\n",
            "除去\t名詞,サ変接続,*,*,*,*,除去,ジョキョ,ジョキョ\n",
            "方法\t名詞,一般,*,*,*,*,方法,ホウホウ,ホーホー\n",
            "及び\t接続詞,*,*,*,*,*,及び,オヨビ,オヨビ\n",
            "その\t連体詞,*,*,*,*,*,その,ソノ,ソノ\n",
            "装置\t名詞,サ変接続,*,*,*,*,装置,ソウチ,ソーチ\n",
            "を\t助詞,格助詞,一般,*,*,*,を,ヲ,ヲ\n",
            "提供\t名詞,サ変接続,*,*,*,*,提供,テイキョウ,テイキョー\n",
            "する\t動詞,自立,*,*,サ変・スル,基本形,する,スル,スル\n",
            "6\n",
            "煙\t名詞,一般,*,*,*,*,煙,ケムリ,ケムリ\n",
            "道\t名詞,接尾,一般,*,*,*,道,ドウ,ドー\n",
            "ガス\t名詞,一般,*,*,*,*,ガス,ガス,ガス\n",
            "から\t助詞,格助詞,一般,*,*,*,から,カラ,カラ\n",
            "二酸化炭素\t名詞,一般,*,*,*,*,二酸化炭素,ニサンカタンソ,ニサンカタンソ\n",
            "を\t助詞,格助詞,一般,*,*,*,を,ヲ,ヲ\n",
            "除去\t名詞,サ変接続,*,*,*,*,除去,ジョキョ,ジョキョ\n",
            "及び\t接続詞,*,*,*,*,*,及び,オヨビ,オヨビ\n",
            "捕捉\t名詞,サ変接続,*,*,*,*,捕捉,ホソク,ホソク\n",
            "する\t動詞,自立,*,*,サ変・スル,基本形,する,スル,スル\n",
            "方法\t名詞,一般,*,*,*,*,方法,ホウホウ,ホーホー\n",
            "で\t助動詞,*,*,*,特殊・ダ,連用形,だ,デ,デ\n",
            "あっ\t助動詞,*,*,*,五段・ラ行アル,連用タ接続,ある,アッ,アッ\n",
            "て\t助詞,接続助詞,*,*,*,*,て,テ,テ\n",
            "：\t記号,一般,*,*,*,*,：,：,：\n",
            "（\t記号,括弧開,*,*,*,*,（,（,（\n",
            "ａ\t記号,アルファベット,*,*,*,*,ａ,エイ,エイ\n",
            "）\t記号,括弧閉,*,*,*,*,）,）,）\n",
            "溶媒\t名詞,一般,*,*,*,*,溶媒,ヨウバイ,ヨーバイ\n",
            "抽出\t名詞,サ変接続,*,*,*,*,抽出,チュウシュツ,チューシュツ\n",
            "ゾーン\t名詞,一般,*,*,*,*,ゾーン,ゾーン,ゾーン\n",
            "（\t記号,括弧開,*,*,*,*,（,（,（\n",
            "１\t名詞,数,*,*,*,*,１,イチ,イチ\n",
            "）\t記号,括弧閉,*,*,*,*,）,）,）\n",
            "において\t助詞,格助詞,連語,*,*,*,において,ニオイテ,ニオイテ\n",
            "煙\t名詞,一般,*,*,*,*,煙,ケムリ,ケムリ\n",
            "道\t名詞,接尾,一般,*,*,*,道,ドウ,ドー\n",
            "ガス\t名詞,一般,*,*,*,*,ガス,ガス,ガス\n",
            "を\t助詞,格助詞,一般,*,*,*,を,ヲ,ヲ\n",
            "溶媒\t名詞,一般,*,*,*,*,溶媒,ヨウバイ,ヨーバイ\n",
            "に\t助詞,格助詞,一般,*,*,*,に,ニ,ニ\n",
            "接触\t名詞,サ変接続,*,*,*,*,接触,セッショク,セッショク\n",
            "さ\t動詞,自立,*,*,サ変・スル,未然レル接続,する,サ,サ\n",
            "せる\t動詞,接尾,*,*,一段,基本形,せる,セル,セル\n",
            "こと\t名詞,非自立,一般,*,*,*,こと,コト,コト\n",
            "により\t助詞,格助詞,連語,*,*,*,により,ニヨリ,ニヨリ\n",
            "煙\t名詞,一般,*,*,*,*,煙,ケムリ,ケムリ\n",
            "道\t名詞,接尾,一般,*,*,*,道,ドウ,ドー\n",
            "ガス\t名詞,一般,*,*,*,*,ガス,ガス,ガス\n",
            "から\t助詞,格助詞,一般,*,*,*,から,カラ,カラ\n",
            "二酸化炭素\t名詞,一般,*,*,*,*,二酸化炭素,ニサンカタンソ,ニサンカタンソ\n",
            "を\t助詞,格助詞,一般,*,*,*,を,ヲ,ヲ\n",
            "抽出\t名詞,サ変接続,*,*,*,*,抽出,チュウシュツ,チューシュツ\n",
            "し\t動詞,自立,*,*,サ変・スル,連用形,する,シ,シ\n",
            "て\t助詞,接続助詞,*,*,*,*,て,テ,テ\n",
            "二酸化炭素\t名詞,一般,*,*,*,*,二酸化炭素,ニサンカタンソ,ニサンカタンソ\n",
            "の\t助詞,格助詞,一般,*,*,*,の,ノ,ノ\n",
            "奪わ\t動詞,自立,*,*,五段・ワ行促音便,未然形,奪う,ウバワ,ウバワ\n",
            "れ\t動詞,接尾,*,*,一段,連用形,れる,レ,レ\n",
            "た\t助動詞,*,*,*,特殊・タ,基本形,た,タ,タ\n",
            "煙\t名詞,一般,*,*,*,*,煙,ケムリ,ケムリ\n",
            "道\t名詞,接尾,一般,*,*,*,道,ドウ,ドー\n",
            "ガス\t名詞,一般,*,*,*,*,ガス,ガス,ガス\n",
            "を\t助詞,格助詞,一般,*,*,*,を,ヲ,ヲ\n",
            "得る\t動詞,自立,*,*,一段,基本形,得る,エル,エル\n",
            "ステップ\t名詞,一般,*,*,*,*,ステップ,ステップ,ステップ\n",
            "；\t記号,一般,*,*,*,*,；,；,；\n",
            "（\t記号,括弧開,*,*,*,*,（,（,（\n",
            "ｂ\t記号,アルファベット,*,*,*,*,ｂ,ビー,ビー\n",
            "）\t記号,括弧閉,*,*,*,*,）,）,）\n",
            "二酸化炭素\t名詞,一般,*,*,*,*,二酸化炭素,ニサンカタンソ,ニサンカタンソ\n",
            "含有\t名詞,サ変接続,*,*,*,*,含有,ガンユウ,ガンユー\n",
            "溶媒\t名詞,一般,*,*,*,*,溶媒,ヨウバイ,ヨーバイ\n",
            "を\t助詞,格助詞,一般,*,*,*,を,ヲ,ヲ\n",
            "溶媒\t名詞,一般,*,*,*,*,溶媒,ヨウバイ,ヨーバイ\n",
            "再生\t名詞,サ変接続,*,*,*,*,再生,サイセイ,サイセイ\n",
            "温度\t名詞,一般,*,*,*,*,温度,オンド,オンド\n",
            "に\t助詞,格助詞,一般,*,*,*,に,ニ,ニ\n",
            "加熱\t名詞,サ変接続,*,*,*,*,加熱,カネツ,カネツ\n",
            "し\t動詞,自立,*,*,サ変・スル,連用形,する,シ,シ\n",
            "その\t連体詞,*,*,*,*,*,その,ソノ,ソノ\n",
            "温度\t名詞,一般,*,*,*,*,温度,オンド,オンド\n",
            "で\t助詞,格助詞,一般,*,*,*,で,デ,デ\n",
            "維持\t名詞,サ変接続,*,*,*,*,維持,イジ,イジ\n",
            "する\t動詞,自立,*,*,サ変・スル,基本形,する,スル,スル\n",
            "こと\t名詞,非自立,一般,*,*,*,こと,コト,コト\n",
            "により\t助詞,格助詞,連語,*,*,*,により,ニヨリ,ニヨリ\n",
            "溶媒\t名詞,一般,*,*,*,*,溶媒,ヨウバイ,ヨーバイ\n",
            "再生\t名詞,サ変接続,*,*,*,*,再生,サイセイ,サイセイ\n",
            "ゾーン\t名詞,一般,*,*,*,*,ゾーン,ゾーン,ゾーン\n",
            "（\t記号,括弧開,*,*,*,*,（,（,（\n",
            "２\t名詞,数,*,*,*,*,２,ニ,ニ\n",
            "）\t記号,括弧閉,*,*,*,*,）,）,）\n",
            "内\t名詞,接尾,一般,*,*,*,内,ナイ,ナイ\n",
            "で\t助詞,格助詞,一般,*,*,*,で,デ,デ\n",
            "溶媒\t名詞,一般,*,*,*,*,溶媒,ヨウバイ,ヨーバイ\n",
            "を\t助詞,格助詞,一般,*,*,*,を,ヲ,ヲ\n",
            "再生\t名詞,サ変接続,*,*,*,*,再生,サイセイ,サイセイ\n",
            "し\t動詞,自立,*,*,サ変・スル,連用形,する,シ,シ\n",
            "て\t助詞,接続助詞,*,*,*,*,て,テ,テ\n",
            "再生\t名詞,サ変接続,*,*,*,*,再生,サイセイ,サイセイ\n",
            "溶媒\t名詞,一般,*,*,*,*,溶媒,ヨウバイ,ヨーバイ\n",
            "と\t助詞,並立助詞,*,*,*,*,と,ト,ト\n",
            "二酸化炭素\t名詞,一般,*,*,*,*,二酸化炭素,ニサンカタンソ,ニサンカタンソ\n",
            "流\t名詞,接尾,一般,*,*,*,流,リュウ,リュー\n",
            "を\t助詞,格助詞,一般,*,*,*,を,ヲ,ヲ\n",
            "得る\t動詞,自立,*,*,一段,基本形,得る,エル,エル\n",
            "ステップ\t名詞,一般,*,*,*,*,ステップ,ステップ,ステップ\n",
            "；\t記号,一般,*,*,*,*,；,；,；\n",
            "及び\t接続詞,*,*,*,*,*,及び,オヨビ,オヨビ\n",
            "（\t記号,括弧開,*,*,*,*,（,（,（\n",
            "ｃ\t記号,アルファベット,*,*,*,*,ｃ,シー,シー\n",
            "）\t記号,括弧閉,*,*,*,*,）,）,）\n",
            "ステップ\t名詞,一般,*,*,*,*,ステップ,ステップ,ステップ\n",
            "（\t記号,括弧開,*,*,*,*,（,（,（\n",
            "ｂ\t記号,アルファベット,*,*,*,*,ｂ,ビー,ビー\n",
            "）\t記号,括弧閉,*,*,*,*,）,）,）\n",
            "で\t助詞,格助詞,一般,*,*,*,で,デ,デ\n",
            "得\t動詞,自立,*,*,一段,未然形,得る,エ,エ\n",
            "られ\t動詞,接尾,*,*,一段,連用形,られる,ラレ,ラレ\n",
            "た\t助動詞,*,*,*,特殊・タ,基本形,た,タ,タ\n",
            "二酸化炭素\t名詞,一般,*,*,*,*,二酸化炭素,ニサンカタンソ,ニサンカタンソ\n",
            "流\t名詞,接尾,一般,*,*,*,流,リュウ,リュー\n",
            "を\t助詞,格助詞,一般,*,*,*,を,ヲ,ヲ\n",
            "水溶液\t名詞,一般,*,*,*,*,水溶液,スイヨウエキ,スイヨーエキ\n",
            "中\t名詞,接尾,副詞可能,*,*,*,中,チュウ,チュー\n",
            "に\t助詞,格助詞,一般,*,*,*,に,ニ,ニ\n",
            "分散\t名詞,サ変接続,*,*,*,*,分散,ブンサン,ブンサン\n",
            "し\t動詞,自立,*,*,サ変・スル,連用形,する,シ,シ\n",
            "た\t助動詞,*,*,*,特殊・タ,基本形,た,タ,タ\n",
            "２\t名詞,数,*,*,*,*,２,ニ,ニ\n",
            "価\t名詞,接尾,助数詞,*,*,*,価,カ,カ\n",
            "アルカリ\t名詞,一般,*,*,*,*,アルカリ,アルカリ,アルカリ\n",
            "土\t名詞,一般,*,*,*,*,土,ド,ド\n",
            "類\t名詞,接尾,一般,*,*,*,類,ルイ,ルイ\n",
            "金属\t名詞,一般,*,*,*,*,金属,キンゾク,キンゾク\n",
            "ケイ\t名詞,一般,*,*,*,*,ケイ,ケイ,ケイ\n",
            "酸\t名詞,一般,*,*,*,*,酸,サン,サン\n",
            "塩\t名詞,一般,*,*,*,*,塩,シオ,シオ\n",
            "粒子\t名詞,一般,*,*,*,*,粒子,リュウシ,リューシ\n",
            "と\t助詞,格助詞,一般,*,*,*,と,ト,ト\n",
            "接触\t名詞,サ変接続,*,*,*,*,接触,セッショク,セッショク\n",
            "さ\t動詞,自立,*,*,サ変・スル,未然レル接続,する,サ,サ\n",
            "せる\t動詞,接尾,*,*,一段,基本形,せる,セル,セル\n",
            "こと\t名詞,非自立,一般,*,*,*,こと,コト,コト\n",
            "により\t助詞,格助詞,連語,*,*,*,により,ニヨリ,ニヨリ\n",
            "、\t記号,読点,*,*,*,*,、,、,、\n",
            "鉱物\t名詞,一般,*,*,*,*,鉱物,コウブツ,コーブツ\n",
            "炭酸\t名詞,一般,*,*,*,*,炭酸,タンサン,タンサン\n",
            "塩化\t名詞,サ変接続,*,*,*,*,塩化,エンカ,エンカ\n",
            "ゾーン\t名詞,一般,*,*,*,*,ゾーン,ゾーン,ゾーン\n",
            "（\t記号,括弧開,*,*,*,*,（,（,（\n",
            "３\t名詞,数,*,*,*,*,３,サン,サン\n",
            "）\t記号,括弧閉,*,*,*,*,）,）,）\n",
            "内\t名詞,接尾,一般,*,*,*,内,ナイ,ナイ\n",
            "で\t助詞,格助詞,一般,*,*,*,で,デ,デ\n",
            "二酸化炭素\t名詞,一般,*,*,*,*,二酸化炭素,ニサンカタンソ,ニサンカタンソ\n",
            "流\t名詞,接尾,一般,*,*,*,流,リュウ,リュー\n",
            "と\t助詞,並立助詞,*,*,*,*,と,ト,ト\n",
            "ケイ\t名詞,一般,*,*,*,*,ケイ,ケイ,ケイ\n",
            "酸\t名詞,一般,*,*,*,*,酸,サン,サン\n",
            "塩\t名詞,一般,*,*,*,*,塩,シオ,シオ\n",
            "を\t助詞,格助詞,一般,*,*,*,を,ヲ,ヲ\n",
            "反応\t名詞,サ変接続,*,*,*,*,反応,ハンノウ,ハンノー\n",
            "さ\t動詞,自立,*,*,サ変・スル,未然レル接続,する,サ,サ\n",
            "せる\t動詞,接尾,*,*,一段,基本形,せる,セル,セル\n",
            "ステップ\t名詞,一般,*,*,*,*,ステップ,ステップ,ステップ\n",
            "を\t助詞,格助詞,一般,*,*,*,を,ヲ,ヲ\n",
            "含む\t動詞,自立,*,*,五段・マ行,基本形,含む,フクム,フクム\n",
            "方法\t名詞,一般,*,*,*,*,方法,ホウホウ,ホーホー\n",
            "7\n",
            "エネルギー\t名詞,一般,*,*,*,*,エネルギー,エネルギー,エネルギー\n",
            "効率\t名詞,一般,*,*,*,*,効率,コウリツ,コーリツ\n",
            "を\t助詞,格助詞,一般,*,*,*,を,ヲ,ヲ\n",
            "一層\t副詞,助詞類接続,*,*,*,*,一層,イッソウ,イッソー\n",
            "向上\t名詞,サ変接続,*,*,*,*,向上,コウジョウ,コージョー\n",
            "さ\t動詞,自立,*,*,サ変・スル,未然レル接続,する,サ,サ\n",
            "せ\t動詞,接尾,*,*,一段,連用形,せる,セ,セ\n",
            "た\t助動詞,*,*,*,特殊・タ,基本形,た,タ,タ\n",
            "ＣＯ\t名詞,一般,*,*,*,*,ＣＯ,*,*\n",
            "↓\t記号,一般,*,*,*,*,↓,↓,↓\n",
            "2\t名詞,数,*,*,*,*,2,*,*\n",
            "回収\t名詞,サ変接続,*,*,*,*,回収,カイシュウ,カイシュー\n",
            "装置\t名詞,サ変接続,*,*,*,*,装置,ソウチ,ソーチ\n",
            "及び\t接続詞,*,*,*,*,*,及び,オヨビ,オヨビ\n",
            "方法\t名詞,一般,*,*,*,*,方法,ホウホウ,ホーホー\n",
            "を\t助詞,格助詞,一般,*,*,*,を,ヲ,ヲ\n",
            "提供\t名詞,サ変接続,*,*,*,*,提供,テイキョウ,テイキョー\n",
            "する\t動詞,自立,*,*,サ変・スル,基本形,する,スル,スル\n",
            "8\n",
            "煙\t名詞,一般,*,*,*,*,煙,ケムリ,ケムリ\n",
            "道\t名詞,接尾,一般,*,*,*,道,ドウ,ドー\n",
            "ガス\t名詞,一般,*,*,*,*,ガス,ガス,ガス\n",
            "、\t記号,読点,*,*,*,*,、,、,、\n",
            "天然\t名詞,一般,*,*,*,*,天然,テンネン,テンネン\n",
            "ガス\t名詞,一般,*,*,*,*,ガス,ガス,ガス\n",
            "、\t記号,読点,*,*,*,*,、,、,、\n",
            "水素\t名詞,一般,*,*,*,*,水素,スイソ,スイソ\n",
            "ガス\t名詞,一般,*,*,*,*,ガス,ガス,ガス\n",
            "、\t記号,読点,*,*,*,*,、,、,、\n",
            "合成\t名詞,サ変接続,*,*,*,*,合成,ゴウセイ,ゴーセイ\n",
            "ガス\t名詞,一般,*,*,*,*,ガス,ガス,ガス\n",
            "から\t助詞,格助詞,一般,*,*,*,から,カラ,カラ\n",
            "、\t記号,読点,*,*,*,*,、,、,、\n",
            "および\t接続詞,*,*,*,*,*,および,オヨビ,オヨビ\n",
            "その他\t名詞,代名詞,一般,*,*,*,その他,ソノタ,ソノタ\n",
            "の\t助詞,連体化,*,*,*,*,の,ノ,ノ\n",
            "プロセス\t名詞,一般,*,*,*,*,プロセス,プロセス,プロセス\n",
            "から\t助詞,格助詞,一般,*,*,*,から,カラ,カラ\n",
            "、\t記号,読点,*,*,*,*,、,、,、\n",
            "ならびに\t接続詞,*,*,*,*,*,ならびに,ナラビニ,ナラビニ\n",
            "廃\t名詞,サ変接続,*,*,*,*,廃,ハイ,ハイ\n",
            "ガス\t名詞,一般,*,*,*,*,ガス,ガス,ガス\n",
            "流\t名詞,接尾,一般,*,*,*,流,リュウ,リュー\n",
            "から\t助詞,格助詞,一般,*,*,*,から,カラ,カラ\n",
            "ＣＯ\t名詞,固有名詞,組織,*,*,*,ＣＯ,*,*\n",
            "↓\t記号,一般,*,*,*,*,↓,↓,↓\n",
            "2\t名詞,数,*,*,*,*,2,*,*\n",
            "を\t助詞,格助詞,一般,*,*,*,を,ヲ,ヲ\n",
            "除去\t名詞,サ変接続,*,*,*,*,除去,ジョキョ,ジョキョ\n",
            "する\t動詞,自立,*,*,サ変・スル,基本形,する,スル,スル\n",
            "ため\t名詞,非自立,副詞可能,*,*,*,ため,タメ,タメ\n",
            "に\t助詞,格助詞,一般,*,*,*,に,ニ,ニ\n",
            "用い\t動詞,自立,*,*,一段,未然形,用いる,モチイ,モチイ\n",
            "られる\t動詞,接尾,*,*,一段,基本形,られる,ラレル,ラレル\n",
            "新た\t名詞,形容動詞語幹,*,*,*,*,新た,アラタ,アラタ\n",
            "な\t助動詞,*,*,*,特殊・ダ,体言接続,だ,ナ,ナ\n",
            "溶媒\t名詞,一般,*,*,*,*,溶媒,ヨウバイ,ヨーバイ\n",
            "および\t接続詞,*,*,*,*,*,および,オヨビ,オヨビ\n",
            "方法\t名詞,一般,*,*,*,*,方法,ホウホウ,ホーホー\n",
            "を\t助詞,格助詞,一般,*,*,*,を,ヲ,ヲ\n",
            "提供\t名詞,サ変接続,*,*,*,*,提供,テイキョウ,テイキョー\n",
            "する\t動詞,自立,*,*,サ変・スル,基本形,する,スル,スル\n",
            "9\n",
            "ガス\t名詞,一般,*,*,*,*,ガス,ガス,ガス\n",
            "中\t名詞,接尾,副詞可能,*,*,*,中,チュウ,チュー\n",
            "の\t助詞,連体化,*,*,*,*,の,ノ,ノ\n",
            "ＣＯ\t名詞,一般,*,*,*,*,ＣＯ,*,*\n",
            "↓\t記号,一般,*,*,*,*,↓,↓,↓\n",
            "2\t名詞,数,*,*,*,*,2,*,*\n",
            "又は\t接続詞,*,*,*,*,*,又は,マタハ,マタワ\n",
            "Ｈ\t記号,アルファベット,*,*,*,*,Ｈ,エイチ,エイチ\n",
            "↓\t記号,一般,*,*,*,*,↓,↓,↓\n",
            "2\t名詞,数,*,*,*,*,2,*,*\n",
            "Ｓ\t記号,アルファベット,*,*,*,*,Ｓ,エス,エス\n",
            "又は\t接続詞,*,*,*,*,*,又は,マタハ,マタワ\n",
            "その\t連体詞,*,*,*,*,*,その,ソノ,ソノ\n",
            "双方\t名詞,一般,*,*,*,*,双方,ソウホウ,ソーホー\n",
            "の\t助詞,連体化,*,*,*,*,の,ノ,ノ\n",
            "除去\t名詞,サ変接続,*,*,*,*,除去,ジョキョ,ジョキョ\n",
            "を\t助詞,格助詞,一般,*,*,*,を,ヲ,ヲ\n",
            "長時間\t名詞,副詞可能,*,*,*,*,長時間,チョウジカン,チョージカン\n",
            "に\t助詞,格助詞,一般,*,*,*,に,ニ,ニ\n",
            "亙っ\t動詞,自立,*,*,五段・ラ行,連用タ接続,亙る,ワタッ,ワタッ\n",
            "て\t助詞,接続助詞,*,*,*,*,て,テ,テ\n",
            "安定\t名詞,形容動詞語幹,*,*,*,*,安定,アンテイ,アンテイ\n",
            "し\t動詞,自立,*,*,サ変・スル,連用形,する,シ,シ\n",
            "て\t助詞,接続助詞,*,*,*,*,て,テ,テ\n",
            "除去\t名詞,サ変接続,*,*,*,*,除去,ジョキョ,ジョキョ\n",
            "でき\t動詞,自立,*,*,一段,連用形,できる,デキ,デキ\n",
            "、\t記号,読点,*,*,*,*,、,、,、\n",
            "しかも\t接続詞,*,*,*,*,*,しかも,シカモ,シカモ\n",
            "設備\t名詞,サ変接続,*,*,*,*,設備,セツビ,セツビ\n",
            "の\t助詞,連体化,*,*,*,*,の,ノ,ノ\n",
            "劣化\t名詞,サ変接続,*,*,*,*,劣化,レッカ,レッカ\n",
            "が\t助詞,格助詞,一般,*,*,*,が,ガ,ガ\n",
            "少ない\t形容詞,自立,*,*,形容詞・アウオ段,基本形,少ない,スクナイ,スクナイ\n",
            "吸収\t名詞,サ変接続,*,*,*,*,吸収,キュウシュウ,キューシュー\n",
            "液\t名詞,接尾,一般,*,*,*,液,エキ,エキ\n",
            "を\t助詞,格助詞,一般,*,*,*,を,ヲ,ヲ\n",
            "提供\t名詞,サ変接続,*,*,*,*,提供,テイキョウ,テイキョー\n",
            "する\t動詞,自立,*,*,サ変・スル,基本形,する,スル,スル\n"
          ]
        }
      ]
    },
    {
      "cell_type": "code",
      "source": [],
      "metadata": {
        "id": "H1i9YXWLhcGo"
      },
      "execution_count": null,
      "outputs": []
    }
  ]
}